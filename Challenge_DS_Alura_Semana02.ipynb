{
 "cells": [
  {
   "cell_type": "code",
   "execution_count": null,
   "metadata": {},
   "outputs": [],
   "source": [
    "print('----------------------------------')\n",
    "print('Quantidade de clientes ativos (No) e inativos (Yes)')\n",
    "print(df.Cliente_Inativo.value_counts())\n",
    "print('----------------------------------')\n",
    "print('Quantidade percentual de clientes ativos (No) e inativos (Yes)')\n",
    "print(df.Cliente_Inativo.value_counts(normalize=True).map(\"{:.1%}\".format))\n",
    "print('----------------------------------')"
   ]
  },
  {
   "cell_type": "code",
   "execution_count": null,
   "metadata": {},
   "outputs": [],
   "source": [
    "import plotly.express as px"
   ]
  },
  {
   "cell_type": "code",
   "execution_count": null,
   "metadata": {},
   "outputs": [],
   "source": [
    "# Plotando os gráficos relacionais\n",
    "for coluna in df.columns:\n",
    "    # para edições nos gráficos: https://plotly.com/python/histograms/\n",
    "    # para mudar a cor do gráfico , color_discrete_sequence=[\"blue\", \"green\"]\n",
    "    \n",
    "    grafico = px.histogram(df_plot, x=coluna, color=\"Cliente_Inativo\")\n",
    "    grafico.show()"
   ]
  }
 ],
 "metadata": {
  "language_info": {
   "name": "python"
  },
  "orig_nbformat": 4
 },
 "nbformat": 4,
 "nbformat_minor": 2
}
