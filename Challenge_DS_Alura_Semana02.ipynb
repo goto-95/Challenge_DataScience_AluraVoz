{
 "cells": [
  {
   "cell_type": "markdown",
   "metadata": {},
   "source": [
    "# **1 - Carregamento dos dados tratados**\n",
    "---\n",
    "Nesta etapa é realizada o carregamento dos dados já tratados previamente"
   ]
  },
  {
   "cell_type": "code",
   "execution_count": 1,
   "metadata": {},
   "outputs": [
    {
     "data": {
      "text/html": [
       "<div>\n",
       "<style scoped>\n",
       "    .dataframe tbody tr th:only-of-type {\n",
       "        vertical-align: middle;\n",
       "    }\n",
       "\n",
       "    .dataframe tbody tr th {\n",
       "        vertical-align: top;\n",
       "    }\n",
       "\n",
       "    .dataframe thead th {\n",
       "        text-align: right;\n",
       "    }\n",
       "</style>\n",
       "<table border=\"1\" class=\"dataframe\">\n",
       "  <thead>\n",
       "    <tr style=\"text-align: right;\">\n",
       "      <th></th>\n",
       "      <th>Cliente_Inativo</th>\n",
       "      <th>Sexo</th>\n",
       "      <th>Aposentado</th>\n",
       "      <th>Casado</th>\n",
       "      <th>Dependentes</th>\n",
       "      <th>Meses_Contrato</th>\n",
       "      <th>Assinatura_Telefone</th>\n",
       "      <th>Assinatura_MultiTelefone</th>\n",
       "      <th>Assinatura_Internet</th>\n",
       "      <th>Assinatura_Seguro_online</th>\n",
       "      <th>...</th>\n",
       "      <th>Assinatura_Seguro_dispositivo</th>\n",
       "      <th>Assinatura_Suporte_tecnico</th>\n",
       "      <th>Assinatura_TV</th>\n",
       "      <th>Assinatura_Filmes</th>\n",
       "      <th>Tipo_Contrato</th>\n",
       "      <th>Fatura_Online</th>\n",
       "      <th>Forma_Pagamento</th>\n",
       "      <th>Valor_Mensal</th>\n",
       "      <th>Valor_Diario</th>\n",
       "      <th>Valor_Anual</th>\n",
       "    </tr>\n",
       "  </thead>\n",
       "  <tbody>\n",
       "    <tr>\n",
       "      <th>0</th>\n",
       "      <td>0</td>\n",
       "      <td>0</td>\n",
       "      <td>0</td>\n",
       "      <td>0</td>\n",
       "      <td>0</td>\n",
       "      <td>9</td>\n",
       "      <td>0</td>\n",
       "      <td>0</td>\n",
       "      <td>0</td>\n",
       "      <td>0</td>\n",
       "      <td>...</td>\n",
       "      <td>0</td>\n",
       "      <td>0</td>\n",
       "      <td>0</td>\n",
       "      <td>0</td>\n",
       "      <td>0</td>\n",
       "      <td>0</td>\n",
       "      <td>0</td>\n",
       "      <td>65.6</td>\n",
       "      <td>2.186667</td>\n",
       "      <td>593.30</td>\n",
       "    </tr>\n",
       "    <tr>\n",
       "      <th>1</th>\n",
       "      <td>0</td>\n",
       "      <td>1</td>\n",
       "      <td>0</td>\n",
       "      <td>1</td>\n",
       "      <td>1</td>\n",
       "      <td>9</td>\n",
       "      <td>0</td>\n",
       "      <td>1</td>\n",
       "      <td>0</td>\n",
       "      <td>0</td>\n",
       "      <td>...</td>\n",
       "      <td>0</td>\n",
       "      <td>1</td>\n",
       "      <td>1</td>\n",
       "      <td>1</td>\n",
       "      <td>1</td>\n",
       "      <td>1</td>\n",
       "      <td>0</td>\n",
       "      <td>59.9</td>\n",
       "      <td>1.996667</td>\n",
       "      <td>542.40</td>\n",
       "    </tr>\n",
       "    <tr>\n",
       "      <th>2</th>\n",
       "      <td>1</td>\n",
       "      <td>1</td>\n",
       "      <td>0</td>\n",
       "      <td>1</td>\n",
       "      <td>1</td>\n",
       "      <td>4</td>\n",
       "      <td>0</td>\n",
       "      <td>0</td>\n",
       "      <td>1</td>\n",
       "      <td>0</td>\n",
       "      <td>...</td>\n",
       "      <td>1</td>\n",
       "      <td>1</td>\n",
       "      <td>1</td>\n",
       "      <td>0</td>\n",
       "      <td>1</td>\n",
       "      <td>0</td>\n",
       "      <td>1</td>\n",
       "      <td>73.9</td>\n",
       "      <td>2.463333</td>\n",
       "      <td>280.85</td>\n",
       "    </tr>\n",
       "    <tr>\n",
       "      <th>3</th>\n",
       "      <td>1</td>\n",
       "      <td>1</td>\n",
       "      <td>1</td>\n",
       "      <td>0</td>\n",
       "      <td>1</td>\n",
       "      <td>13</td>\n",
       "      <td>0</td>\n",
       "      <td>0</td>\n",
       "      <td>1</td>\n",
       "      <td>0</td>\n",
       "      <td>...</td>\n",
       "      <td>1</td>\n",
       "      <td>1</td>\n",
       "      <td>0</td>\n",
       "      <td>1</td>\n",
       "      <td>1</td>\n",
       "      <td>0</td>\n",
       "      <td>1</td>\n",
       "      <td>98.0</td>\n",
       "      <td>3.266667</td>\n",
       "      <td>1237.85</td>\n",
       "    </tr>\n",
       "    <tr>\n",
       "      <th>4</th>\n",
       "      <td>1</td>\n",
       "      <td>0</td>\n",
       "      <td>1</td>\n",
       "      <td>0</td>\n",
       "      <td>1</td>\n",
       "      <td>3</td>\n",
       "      <td>0</td>\n",
       "      <td>0</td>\n",
       "      <td>1</td>\n",
       "      <td>0</td>\n",
       "      <td>...</td>\n",
       "      <td>0</td>\n",
       "      <td>0</td>\n",
       "      <td>0</td>\n",
       "      <td>0</td>\n",
       "      <td>1</td>\n",
       "      <td>0</td>\n",
       "      <td>0</td>\n",
       "      <td>83.9</td>\n",
       "      <td>2.796667</td>\n",
       "      <td>267.40</td>\n",
       "    </tr>\n",
       "  </tbody>\n",
       "</table>\n",
       "<p>5 rows × 21 columns</p>\n",
       "</div>"
      ],
      "text/plain": [
       "   Cliente_Inativo  Sexo  Aposentado  Casado  Dependentes  Meses_Contrato  \\\n",
       "0                0     0           0       0            0               9   \n",
       "1                0     1           0       1            1               9   \n",
       "2                1     1           0       1            1               4   \n",
       "3                1     1           1       0            1              13   \n",
       "4                1     0           1       0            1               3   \n",
       "\n",
       "   Assinatura_Telefone  Assinatura_MultiTelefone  Assinatura_Internet  \\\n",
       "0                    0                         0                    0   \n",
       "1                    0                         1                    0   \n",
       "2                    0                         0                    1   \n",
       "3                    0                         0                    1   \n",
       "4                    0                         0                    1   \n",
       "\n",
       "   Assinatura_Seguro_online  ...  Assinatura_Seguro_dispositivo  \\\n",
       "0                         0  ...                              0   \n",
       "1                         0  ...                              0   \n",
       "2                         0  ...                              1   \n",
       "3                         0  ...                              1   \n",
       "4                         0  ...                              0   \n",
       "\n",
       "   Assinatura_Suporte_tecnico  Assinatura_TV  Assinatura_Filmes  \\\n",
       "0                           0              0                  0   \n",
       "1                           1              1                  1   \n",
       "2                           1              1                  0   \n",
       "3                           1              0                  1   \n",
       "4                           0              0                  0   \n",
       "\n",
       "   Tipo_Contrato  Fatura_Online  Forma_Pagamento  Valor_Mensal  Valor_Diario  \\\n",
       "0              0              0                0          65.6      2.186667   \n",
       "1              1              1                0          59.9      1.996667   \n",
       "2              1              0                1          73.9      2.463333   \n",
       "3              1              0                1          98.0      3.266667   \n",
       "4              1              0                0          83.9      2.796667   \n",
       "\n",
       "   Valor_Anual  \n",
       "0       593.30  \n",
       "1       542.40  \n",
       "2       280.85  \n",
       "3      1237.85  \n",
       "4       267.40  \n",
       "\n",
       "[5 rows x 21 columns]"
      ]
     },
     "execution_count": 1,
     "metadata": {},
     "output_type": "execute_result"
    }
   ],
   "source": [
    "import pandas as pd\n",
    "\n",
    "df = pd.read_csv('dados_tratados.csv')\n",
    "df.head()"
   ]
  },
  {
   "cell_type": "markdown",
   "metadata": {},
   "source": [
    "# **2 - Análise quantitativa dos cancelamentos**\n",
    "---\n",
    "A primeira análise a ser realizada é saber o percentual de cancelamento dos clientes. Utilizanda função *value_counts()* conseguimos realizar a contagem de clientes ativos (=0) e inativos (0). Como mostrado abaixo, tem-se que cerca de 26.6% dos clientes pediram cancelamento do plano. Como é um valor significativamente alto, é necessário realizar algumas avaliações dos perfis dos clientes que solicitaram o cancelamento do plano contratado.\n"
   ]
  },
  {
   "cell_type": "code",
   "execution_count": 2,
   "metadata": {},
   "outputs": [
    {
     "name": "stdout",
     "output_type": "stream",
     "text": [
      "----------------------------------\n",
      "Quantidade de clientes ativos (0) e inativos (1)\n",
      "0    5163\n",
      "1    1869\n",
      "Name: Cliente_Inativo, dtype: int64\n",
      "----------------------------------\n",
      "Quantidade percentual de clientes ativos (0) e inativos (1)\n",
      "0    73.4%\n",
      "1    26.6%\n",
      "Name: Cliente_Inativo, dtype: object\n",
      "----------------------------------\n"
     ]
    }
   ],
   "source": [
    "print('----------------------------------')\n",
    "print('Quantidade de clientes ativos (0) e inativos (1)')\n",
    "print(df.Cliente_Inativo.value_counts())\n",
    "print('----------------------------------')\n",
    "print('Quantidade percentual de clientes ativos (0) e inativos (1)')\n",
    "print(df.Cliente_Inativo.value_counts(normalize=True).map(\"{:.1%}\".format))\n",
    "print('----------------------------------')"
   ]
  },
  {
   "cell_type": "markdown",
   "metadata": {},
   "source": [
    "# **3 -  Análise correlacional entre os dados**\n",
    "---\n",
    "A primeira etapa para a análise será de investigar a relação entre os dados dos clientes como uma forma de identificar o perfil do cliente que pedem cancelamento do plano. Para isto, é utilizada a matriz de correlação para mostrar gráficamente se há correlação entre os dados dos clientes.\n",
    "\n",
    "Com base no gráfico apresentado abaixo, é possível observar que:\n",
    "\n",
    "1. Os clientes que possuem ***assinatura de TV*** também tendem a assinar os serviços de ***backup***, ***suporte técnico***, ***internet***, ***seguro online***, ***seguro do dispositivo móvel*** e o de ***filmes.***\n",
    "2. Em particular, os clientes que assinam os serviços de ***seguro,*** tanto o online quanto o do dispositivo móvel, tendem a preferir pela a optar pela cobrança online.\n",
    "3. Os clientes que assinam os serviços de telefone, tanto o da linha normal quanto o multi-linha, não apresentam interesse em adquirir os demais serviços\n",
    "4. O perfil dos clientes inativos indicam uma significativa correlação negativa com o valor anual do plano. Enquanto que apresentam uma correlação positiva com o valor mensal. Este comportamento precisa ser avaliado com mais detalhes.\n",
    "5. A coluna de clientes inativos apresenta uma correlação negativa com a coluna de ***Meses_Contrato*** que indica o tempo do contrato em meses. Enquanto apresenta uma correlação positiva com a coluna ***dependentes***."
   ]
  },
  {
   "cell_type": "code",
   "execution_count": 3,
   "metadata": {},
   "outputs": [],
   "source": [
    "import pandas as pd\n",
    "import numpy as np\n",
    "import matplotlib.pyplot as plt\n",
    "import seaborn as sns\n",
    "import plotly.express as px\n",
    "import plotly.io as pio # Para imprimir e salvar as imagens\n",
    "from biokit.viz import corrplot # Para a plotagem da matriz de correlação"
   ]
  },
  {
   "cell_type": "code",
   "execution_count": 4,
   "metadata": {},
   "outputs": [
    {
     "data": {
      "image/png": "[encoded data removed]",
      "text/plain": [
       "<Figure size 6480x1080 with 2 Axes>"
      ]
     },
     "metadata": {},
     "output_type": "display_data"
    }
   ],
   "source": [
    "# Avaliando graficamente\n",
    "matriz_corr = df.corr()\n",
    "corr_graph = corrplot.Corrplot(matriz_corr)\n",
    "corr_graph.plot(upper='ellipse',fontsize='x-large',shrink=1)\n",
    "fig = plt.gcf()\n",
    "fig.set_size_inches(90,15)"
   ]
  },
  {
   "cell_type": "markdown",
   "metadata": {},
   "source": [
    "# **4 - Análise gráfica do perfil dos clientes**\n",
    "---\n",
    "\n",
    "A próxima etapa é avaliar gráficamente a relação entre as variáveis e o perfil do cliente que solicita o cancelamento do plano."
   ]
  },
  {
   "cell_type": "markdown",
   "metadata": {},
   "source": [
    "## **4.1 - Análise da evasão de clientes**\n",
    "\n",
    "O gráfico abaixo exibe o resultado já observado anteriormente, onde um pouco mais de 26% dos clientes pediram o cancelamento do plano."
   ]
  },
  {
   "cell_type": "code",
   "execution_count": 5,
   "metadata": {},
   "outputs": [
    {
     "data": {
      "application/vnd.plotly.v1+json": {
       "config": {
        "plotlyServerURL": "https://plot.ly"
       },
       "data": [
        {
         "alignmentgroup": "True",
         "cliponaxis": false,
         "hovertemplate": "Situação do cliente=%{x}<br>Percentual=%{text}<extra></extra>",
         "legendgroup": "Ativo",
         "marker": {
          "color": "#636efa",
          "line": {
           "color": "rgb(0,0,0)",
           "width": 1.5
          },
          "pattern": {
           "shape": ""
          }
         },
         "name": "Ativo",
         "offsetgroup": "Ativo",
         "opacity": 0.8,
         "orientation": "v",
         "showlegend": true,
         "text": [
          73.4
         ],
         "textangle": 0,
         "textfont": {
          "size": 16
         },
         "textposition": "inside",
         "type": "bar",
         "x": [
          "Ativo"
         ],
         "xaxis": "x",
         "y": [
          73.4
         ],
         "yaxis": "y"
        },
        {
         "alignmentgroup": "True",
         "cliponaxis": false,
         "hovertemplate": "Situação do cliente=%{x}<br>Percentual=%{text}<extra></extra>",
         "legendgroup": "Inativo",
         "marker": {
          "color": "#EF553B",
          "line": {
           "color": "rgb(0,0,0)",
           "width": 1.5
          },
          "pattern": {
           "shape": ""
          }
         },
         "name": "Inativo",
         "offsetgroup": "Inativo",
         "opacity": 0.8,
         "orientation": "v",
         "showlegend": true,
         "text": [
          26.6
         ],
         "textangle": 0,
         "textfont": {
          "size": 16
         },
         "textposition": "inside",
         "type": "bar",
         "x": [
          "Inativo"
         ],
         "xaxis": "x",
         "y": [
          26.6
         ],
         "yaxis": "y"
        }
       ],
       "layout": {
        "barmode": "relative",
        "legend": {
         "title": {
          "text": "Situação do cliente"
         },
         "tracegroupgap": 0
        },
        "template": {
         "data": {
          "bar": [
           {
            "error_x": {
             "color": "#2a3f5f"
            },
            "error_y": {
             "color": "#2a3f5f"
            },
            "marker": {
             "line": {
              "color": "#E5ECF6",
              "width": 0.5
             },
             "pattern": {
              "fillmode": "overlay",
              "size": 10,
              "solidity": 0.2
             }
            },
            "type": "bar"
           }
          ],
          "barpolar": [
           {
            "marker": {
             "line": {
              "color": "#E5ECF6",
              "width": 0.5
             },
             "pattern": {
              "fillmode": "overlay",
              "size": 10,
              "solidity": 0.2
             }
            },
            "type": "barpolar"
           }
          ],
          "carpet": [
           {
            "aaxis": {
             "endlinecolor": "#2a3f5f",
             "gridcolor": "white",
             "linecolor": "white",
             "minorgridcolor": "white",
             "startlinecolor": "#2a3f5f"
            },
            "baxis": {
             "endlinecolor": "#2a3f5f",
             "gridcolor": "white",
             "linecolor": "white",
             "minorgridcolor": "white",
             "startlinecolor": "#2a3f5f"
            },
            "type": "carpet"
           }
          ],
          "choropleth": [
           {
            "colorbar": {
             "outlinewidth": 0,
             "ticks": ""
            },
            "type": "choropleth"
           }
          ],
          "contour": [
           {
            "colorbar": {
             "outlinewidth": 0,
             "ticks": ""
            },
            "colorscale": [
             [
              0,
              "#0d0887"
             ],
             [
              0.1111111111111111,
              "#46039f"
             ],
             [
              0.2222222222222222,
              "#7201a8"
             ],
             [
              0.3333333333333333,
              "#9c179e"
             ],
             [
              0.4444444444444444,
              "#bd3786"
             ],
             [
              0.5555555555555556,
              "#d8576b"
             ],
             [
              0.6666666666666666,
              "#ed7953"
             ],
             [
              0.7777777777777778,
              "#fb9f3a"
             ],
             [
              0.8888888888888888,
              "#fdca26"
             ],
             [
              1,
              "#f0f921"
             ]
            ],
            "type": "contour"
           }
          ],
          "contourcarpet": [
           {
            "colorbar": {
             "outlinewidth": 0,
             "ticks": ""
            },
            "type": "contourcarpet"
           }
          ],
          "heatmap": [
           {
            "colorbar": {
             "outlinewidth": 0,
             "ticks": ""
            },
            "colorscale": [
             [
              0,
              "#0d0887"
             ],
             [
              0.1111111111111111,
              "#46039f"
             ],
             [
              0.2222222222222222,
              "#7201a8"
             ],
             [
              0.3333333333333333,
              "#9c179e"
             ],
             [
              0.4444444444444444,
              "#bd3786"
             ],
             [
              0.5555555555555556,
              "#d8576b"
             ],
             [
              0.6666666666666666,
              "#ed7953"
             ],
             [
              0.7777777777777778,
              "#fb9f3a"
             ],
             [
              0.8888888888888888,
              "#fdca26"
             ],
             [
              1,
              "#f0f921"
             ]
            ],
            "type": "heatmap"
           }
          ],
          "heatmapgl": [
           {
            "colorbar": {
             "outlinewidth": 0,
             "ticks": ""
            },
            "colorscale": [
             [
              0,
              "#0d0887"
             ],
             [
              0.1111111111111111,
              "#46039f"
             ],
             [
              0.2222222222222222,
              "#7201a8"
             ],
             [
              0.3333333333333333,
              "#9c179e"
             ],
             [
              0.4444444444444444,
              "#bd3786"
             ],
             [
              0.5555555555555556,
              "#d8576b"
             ],
             [
              0.6666666666666666,
              "#ed7953"
             ],
             [
              0.7777777777777778,
              "#fb9f3a"
             ],
             [
              0.8888888888888888,
              "#fdca26"
             ],
             [
              1,
              "#f0f921"
             ]
            ],
            "type": "heatmapgl"
           }
          ],
          "histogram": [
           {
            "marker": {
             "pattern": {
              "fillmode": "overlay",
              "size": 10,
              "solidity": 0.2
             }
            },
            "type": "histogram"
           }
          ],
          "histogram2d": [
           {
            "colorbar": {
             "outlinewidth": 0,
             "ticks": ""
            },
            "colorscale": [
             [
              0,
              "#0d0887"
             ],
             [
              0.1111111111111111,
              "#46039f"
             ],
             [
              0.2222222222222222,
              "#7201a8"
             ],
             [
              0.3333333333333333,
              "#9c179e"
             ],
             [
              0.4444444444444444,
              "#bd3786"
             ],
             [
              0.5555555555555556,
              "#d8576b"
             ],
             [
              0.6666666666666666,
              "#ed7953"
             ],
             [
              0.7777777777777778,
              "#fb9f3a"
             ],
             [
              0.8888888888888888,
              "#fdca26"
             ],
             [
              1,
              "#f0f921"
             ]
            ],
            "type": "histogram2d"
           }
          ],
          "histogram2dcontour": [
           {
            "colorbar": {
             "outlinewidth": 0,
             "ticks": ""
            },
            "colorscale": [
             [
              0,
              "#0d0887"
             ],
             [
              0.1111111111111111,
              "#46039f"
             ],
             [
              0.2222222222222222,
              "#7201a8"
             ],
             [
              0.3333333333333333,
              "#9c179e"
             ],
             [
              0.4444444444444444,
              "#bd3786"
             ],
             [
              0.5555555555555556,
              "#d8576b"
             ],
             [
              0.6666666666666666,
              "#ed7953"
             ],
             [
              0.7777777777777778,
              "#fb9f3a"
             ],
             [
              0.8888888888888888,
              "#fdca26"
             ],
             [
              1,
              "#f0f921"
             ]
            ],
            "type": "histogram2dcontour"
           }
          ],
          "mesh3d": [
           {
            "colorbar": {
             "outlinewidth": 0,
             "ticks": ""
            },
            "type": "mesh3d"
           }
          ],
          "parcoords": [
           {
            "line": {
             "colorbar": {
              "outlinewidth": 0,
              "ticks": ""
             }
            },
            "type": "parcoords"
           }
          ],
          "pie": [
           {
            "automargin": true,
            "type": "pie"
           }
          ],
          "scatter": [
           {
            "marker": {
             "colorbar": {
              "outlinewidth": 0,
              "ticks": ""
             }
            },
            "type": "scatter"
           }
          ],
          "scatter3d": [
           {
            "line": {
             "colorbar": {
              "outlinewidth": 0,
              "ticks": ""
             }
            },
            "marker": {
             "colorbar": {
              "outlinewidth": 0,
              "ticks": ""
             }
            },
            "type": "scatter3d"
           }
          ],
          "scattercarpet": [
           {
            "marker": {
             "colorbar": {
              "outlinewidth": 0,
              "ticks": ""
             }
            },
            "type": "scattercarpet"
           }
          ],
          "scattergeo": [
           {
            "marker": {
             "colorbar": {
              "outlinewidth": 0,
              "ticks": ""
             }
            },
            "type": "scattergeo"
           }
          ],
          "scattergl": [
           {
            "marker": {
             "colorbar": {
              "outlinewidth": 0,
              "ticks": ""
             }
            },
            "type": "scattergl"
           }
          ],
          "scattermapbox": [
           {
            "marker": {
             "colorbar": {
              "outlinewidth": 0,
              "ticks": ""
             }
            },
            "type": "scattermapbox"
           }
          ],
          "scatterpolar": [
           {
            "marker": {
             "colorbar": {
              "outlinewidth": 0,
              "ticks": ""
             }
            },
            "type": "scatterpolar"
           }
          ],
          "scatterpolargl": [
           {
            "marker": {
             "colorbar": {
              "outlinewidth": 0,
              "ticks": ""
             }
            },
            "type": "scatterpolargl"
           }
          ],
          "scatterternary": [
           {
            "marker": {
             "colorbar": {
              "outlinewidth": 0,
              "ticks": ""
             }
            },
            "type": "scatterternary"
           }
          ],
          "surface": [
           {
            "colorbar": {
             "outlinewidth": 0,
             "ticks": ""
            },
            "colorscale": [
             [
              0,
              "#0d0887"
             ],
             [
              0.1111111111111111,
              "#46039f"
             ],
             [
              0.2222222222222222,
              "#7201a8"
             ],
             [
              0.3333333333333333,
              "#9c179e"
             ],
             [
              0.4444444444444444,
              "#bd3786"
             ],
             [
              0.5555555555555556,
              "#d8576b"
             ],
             [
              0.6666666666666666,
              "#ed7953"
             ],
             [
              0.7777777777777778,
              "#fb9f3a"
             ],
             [
              0.8888888888888888,
              "#fdca26"
             ],
             [
              1,
              "#f0f921"
             ]
            ],
            "type": "surface"
           }
          ],
          "table": [
           {
            "cells": {
             "fill": {
              "color": "#EBF0F8"
             },
             "line": {
              "color": "white"
             }
            },
            "header": {
             "fill": {
              "color": "#C8D4E3"
             },
             "line": {
              "color": "white"
             }
            },
            "type": "table"
           }
          ]
         },
         "layout": {
          "annotationdefaults": {
           "arrowcolor": "#2a3f5f",
           "arrowhead": 0,
           "arrowwidth": 1
          },
          "autotypenumbers": "strict",
          "coloraxis": {
           "colorbar": {
            "outlinewidth": 0,
            "ticks": ""
           }
          },
          "colorscale": {
           "diverging": [
            [
             0,
             "#8e0152"
            ],
            [
             0.1,
             "#c51b7d"
            ],
            [
             0.2,
             "#de77ae"
            ],
            [
             0.3,
             "#f1b6da"
            ],
            [
             0.4,
             "#fde0ef"
            ],
            [
             0.5,
             "#f7f7f7"
            ],
            [
             0.6,
             "#e6f5d0"
            ],
            [
             0.7,
             "#b8e186"
            ],
            [
             0.8,
             "#7fbc41"
            ],
            [
             0.9,
             "#4d9221"
            ],
            [
             1,
             "#276419"
            ]
           ],
           "sequential": [
            [
             0,
             "#0d0887"
            ],
            [
             0.1111111111111111,
             "#46039f"
            ],
            [
             0.2222222222222222,
             "#7201a8"
            ],
            [
             0.3333333333333333,
             "#9c179e"
            ],
            [
             0.4444444444444444,
             "#bd3786"
            ],
            [
             0.5555555555555556,
             "#d8576b"
            ],
            [
             0.6666666666666666,
             "#ed7953"
            ],
            [
             0.7777777777777778,
             "#fb9f3a"
            ],
            [
             0.8888888888888888,
             "#fdca26"
            ],
            [
             1,
             "#f0f921"
            ]
           ],
           "sequentialminus": [
            [
             0,
             "#0d0887"
            ],
            [
             0.1111111111111111,
             "#46039f"
            ],
            [
             0.2222222222222222,
             "#7201a8"
            ],
            [
             0.3333333333333333,
             "#9c179e"
            ],
            [
             0.4444444444444444,
             "#bd3786"
            ],
            [
             0.5555555555555556,
             "#d8576b"
            ],
            [
             0.6666666666666666,
             "#ed7953"
            ],
            [
             0.7777777777777778,
             "#fb9f3a"
            ],
            [
             0.8888888888888888,
             "#fdca26"
            ],
            [
             1,
             "#f0f921"
            ]
           ]
          },
          "colorway": [
           "#636efa",
           "#EF553B",
           "#00cc96",
           "#ab63fa",
           "#FFA15A",
           "#19d3f3",
           "#FF6692",
           "#B6E880",
           "#FF97FF",
           "#FECB52"
          ],
          "font": {
           "color": "#2a3f5f"
          },
          "geo": {
           "bgcolor": "white",
           "lakecolor": "white",
           "landcolor": "#E5ECF6",
           "showlakes": true,
           "showland": true,
           "subunitcolor": "white"
          },
          "hoverlabel": {
           "align": "left"
          },
          "hovermode": "closest",
          "mapbox": {
           "style": "light"
          },
          "paper_bgcolor": "white",
          "plot_bgcolor": "#E5ECF6",
          "polar": {
           "angularaxis": {
            "gridcolor": "white",
            "linecolor": "white",
            "ticks": ""
           },
           "bgcolor": "#E5ECF6",
           "radialaxis": {
            "gridcolor": "white",
            "linecolor": "white",
            "ticks": ""
           }
          },
          "scene": {
           "xaxis": {
            "backgroundcolor": "#E5ECF6",
            "gridcolor": "white",
            "gridwidth": 2,
            "linecolor": "white",
            "showbackground": true,
            "ticks": "",
            "zerolinecolor": "white"
           },
           "yaxis": {
            "backgroundcolor": "#E5ECF6",
            "gridcolor": "white",
            "gridwidth": 2,
            "linecolor": "white",
            "showbackground": true,
            "ticks": "",
            "zerolinecolor": "white"
           },
           "zaxis": {
            "backgroundcolor": "#E5ECF6",
            "gridcolor": "white",
            "gridwidth": 2,
            "linecolor": "white",
            "showbackground": true,
            "ticks": "",
            "zerolinecolor": "white"
           }
          },
          "shapedefaults": {
           "line": {
            "color": "#2a3f5f"
           }
          },
          "ternary": {
           "aaxis": {
            "gridcolor": "white",
            "linecolor": "white",
            "ticks": ""
           },
           "baxis": {
            "gridcolor": "white",
            "linecolor": "white",
            "ticks": ""
           },
           "bgcolor": "#E5ECF6",
           "caxis": {
            "gridcolor": "white",
            "linecolor": "white",
            "ticks": ""
           }
          },
          "title": {
           "x": 0.05
          },
          "xaxis": {
           "automargin": true,
           "gridcolor": "white",
           "linecolor": "white",
           "ticks": "",
           "title": {
            "standoff": 15
           },
           "zerolinecolor": "white",
           "zerolinewidth": 2
          },
          "yaxis": {
           "automargin": true,
           "gridcolor": "white",
           "linecolor": "white",
           "ticks": "",
           "title": {
            "standoff": 15
           },
           "zerolinecolor": "white",
           "zerolinewidth": 2
          }
         }
        },
        "title": {
         "text": "Avaliação da taxa de evasão dos clientes"
        },
        "xaxis": {
         "anchor": "y",
         "categoryarray": [
          "Ativo",
          "Inativo"
         ],
         "categoryorder": "array",
         "domain": [
          0,
          1
         ],
         "title": {
          "text": "Situação do cliente"
         }
        },
        "yaxis": {
         "anchor": "x",
         "domain": [
          0,
          1
         ],
         "title": {
          "text": "Percentual"
         }
        }
       }
      }
     },
     "metadata": {},
     "output_type": "display_data"
    }
   ],
   "source": [
    "# Criadno um dataframe temporário para plotar o gráfico de evasão de clientes\n",
    "df_inativo = df.Cliente_Inativo.value_counts(normalize=True)*100\n",
    "df_inativo = df_inativo.to_frame().reset_index()\n",
    "df_inativo.columns = ['Situação do cliente', 'Percentual']\n",
    "df_inativo['Situação do cliente'] = df_inativo['Situação do cliente'].map({0:'Ativo', 1:'Inativo'})\n",
    "df_inativo['Percentual'] = df_inativo['Percentual'].round(1)\n",
    "\n",
    "fig = px.bar(df_inativo, x = df_inativo['Situação do cliente'], y = df_inativo['Percentual'], color = \"Situação do cliente\", text='Percentual',\n",
    "    title=\"Avaliação da taxa de evasão dos clientes\")\n",
    "fig.update_traces(textfont_size=16, textangle=0, textposition=\"inside\", cliponaxis=False, opacity=0.8, marker_line_width=1.5,\n",
    "    marker_line_color = 'rgb(0,0,0)')\n",
    "fig.show()"
   ]
  },
  {
   "cell_type": "markdown",
   "metadata": {},
   "source": [
    "## **4.2 - Perfil de gastos dos clientes**\n",
    "\n",
    "A primeira hipótese é verificar se o valor do plano adotado influencia na tomada de decisão do cliente. Assim, é analisada o perfil de dos valores mensais e anuais dos planos adquiridos e a porcentagem de clientes que estão inativo para cada faixa de valor. "
   ]
  },
  {
   "cell_type": "markdown",
   "metadata": {},
   "source": [
    "### **4.2.1 - Perfil de gasto mensal dos clientes**\n",
    "\n",
    "O gráfico a seguir apresenta o histograma dos valores mensais dos planos e a respectiva porcentagem de cancelamento (indicada em cor vermelha). Pode-se que:\n",
    "\n",
    "1. Os planos com valores mensais abaixo de $ 20,00 apresentam as mais altas taxas de cancelamentos, cerca de 37%.\n",
    "2. Os demais planos apresentam a taxa dee cancelamento próximo da média já observada, que é de 25%."
   ]
  },
  {
   "cell_type": "code",
   "execution_count": 6,
   "metadata": {},
   "outputs": [
    {
     "data": {
      "application/vnd.plotly.v1+json": {
       "config": {
        "plotlyServerURL": "https://plot.ly"
       },
       "data": [
        {
         "alignmentgroup": "True",
         "bingroup": "x",
         "hovertemplate": "Situação do cliente=Ativo<br>Valor mensal do plano=%{x}<br>count (normalized as percent)=%{y}<extra></extra>",
         "legendgroup": "Ativo",
         "marker": {
          "color": "#636efa",
          "line": {
           "color": "rgb(0,0,0)",
           "width": 1.5
          },
          "pattern": {
           "shape": ""
          }
         },
         "name": "Ativo",
         "nbinsx": 8,
         "offsetgroup": "Ativo",
         "opacity": 0.8,
         "orientation": "v",
         "showlegend": true,
         "type": "histogram",
         "x": [
          20.05,
          19.85,
          20,
          19.7,
          20.15,
          19.55,
          19.75,
          20.25,
          20.35,
          19.8,
          19.6,
          20.1,
          20.2,
          19.5,
          19.4,
          20.5,
          19.45,
          20.55,
          20.65,
          25.25,
          25.1,
          19.25,
          19.2,
          25,
          20.75,
          84.8,
          74.4,
          24.8,
          20.85,
          24.45,
          81,
          20.6,
          80.45,
          25.15,
          25.05,
          79.2,
          70.15,
          20.7,
          75.35,
          89.55,
          69.95,
          89.85,
          95,
          75.5,
          24.7,
          94.4,
          70.3,
          84.3,
          80.55,
          24.95,
          74.9,
          85.45,
          25.4,
          24.4,
          50.15,
          74.3,
          45,
          75.3,
          60,
          80,
          80.6,
          74.35,
          24.9,
          104.4,
          74.95,
          84.6,
          25.45,
          94.1,
          25.2,
          25.3,
          50.55,
          100.55,
          95.65,
          69.75,
          99.5,
          24.75,
          74.75,
          45.3,
          20.9,
          90.8,
          25.7,
          25.6,
          73.85,
          85.35,
          80.3,
          69.7,
          89.1,
          49.85,
          44.45,
          74.6,
          99.65,
          54.75,
          85.2,
          70.7,
          54.65,
          94.45,
          94,
          84.05,
          100.3,
          79.95,
          104.05,
          74.55,
          79.6,
          69.35,
          55.8,
          74.65,
          70.4,
          59.45,
          84.45,
          94.75,
          85.95,
          94.2,
          54.2,
          70.35,
          94.65,
          55.7,
          84.5,
          89.4,
          75.2,
          70.2,
          90.7,
          90.15,
          89.2,
          54.45,
          80.2,
          90.35,
          93.85,
          94.7,
          85.25,
          44.6,
          80.1,
          24.1,
          105,
          100.2,
          89.9,
          100.15,
          89.8,
          105.35,
          80.8,
          69.9,
          75.75,
          80.7,
          95.5,
          84.4,
          104.1,
          85.15,
          25.55,
          94.8,
          85,
          95.15,
          75.55,
          74.45,
          84.9,
          84.35,
          75.4,
          48.8,
          24.65,
          70,
          84.85,
          78.45,
          79.9,
          69.2,
          71.1,
          50.35,
          25.75,
          49.55,
          85.7,
          79.7,
          69.05,
          84.1,
          69,
          70.55,
          86.1,
          94.25,
          80.15,
          101.15,
          59.9,
          105.25,
          69.8,
          90.95,
          24.5,
          104.15,
          69.85,
          71,
          103.95,
          50.05,
          78.9,
          24.3,
          109.55,
          79,
          50.8,
          49.4,
          54.55,
          99.8,
          75.15,
          49.8,
          80.25,
          54.3,
          66.4,
          94.9,
          78.85,
          105.2,
          94.55,
          45.4,
          73.55,
          79.35,
          106.1,
          79.25,
          105.1,
          59.75,
          84.7,
          83.85,
          19,
          84.95,
          69.6,
          45.55,
          70.5,
          44.95,
          75.9,
          50.95,
          56.25,
          74.7,
          49.2,
          45.05,
          74.85,
          90.65,
          90.25,
          75.7,
          65.2,
          35.75,
          59.85,
          54.15,
          89.65,
          68.75,
          49.15,
          50.25,
          104.45,
          91.25,
          40.65,
          44.65,
          104.3,
          99.05,
          45.65,
          18.95,
          74.05,
          45.85,
          54.9,
          70.95,
          55.25,
          26,
          24.05,
          54.6,
          84.2,
          100.6,
          24.55,
          89.95,
          89.6,
          100.25,
          99.45,
          104.9,
          60.05,
          110.8,
          50.6,
          76.1,
          95.7,
          53.65,
          70.6,
          65.25,
          110.5,
          105.05,
          65.6,
          101.1,
          95.6,
          72.1,
          34.7,
          85.8,
          101.3,
          68.95,
          89.3,
          104.8,
          24.15,
          88.8,
          96.1,
          21.05,
          85.65,
          95.4,
          104.5,
          99.4,
          44.4,
          99.95,
          49.25,
          26.1,
          93.9,
          45.15,
          91.7,
          73.5,
          99.85,
          86.55,
          61.35,
          24.2,
          76.4,
          50.2,
          71.05,
          79.8,
          89.25,
          39.1,
          82,
          55.2,
          101.9,
          96.55,
          81.3,
          60.25,
          21.1,
          91,
          59.5,
          58.6,
          110.45,
          73.6,
          49.95,
          106.4,
          73.9,
          98.9,
          49.05,
          44.75,
          78.8,
          59.6,
          40.2,
          50.9,
          54.85,
          24,
          95.2,
          50,
          100.65,
          76.05,
          106.35,
          55.9,
          92,
          103.7,
          64.75,
          25.5,
          106,
          54.35,
          83.55,
          65.5,
          35.4,
          69.4,
          44,
          85.6,
          79.05,
          55.45,
          50.1,
          76.45,
          50.7,
          59.55,
          90,
          89,
          89.35,
          25.35,
          45.2,
          113.65,
          66.25,
          95.3,
          94.6,
          101.4,
          75.6,
          85.05,
          18.85,
          69.25,
          75.25,
          100.85,
          54.5,
          106.05,
          105.95,
          74,
          43.95,
          88.95,
          70.8,
          60.9,
          96.75,
          55.65,
          48.95,
          108.1,
          70.65,
          64.9,
          97.95,
          93.5,
          85.75,
          96.65,
          84.65,
          66.05,
          30.4,
          51.05,
          104,
          107.5,
          93.25,
          88.35,
          95.75,
          45.1,
          64.35,
          99.9,
          59,
          64.65,
          99.75,
          23.9,
          105.9,
          107.95,
          115.55,
          98.5,
          105.7,
          33.6,
          66.15,
          40.55,
          103.15,
          53.45,
          60.5,
          82.3,
          35.1,
          104.35,
          109.9,
          45.7,
          81.45,
          115.15,
          91.3,
          108.15,
          87.1,
          80.9,
          78.5,
          50.45,
          44.9,
          86,
          64.45,
          45.8,
          115.05,
          75.05,
          46.3,
          49.75,
          85.4,
          75.45,
          55.1,
          93.4,
          48.7,
          106.6,
          47.85,
          97.65,
          54.8,
          50.4,
          70.85,
          45.35,
          35,
          30.5,
          92.55,
          53.95,
          87.55,
          99.3,
          88.4,
          108.75,
          104.6,
          60.95,
          44.3,
          98.85,
          91.1,
          100.8,
          55.05,
          59.65,
          23.95,
          60.15,
          43.8,
          25.65,
          83.2,
          94.35,
          54.1,
          96.8,
          110,
          115.8,
          35.45,
          84,
          101.05,
          94.95,
          98.8,
          51.25,
          56.75,
          83.8,
          55.55,
          90.5,
          97,
          64.8,
          104.7,
          83.75,
          96.2,
          54.95,
          64.85,
          60.3,
          44.15,
          78.55,
          99.55,
          99.35,
          109.4,
          86.65,
          110.75,
          44.05,
          81.5,
          53.8,
          75.65,
          95.85,
          110.1,
          59.1,
          86.8,
          53.85,
          104.95,
          56.3,
          106.5,
          81.05,
          91.85,
          93.35,
          88.15,
          51.2,
          116.25,
          91.35,
          59.3,
          109.15,
          105.85,
          35.05,
          83.9,
          40.1,
          81.85,
          35.2,
          68.65,
          103.25,
          111.25,
          58.95,
          26.45,
          76.25,
          109.5,
          88.45,
          103.9,
          93.15,
          87.25,
          82.5,
          34,
          55.95,
          88.7,
          103.05,
          115.1,
          64.1,
          40.05,
          73.8,
          34.2,
          25.85,
          98.35,
          78.1,
          65.85,
          106.75,
          68.25,
          60.4,
          51.55,
          109.8,
          34.25,
          53.6,
          82.65,
          60.8,
          103.3,
          104.25,
          65.55,
          104.2,
          102.95,
          53.5,
          49.35,
          110.15,
          109.95,
          98.1,
          93.7,
          63.7,
          23.75,
          98.05,
          112.95,
          49.5,
          76.15,
          111.3,
          95.35,
          76.95,
          58.2,
          108.05,
          96.35,
          90.75,
          54.7,
          86.6,
          98,
          95.55,
          108.5,
          81.35,
          29.75,
          65.1,
          92.9,
          97.1,
          98.3,
          108.45,
          92.2,
          82.45,
          49.6,
          97.2,
          110.9,
          95.8,
          48.55,
          64.15,
          104.55,
          78.3,
          107.75,
          109.3,
          49,
          40.4,
          59.95,
          60.65,
          116.05,
          39.65,
          108.4,
          35.5,
          83.15,
          102.45,
          62.15,
          98.25,
          62.05,
          72.8,
          73.65,
          66.85,
          51.35,
          65.7,
          21.2,
          108.9,
          26.3,
          67.8,
          101.5,
          109.65,
          106.3,
          73.15,
          78.35,
          91.65,
          108.65,
          29.7,
          92.15,
          100.35,
          81.4,
          81.9,
          86.5,
          114.3,
          62.8,
          104.85,
          108.25,
          95.95,
          98.75,
          100.7,
          71.65,
          72.9,
          106.7,
          30.75,
          80.95,
          35.8,
          111.6,
          92.45,
          73.25,
          45.45,
          48.6,
          96.05,
          113.15,
          111.15,
          35.65,
          35.9,
          60.35,
          109.1,
          110.35,
          57.55,
          46.2,
          51.3,
          93.3,
          100.95,
          63.55,
          68.85,
          23.85,
          111.1,
          88.65,
          76.9,
          54,
          56.55,
          44.25,
          77.75,
          68.15,
          83.35,
          48.85,
          71.8,
          71.55,
          62.65,
          57.2,
          84.55,
          43.3,
          31.05,
          73.05,
          38.5,
          106.9,
          40.15,
          114.1,
          91.2,
          108.3,
          36.25,
          83.6,
          88.6,
          107.4,
          56.2,
          81.2,
          87.15,
          115.5,
          107.05,
          60.7,
          82.05,
          113.2,
          30.25,
          23.55,
          88,
          76.75,
          41.15,
          51.8,
          103.8,
          71.15,
          76.2,
          77.4,
          21.25,
          56.7,
          103,
          64.3,
          47.95,
          111.8,
          107.35,
          58.9,
          44.5,
          113.6,
          65.4,
          69.3,
          114.5,
          26.25,
          97.35,
          102.8,
          65.8,
          53.55,
          39.5,
          39.9,
          114.05,
          56.05,
          105.15,
          114.35,
          63.85,
          114.95,
          102,
          91.4,
          115.75,
          38.9,
          77.5,
          65.45,
          67.25,
          54.05,
          26.05,
          40.35,
          53.4,
          97.7,
          101.55,
          96.85,
          86.7,
          29.5,
          18.9,
          86.3,
          45.95,
          40.6,
          29.35,
          92.3,
          41.1,
          61.3,
          59.4,
          78,
          102.65,
          39.4,
          40.25,
          56.6,
          67.95,
          45.6,
          92.7,
          81.55,
          64,
          114.45,
          58.4,
          18.7,
          23.3,
          58.85,
          39.3,
          75.95,
          96.4,
          63.95,
          65.35,
          92.4,
          56.8,
          61.9,
          93,
          41.9,
          109.05,
          77.8,
          66.7,
          49.3,
          60.85,
          114.65,
          35.55,
          103.5,
          71.6,
          68.5,
          93.6,
          109.6,
          98.4,
          105.45,
          57.95,
          77.85,
          97.85,
          76.65,
          110.65,
          77.55,
          76.85,
          115.6,
          48.35,
          66.1,
          111.45,
          29.85,
          88.3,
          58.5,
          88.75,
          26.4,
          83.05,
          83,
          25.9,
          87.3,
          76.35,
          78.6,
          92.95,
          102.5,
          115.65,
          62.1,
          96.25,
          86.75,
          73.35,
          68.4,
          29.2,
          114.6,
          45.75,
          97.8,
          58.55,
          69.45,
          71.4,
          110.05,
          108.55,
          25.95,
          61.6,
          88.2,
          55.85,
          97.75,
          86.15,
          101.45,
          90.3,
          59.05,
          58.25,
          60.45,
          72.45,
          53.1,
          73.45,
          100.1,
          111.5,
          77.15,
          78.05,
          21.15,
          78.2,
          111.2,
          61.65,
          72.6,
          51.45,
          107.55,
          34.8,
          106.95,
          116.15,
          107.25,
          117.5,
          18.25,
          42.1,
          62.5,
          113.1,
          88.5,
          106.25,
          72.35,
          18.75,
          112.9,
          87.05,
          42.9,
          51.7,
          51.75,
          87.75,
          117.35,
          102.35,
          68.05,
          52.5,
          113.45,
          30.85,
          30.55,
          63.15,
          31.65,
          105.8,
          72.15,
          83.5,
          53.9,
          40.45,
          107.9,
          68.1,
          56.85,
          28.45,
          67.65,
          92.6,
          118.2,
          111.35,
          76.8,
          98.45,
          68.8,
          51.15,
          64.25,
          71.85,
          92.05,
          58.65,
          73.95,
          67.4,
          57.75,
          66,
          63.4,
          114.7,
          82.75,
          53.7,
          61.75,
          96.7,
          103.35,
          38.1,
          86.95,
          113.95,
          35.7,
          38.6,
          42.35,
          116.5,
          67.5,
          21.45,
          72.2,
          62.3,
          67.7,
          43.25,
          65.9,
          42.6,
          42.4,
          48.4,
          44.2,
          40.7,
          22.95,
          71.7,
          107.2,
          82.95,
          63.35,
          39.85,
          81.65,
          39.95,
          78.4,
          78.7,
          33.7,
          112.35,
          77,
          49.1,
          73.3,
          116.75,
          114.55,
          42.3,
          93.05,
          40.75,
          111.9,
          116.2,
          39.45,
          77.2,
          108.6,
          53.3,
          103.6,
          23.15,
          86.35,
          87.65,
          62.25,
          23.6,
          56,
          47.8,
          66.75,
          48.45,
          113.35,
          41.05,
          23.8,
          113.75,
          56.5,
          102.25,
          29.25,
          118.65,
          65.75,
          23.4,
          30.6,
          38.25,
          71.75,
          114.85,
          30.9,
          116.8,
          78.25,
          81.75,
          101.85,
          88.1,
          111.75,
          23.65,
          41.95,
          56.45,
          108,
          93.95,
          36.15,
          71.25,
          113.05,
          116,
          33.15,
          51.6,
          77.65,
          117.2,
          61.8,
          114.75,
          53,
          90.9,
          57.8,
          36.65,
          66.6,
          116.3,
          76.55,
          99.6,
          102.05,
          48.2,
          63.1,
          97.45,
          92.1,
          117.45,
          56.9,
          117.6,
          33.75,
          87.4,
          107.65,
          52.15,
          52.3,
          112.6,
          83.95,
          96.3,
          34.95,
          101.8,
          31,
          113.8,
          28.6,
          108.85,
          34.6,
          109,
          34.4,
          97.25,
          111.55,
          33.65,
          43.35,
          29.1,
          106.85,
          68.55,
          108.8,
          26.8,
          46.05,
          82.35,
          51.4,
          35.35,
          68.3,
          62.7,
          21.3,
          31.2,
          63.05,
          34.85,
          113.25,
          39.35,
          82.1,
          78.15,
          56.95,
          39.55,
          87.45,
          102.55,
          35.3,
          77.9,
          35.6,
          92.35,
          46.4,
          87.8,
          29.4,
          34.05,
          112.75,
          81.6,
          116.85,
          63.3,
          52.1,
          36.5,
          48.65,
          52.85,
          23.05,
          26.5,
          108.35,
          87.35,
          46.6,
          115,
          43.65,
          48.15,
          31.35,
          60.75,
          58.45,
          88.25,
          96.95,
          112.1,
          82.55,
          82.9,
          67.2,
          106.2,
          62.85,
          65.05,
          57.45,
          107.6,
          52.2,
          87.6,
          87.9,
          45.5,
          98.2,
          113.3,
          30.45,
          114.2,
          33.5,
          92.65,
          73.1,
          72.65,
          43.45,
          57.15,
          57.65,
          110.55,
          60.55,
          48.9,
          67.6,
          39.05,
          63.75,
          60.1,
          102.7,
          51.5,
          33.55,
          37.7,
          71.95,
          91.45,
          109.85,
          58.7,
          76.6,
          41.6,
          36.05,
          71.5,
          47.6,
          35.25,
          115.85,
          112.4,
          67.85
         ],
         "xaxis": "x",
         "yaxis": "y"
        },
        {
         "alignmentgroup": "True",
         "bingroup": "x",
         "hovertemplate": "Situação do cliente=Inativo<br>Valor mensal do plano=%{x}<br>count (normalized as percent)=%{y}<extra></extra>",
         "legendgroup": "Inativo",
         "marker": {
          "color": "#EF553B",
          "line": {
           "color": "rgb(0,0,0)",
           "width": 1.5
          },
          "pattern": {
           "shape": ""
          }
         },
         "name": "Inativo",
         "nbinsx": 8,
         "offsetgroup": "Inativo",
         "opacity": 0.8,
         "orientation": "v",
         "showlegend": true,
         "type": "histogram",
         "x": [
          19.95,
          19.9,
          19.65,
          20.45,
          20.4,
          20.3,
          19.35,
          19.3,
          79.85,
          55,
          85.3,
          80.85,
          19.1,
          99,
          55.3,
          75.1,
          90.05,
          69.5,
          95.1,
          19.15,
          24.25,
          78.95,
          69.65,
          69.1,
          70.1,
          24.85,
          100.05,
          79.15,
          59.8,
          19.05,
          79.5,
          89.15,
          24.6,
          90.1,
          80.5,
          90.6,
          69.55,
          90.4,
          90.45,
          70.05,
          100.5,
          89.75,
          86.45,
          70.45,
          64.4,
          101.35,
          89.45,
          98.7,
          79.55,
          90.55,
          45.25,
          20.95,
          20.8,
          94.3,
          44.8,
          79.4,
          75,
          99.15,
          80.35,
          49.9,
          70.75,
          74.8,
          18.8,
          56.15,
          89.7,
          50.3,
          44.55,
          79.3,
          78.75,
          79.65,
          46,
          99.25,
          95.9,
          80.65,
          80.05,
          85.9,
          99.7,
          84.75,
          100.75,
          95.25,
          105.5,
          86.05,
          55.15,
          81.15,
          103.75,
          75.8,
          89.05,
          69.15,
          93.8,
          74.1,
          50.75,
          89.5,
          80.4,
          79.75,
          51,
          74.5,
          64.95,
          44.85,
          70.25,
          105.4,
          100.45,
          61.4,
          100,
          85.55,
          54.4,
          24.35,
          95.05,
          51.1,
          74.25,
          105.75,
          73,
          65,
          95.45,
          86.2,
          74.2,
          75.85,
          105.55,
          88.85,
          55.35,
          91.15,
          91.05,
          76,
          49.65,
          45.9,
          102.1,
          109.75,
          94.5,
          90.85,
          94.05,
          106.15,
          81.25,
          73.75,
          74.15,
          53.75,
          54.25,
          55.5,
          104.65,
          105.65,
          67.45,
          81.7,
          96.6,
          84.25,
          65.65,
          64.2,
          70.9,
          101.25,
          85.1,
          49.45,
          29.8,
          100.4,
          93.55,
          21,
          85.5,
          109.2,
          94.85,
          49.7,
          40.3,
          100.9,
          98.15,
          108.95,
          71.35,
          98.6,
          109.7,
          61.45,
          96.5,
          98.65,
          58.35,
          106.8,
          46.35,
          76.5,
          48.75,
          44.35,
          86.4,
          83.3,
          86.25,
          29.9,
          64.05,
          107.45,
          99.1,
          64.5,
          88.05,
          79.1,
          105.3,
          91.55,
          109.25,
          50.65,
          96,
          83.25,
          80.75,
          79.45,
          58.75,
          86.85,
          93.2,
          102.6,
          82.85,
          103.65,
          111.95,
          60.6,
          104.75,
          103.85,
          78.65,
          81.95,
          85.85,
          72.95,
          99.2,
          103.45,
          88.9,
          103.2,
          66.5,
          25.8,
          39.7,
          98.55,
          29.45,
          44.7,
          96.9,
          83.4,
          92.5,
          101,
          30.2,
          59.7,
          110.2,
          29.65,
          91.5,
          56.4,
          94.15,
          50.5,
          106.65,
          101.75,
          103.4,
          60.2,
          110.6,
          30.1,
          50.85,
          29.15,
          56.1,
          61.2,
          59.2,
          44.1,
          29.6,
          61.05,
          88.55,
          61.15,
          103.1,
          64.7,
          105.6,
          110.85,
          90.2,
          84.15,
          81.1,
          114,
          38.55,
          87.95,
          43.85,
          65.3,
          29.95,
          43.55,
          29.05,
          77.35,
          118.6,
          43.7,
          55.75,
          55.6,
          77.95,
          43.75,
          72.25,
          43.9,
          107.7,
          116.1,
          71.3,
          108.2,
          61,
          97.05,
          96.15,
          36.45,
          61.25,
          53.15,
          35.15,
          34.3,
          66.3,
          61.55,
          56.35,
          66.9,
          26.2,
          51.65,
          110.25,
          92.85,
          68.6,
          29.3,
          68.7,
          36.1,
          63.9,
          114.9,
          65.15,
          39,
          111.65,
          64.55,
          39.2,
          30.15,
          36,
          111.05,
          82.15,
          87.2,
          102.4,
          63.8,
          72.75,
          109.45,
          66.8,
          73.7,
          34.65,
          26.35,
          48.25,
          30.35,
          61.5,
          97.55,
          106.45,
          93.65,
          83.7,
          116.6,
          83.45,
          33.45,
          71.45,
          71.9,
          91.95,
          83.65,
          86.9,
          110.3,
          62.55,
          101.6,
          110.7,
          112.55,
          101.7,
          41.35,
          23.5,
          52,
          91.75,
          117.15,
          38.85,
          43.05,
          67.05,
          18.4,
          59.15,
          112.2,
          102.15,
          116.95,
          61.95,
          91.8,
          18.55,
          31.1,
          40,
          53.35,
          68.9,
          113.4,
          28.5,
          39.15,
          77.3,
          118.35,
          47.4,
          68.35,
          93.45,
          59.25,
          112.25,
          113,
          52.7,
          93.75,
          102.85,
          47.05,
          106.55,
          30.05,
          82.4,
          116.4,
          101.95,
          87.7,
          118.75,
          73.2,
          61.1,
          116.45,
          33.9,
          46.1,
          115.25,
          66.2,
          63.6,
          34.5,
          46.25,
          66.65,
          102.9,
          58,
          87,
          57.5,
          55.4,
          26.9,
          43.6,
          111.4,
          38.8,
          67.75,
          23.45,
          116.55,
          107,
          40.9,
          117.8,
          47.15,
          36.85,
          66.35,
          76.3,
          64.6,
          39.6,
          91.6,
          107.15,
          56.65,
          57.6,
          81.8,
          68.45,
          30.3,
          72,
          72.85,
          62.45,
          63.25,
          82.7,
          97.9,
          34.55
         ],
         "xaxis": "x",
         "yaxis": "y"
        }
       ],
       "layout": {
        "bargap": 0.05,
        "barmode": "relative",
        "barnorm": "percent",
        "legend": {
         "title": {
          "text": "Situação do cliente"
         },
         "tracegroupgap": 0
        },
        "template": {
         "data": {
          "bar": [
           {
            "error_x": {
             "color": "#2a3f5f"
            },
            "error_y": {
             "color": "#2a3f5f"
            },
            "marker": {
             "line": {
              "color": "#E5ECF6",
              "width": 0.5
             },
             "pattern": {
              "fillmode": "overlay",
              "size": 10,
              "solidity": 0.2
             }
            },
            "type": "bar"
           }
          ],
          "barpolar": [
           {
            "marker": {
             "line": {
              "color": "#E5ECF6",
              "width": 0.5
             },
             "pattern": {
              "fillmode": "overlay",
              "size": 10,
              "solidity": 0.2
             }
            },
            "type": "barpolar"
           }
          ],
          "carpet": [
           {
            "aaxis": {
             "endlinecolor": "#2a3f5f",
             "gridcolor": "white",
             "linecolor": "white",
             "minorgridcolor": "white",
             "startlinecolor": "#2a3f5f"
            },
            "baxis": {
             "endlinecolor": "#2a3f5f",
             "gridcolor": "white",
             "linecolor": "white",
             "minorgridcolor": "white",
             "startlinecolor": "#2a3f5f"
            },
            "type": "carpet"
           }
          ],
          "choropleth": [
           {
            "colorbar": {
             "outlinewidth": 0,
             "ticks": ""
            },
            "type": "choropleth"
           }
          ],
          "contour": [
           {
            "colorbar": {
             "outlinewidth": 0,
             "ticks": ""
            },
            "colorscale": [
             [
              0,
              "#0d0887"
             ],
             [
              0.1111111111111111,
              "#46039f"
             ],
             [
              0.2222222222222222,
              "#7201a8"
             ],
             [
              0.3333333333333333,
              "#9c179e"
             ],
             [
              0.4444444444444444,
              "#bd3786"
             ],
             [
              0.5555555555555556,
              "#d8576b"
             ],
             [
              0.6666666666666666,
              "#ed7953"
             ],
             [
              0.7777777777777778,
              "#fb9f3a"
             ],
             [
              0.8888888888888888,
              "#fdca26"
             ],
             [
              1,
              "#f0f921"
             ]
            ],
            "type": "contour"
           }
          ],
          "contourcarpet": [
           {
            "colorbar": {
             "outlinewidth": 0,
             "ticks": ""
            },
            "type": "contourcarpet"
           }
          ],
          "heatmap": [
           {
            "colorbar": {
             "outlinewidth": 0,
             "ticks": ""
            },
            "colorscale": [
             [
              0,
              "#0d0887"
             ],
             [
              0.1111111111111111,
              "#46039f"
             ],
             [
              0.2222222222222222,
              "#7201a8"
             ],
             [
              0.3333333333333333,
              "#9c179e"
             ],
             [
              0.4444444444444444,
              "#bd3786"
             ],
             [
              0.5555555555555556,
              "#d8576b"
             ],
             [
              0.6666666666666666,
              "#ed7953"
             ],
             [
              0.7777777777777778,
              "#fb9f3a"
             ],
             [
              0.8888888888888888,
              "#fdca26"
             ],
             [
              1,
              "#f0f921"
             ]
            ],
            "type": "heatmap"
           }
          ],
          "heatmapgl": [
           {
            "colorbar": {
             "outlinewidth": 0,
             "ticks": ""
            },
            "colorscale": [
             [
              0,
              "#0d0887"
             ],
             [
              0.1111111111111111,
              "#46039f"
             ],
             [
              0.2222222222222222,
              "#7201a8"
             ],
             [
              0.3333333333333333,
              "#9c179e"
             ],
             [
              0.4444444444444444,
              "#bd3786"
             ],
             [
              0.5555555555555556,
              "#d8576b"
             ],
             [
              0.6666666666666666,
              "#ed7953"
             ],
             [
              0.7777777777777778,
              "#fb9f3a"
             ],
             [
              0.8888888888888888,
              "#fdca26"
             ],
             [
              1,
              "#f0f921"
             ]
            ],
            "type": "heatmapgl"
           }
          ],
          "histogram": [
           {
            "marker": {
             "pattern": {
              "fillmode": "overlay",
              "size": 10,
              "solidity": 0.2
             }
            },
            "type": "histogram"
           }
          ],
          "histogram2d": [
           {
            "colorbar": {
             "outlinewidth": 0,
             "ticks": ""
            },
            "colorscale": [
             [
              0,
              "#0d0887"
             ],
             [
              0.1111111111111111,
              "#46039f"
             ],
             [
              0.2222222222222222,
              "#7201a8"
             ],
             [
              0.3333333333333333,
              "#9c179e"
             ],
             [
              0.4444444444444444,
              "#bd3786"
             ],
             [
              0.5555555555555556,
              "#d8576b"
             ],
             [
              0.6666666666666666,
              "#ed7953"
             ],
             [
              0.7777777777777778,
              "#fb9f3a"
             ],
             [
              0.8888888888888888,
              "#fdca26"
             ],
             [
              1,
              "#f0f921"
             ]
            ],
            "type": "histogram2d"
           }
          ],
          "histogram2dcontour": [
           {
            "colorbar": {
             "outlinewidth": 0,
             "ticks": ""
            },
            "colorscale": [
             [
              0,
              "#0d0887"
             ],
             [
              0.1111111111111111,
              "#46039f"
             ],
             [
              0.2222222222222222,
              "#7201a8"
             ],
             [
              0.3333333333333333,
              "#9c179e"
             ],
             [
              0.4444444444444444,
              "#bd3786"
             ],
             [
              0.5555555555555556,
              "#d8576b"
             ],
             [
              0.6666666666666666,
              "#ed7953"
             ],
             [
              0.7777777777777778,
              "#fb9f3a"
             ],
             [
              0.8888888888888888,
              "#fdca26"
             ],
             [
              1,
              "#f0f921"
             ]
            ],
            "type": "histogram2dcontour"
           }
          ],
          "mesh3d": [
           {
            "colorbar": {
             "outlinewidth": 0,
             "ticks": ""
            },
            "type": "mesh3d"
           }
          ],
          "parcoords": [
           {
            "line": {
             "colorbar": {
              "outlinewidth": 0,
              "ticks": ""
             }
            },
            "type": "parcoords"
           }
          ],
          "pie": [
           {
            "automargin": true,
            "type": "pie"
           }
          ],
          "scatter": [
           {
            "marker": {
             "colorbar": {
              "outlinewidth": 0,
              "ticks": ""
             }
            },
            "type": "scatter"
           }
          ],
          "scatter3d": [
           {
            "line": {
             "colorbar": {
              "outlinewidth": 0,
              "ticks": ""
             }
            },
            "marker": {
             "colorbar": {
              "outlinewidth": 0,
              "ticks": ""
             }
            },
            "type": "scatter3d"
           }
          ],
          "scattercarpet": [
           {
            "marker": {
             "colorbar": {
              "outlinewidth": 0,
              "ticks": ""
             }
            },
            "type": "scattercarpet"
           }
          ],
          "scattergeo": [
           {
            "marker": {
             "colorbar": {
              "outlinewidth": 0,
              "ticks": ""
             }
            },
            "type": "scattergeo"
           }
          ],
          "scattergl": [
           {
            "marker": {
             "colorbar": {
              "outlinewidth": 0,
              "ticks": ""
             }
            },
            "type": "scattergl"
           }
          ],
          "scattermapbox": [
           {
            "marker": {
             "colorbar": {
              "outlinewidth": 0,
              "ticks": ""
             }
            },
            "type": "scattermapbox"
           }
          ],
          "scatterpolar": [
           {
            "marker": {
             "colorbar": {
              "outlinewidth": 0,
              "ticks": ""
             }
            },
            "type": "scatterpolar"
           }
          ],
          "scatterpolargl": [
           {
            "marker": {
             "colorbar": {
              "outlinewidth": 0,
              "ticks": ""
             }
            },
            "type": "scatterpolargl"
           }
          ],
          "scatterternary": [
           {
            "marker": {
             "colorbar": {
              "outlinewidth": 0,
              "ticks": ""
             }
            },
            "type": "scatterternary"
           }
          ],
          "surface": [
           {
            "colorbar": {
             "outlinewidth": 0,
             "ticks": ""
            },
            "colorscale": [
             [
              0,
              "#0d0887"
             ],
             [
              0.1111111111111111,
              "#46039f"
             ],
             [
              0.2222222222222222,
              "#7201a8"
             ],
             [
              0.3333333333333333,
              "#9c179e"
             ],
             [
              0.4444444444444444,
              "#bd3786"
             ],
             [
              0.5555555555555556,
              "#d8576b"
             ],
             [
              0.6666666666666666,
              "#ed7953"
             ],
             [
              0.7777777777777778,
              "#fb9f3a"
             ],
             [
              0.8888888888888888,
              "#fdca26"
             ],
             [
              1,
              "#f0f921"
             ]
            ],
            "type": "surface"
           }
          ],
          "table": [
           {
            "cells": {
             "fill": {
              "color": "#EBF0F8"
             },
             "line": {
              "color": "white"
             }
            },
            "header": {
             "fill": {
              "color": "#C8D4E3"
             },
             "line": {
              "color": "white"
             }
            },
            "type": "table"
           }
          ]
         },
         "layout": {
          "annotationdefaults": {
           "arrowcolor": "#2a3f5f",
           "arrowhead": 0,
           "arrowwidth": 1
          },
          "autotypenumbers": "strict",
          "coloraxis": {
           "colorbar": {
            "outlinewidth": 0,
            "ticks": ""
           }
          },
          "colorscale": {
           "diverging": [
            [
             0,
             "#8e0152"
            ],
            [
             0.1,
             "#c51b7d"
            ],
            [
             0.2,
             "#de77ae"
            ],
            [
             0.3,
             "#f1b6da"
            ],
            [
             0.4,
             "#fde0ef"
            ],
            [
             0.5,
             "#f7f7f7"
            ],
            [
             0.6,
             "#e6f5d0"
            ],
            [
             0.7,
             "#b8e186"
            ],
            [
             0.8,
             "#7fbc41"
            ],
            [
             0.9,
             "#4d9221"
            ],
            [
             1,
             "#276419"
            ]
           ],
           "sequential": [
            [
             0,
             "#0d0887"
            ],
            [
             0.1111111111111111,
             "#46039f"
            ],
            [
             0.2222222222222222,
             "#7201a8"
            ],
            [
             0.3333333333333333,
             "#9c179e"
            ],
            [
             0.4444444444444444,
             "#bd3786"
            ],
            [
             0.5555555555555556,
             "#d8576b"
            ],
            [
             0.6666666666666666,
             "#ed7953"
            ],
            [
             0.7777777777777778,
             "#fb9f3a"
            ],
            [
             0.8888888888888888,
             "#fdca26"
            ],
            [
             1,
             "#f0f921"
            ]
           ],
           "sequentialminus": [
            [
             0,
             "#0d0887"
            ],
            [
             0.1111111111111111,
             "#46039f"
            ],
            [
             0.2222222222222222,
             "#7201a8"
            ],
            [
             0.3333333333333333,
             "#9c179e"
            ],
            [
             0.4444444444444444,
             "#bd3786"
            ],
            [
             0.5555555555555556,
             "#d8576b"
            ],
            [
             0.6666666666666666,
             "#ed7953"
            ],
            [
             0.7777777777777778,
             "#fb9f3a"
            ],
            [
             0.8888888888888888,
             "#fdca26"
            ],
            [
             1,
             "#f0f921"
            ]
           ]
          },
          "colorway": [
           "#636efa",
           "#EF553B",
           "#00cc96",
           "#ab63fa",
           "#FFA15A",
           "#19d3f3",
           "#FF6692",
           "#B6E880",
           "#FF97FF",
           "#FECB52"
          ],
          "font": {
           "color": "#2a3f5f"
          },
          "geo": {
           "bgcolor": "white",
           "lakecolor": "white",
           "landcolor": "#E5ECF6",
           "showlakes": true,
           "showland": true,
           "subunitcolor": "white"
          },
          "hoverlabel": {
           "align": "left"
          },
          "hovermode": "closest",
          "mapbox": {
           "style": "light"
          },
          "paper_bgcolor": "white",
          "plot_bgcolor": "#E5ECF6",
          "polar": {
           "angularaxis": {
            "gridcolor": "white",
            "linecolor": "white",
            "ticks": ""
           },
           "bgcolor": "#E5ECF6",
           "radialaxis": {
            "gridcolor": "white",
            "linecolor": "white",
            "ticks": ""
           }
          },
          "scene": {
           "xaxis": {
            "backgroundcolor": "#E5ECF6",
            "gridcolor": "white",
            "gridwidth": 2,
            "linecolor": "white",
            "showbackground": true,
            "ticks": "",
            "zerolinecolor": "white"
           },
           "yaxis": {
            "backgroundcolor": "#E5ECF6",
            "gridcolor": "white",
            "gridwidth": 2,
            "linecolor": "white",
            "showbackground": true,
            "ticks": "",
            "zerolinecolor": "white"
           },
           "zaxis": {
            "backgroundcolor": "#E5ECF6",
            "gridcolor": "white",
            "gridwidth": 2,
            "linecolor": "white",
            "showbackground": true,
            "ticks": "",
            "zerolinecolor": "white"
           }
          },
          "shapedefaults": {
           "line": {
            "color": "#2a3f5f"
           }
          },
          "ternary": {
           "aaxis": {
            "gridcolor": "white",
            "linecolor": "white",
            "ticks": ""
           },
           "baxis": {
            "gridcolor": "white",
            "linecolor": "white",
            "ticks": ""
           },
           "bgcolor": "#E5ECF6",
           "caxis": {
            "gridcolor": "white",
            "linecolor": "white",
            "ticks": ""
           }
          },
          "title": {
           "x": 0.05
          },
          "xaxis": {
           "automargin": true,
           "gridcolor": "white",
           "linecolor": "white",
           "ticks": "",
           "title": {
            "standoff": 15
           },
           "zerolinecolor": "white",
           "zerolinewidth": 2
          },
          "yaxis": {
           "automargin": true,
           "gridcolor": "white",
           "linecolor": "white",
           "ticks": "",
           "title": {
            "standoff": 15
           },
           "zerolinecolor": "white",
           "zerolinewidth": 2
          }
         }
        },
        "title": {
         "text": "Situação dos clientes em relação ao custo mensal do plano"
        },
        "xaxis": {
         "anchor": "y",
         "domain": [
          0,
          1
         ],
         "title": {
          "text": "Valor mensal do plano"
         }
        },
        "yaxis": {
         "anchor": "x",
         "domain": [
          0,
          1
         ],
         "title": {
          "text": "count (normalized as percent)"
         }
        }
       }
      }
     },
     "metadata": {},
     "output_type": "display_data"
    }
   ],
   "source": [
    "# Avaliação em relação ao custo mensal do plano\n",
    "df_gastos = df.Valor_Mensal.value_counts()\n",
    "df_gastos = df_gastos.to_frame().reset_index()\n",
    "df_gastos.columns = ['Valor mensal do plano', 'Quantidade']\n",
    "df_gastos['Situação do cliente'] = df.Cliente_Inativo\n",
    "df_gastos['Situação do cliente'] = df_gastos['Situação do cliente'].map({0:'Ativo', 1:'Inativo'})\n",
    "\n",
    "\n",
    "fig = px.histogram(df_gastos, x=\"Valor mensal do plano\", color = \"Situação do cliente\", nbins = 8,\n",
    "    title=\"Situação dos clientes em relação ao custo mensal do plano\", histnorm = None, barnorm = 'percent')\n",
    "fig.update_traces( opacity=0.8, marker_line_width=1.5, marker_line_color = 'rgb(0,0,0)')\n",
    "fig.update_layout(bargap=0.05)\n",
    "fig.show()"
   ]
  },
  {
   "cell_type": "markdown",
   "metadata": {},
   "source": [
    "### **4.2.2 - Perfil de gasto total dos clientes**\n",
    "\n",
    "Já em relação ao gasto anual, não há  diferença significativa para ataxa de cancelamento. Para toso os grupos, a média ficou em torno de 25% dos clientes pedindo cancelamento. "
   ]
  },
  {
   "cell_type": "code",
   "execution_count": 7,
   "metadata": {},
   "outputs": [
    {
     "data": {
      "application/vnd.plotly.v1+json": {
       "config": {
        "plotlyServerURL": "https://plot.ly"
       },
       "data": [
        {
         "alignmentgroup": "True",
         "bingroup": "x",
         "hovertemplate": "Situação do cliente=Ativo<br>Valor anual total do plano=%{x}<br>count (normalized as percent)=%{y}<extra></extra>",
         "legendgroup": "Ativo",
         "marker": {
          "color": "#636efa",
          "line": {
           "color": "rgb(0,0,0)",
           "width": 1.5
          },
          "pattern": {
           "shape": ""
          }
         },
         "name": "Ativo",
         "nbinsx": 10,
         "offsetgroup": "Ativo",
         "opacity": 0.8,
         "orientation": "v",
         "showlegend": true,
         "type": "histogram",
         "x": [
          20.2,
          19.75,
          45.3,
          19.55,
          20.15,
          20.25,
          19.45,
          20.3,
          20.45,
          50.15,
          69.6,
          19.4,
          69.65,
          19.2,
          19.85,
          19.3,
          19.95,
          20.5,
          20.4,
          75.3,
          44.4,
          70.6,
          69.95,
          49.9,
          74.9,
          69.55,
          50.75,
          19.25,
          1284.2,
          80.55,
          470.2,
          45.85,
          75.35,
          44.75,
          383.65,
          70.1,
          20.9,
          2317.1,
          84.5,
          79.55,
          69.1,
          74.6,
          220.45,
          45.7,
          20.1,
          24.8,
          305.55,
          50.45,
          55.7,
          35.9,
          70.15,
          50.6,
          45.1,
          69.25,
          70.3,
          25.25,
          85,
          85.5,
          1025.15,
          96.8,
          2440.25,
          196.9,
          70.85,
          147.15,
          19.6,
          503.6,
          144.15,
          83.75,
          3533.6,
          382.2,
          307.4,
          50.55,
          906.85,
          256.6,
          1149.65,
          5714.2,
          343.45,
          113.5,
          493.4,
          1174.35,
          1873.7,
          858.6,
          134.05,
          259.8,
          79.15,
          4976.15,
          41.85,
          69.2,
          84.2,
          20.95,
          1493.2,
          5682.25,
          1782.4,
          1734.5,
          123.65,
          85.45,
          3756.45,
          467.15,
          69.8,
          162.45,
          25.05,
          835.5,
          246.3,
          3729.75,
          79.6,
          318.6,
          45.6,
          45.4,
          91.7,
          246.7,
          74.5,
          2032.3,
          94.4,
          69.5,
          151.3,
          50.8,
          74.45,
          71.35,
          18.85,
          398.55,
          2404.15,
          987.95,
          46.3,
          2497.2,
          71.65,
          482.8,
          372.45,
          144.55,
          55,
          2151.6,
          867.3,
          1110.05,
          49.65,
          505.95,
          1714.95,
          416.45,
          849.9,
          1218.25,
          74.4,
          1201.65,
          128.6,
          5731.85,
          60.65,
          49.95,
          1620.2,
          460.25,
          25.7,
          288.05,
          515.75,
          78.65,
          93.55,
          264.8,
          487.05,
          816.8,
          4858.7,
          529.5,
          434.5,
          202.25,
          145.15,
          355.1,
          178.7,
          75.45,
          92.75,
          161.45,
          79.35,
          229.55,
          43.95,
          4528,
          98.5,
          729.95,
          69.4,
          620.55,
          245.15,
          498.1,
          118.25,
          44.45,
          184.4,
          71,
          79.05,
          294.45,
          1167.8,
          1139.2,
          1672.35,
          664.4,
          669.45,
          70.05,
          25.2,
          1043.3,
          654.85,
          48.6,
          494.05,
          2640.55,
          1672.1,
          69.75,
          69.35,
          82.85,
          1161.75,
          3297,
          581.7,
          99.75,
          77.15,
          3645.5,
          511.25,
          181.65,
          49.8,
          1060.2,
          63.75,
          53.55,
          93.7,
          2661.1,
          340.85,
          42.9,
          3418.2,
          926.25,
          20.75,
          5597.65,
          2180.55,
          45.95,
          44.55,
          1468.75,
          5969.3,
          91.1,
          273.25,
          3132.75,
          49.55,
          2570.2,
          402.6,
          1410.25,
          89.3,
          576.65,
          57.4,
          167.3,
          4370.25,
          24.7,
          475.1,
          469.65,
          268.45,
          1235.55,
          44.9,
          19.7,
          130.5,
          193.6,
          1642.75,
          33.7,
          202.3,
          4017.45,
          84.6,
          844.45,
          90.85,
          1782,
          214.75,
          19.8,
          1046.5,
          740.3,
          45.75,
          25.15,
          330.8,
          3187.65,
          2560.1,
          1354.4,
          5289.8,
          1049.6,
          5067.45,
          4367.35,
          1285.05,
          1086.75,
          810.2,
          422.4,
          2979.3,
          864.55,
          3207.55,
          6444.05,
          934.8,
          4179.2,
          436.6,
          811.8,
          772.85,
          2291.2,
          3912.9,
          1686.15,
          2208.05,
          1563.9,
          1363.45,
          107.25,
          3029.1,
          73.45,
          394.1,
          3603.45,
          1216.35,
          2967.35,
          780.5,
          1282.85,
          248.95,
          156.4,
          2576.8,
          688.2,
          1152.8,
          847.8,
          7690.9,
          1752.65,
          2524.45,
          3548.3,
          4917.9,
          2537,
          1313.25,
          3515.25,
          5645.8,
          62.9,
          5124.55,
          2545.75,
          4671.65,
          2530.4,
          2684.35,
          794.25,
          834.7,
          5623.7,
          612.1,
          167.2,
          2390.45,
          716.1,
          1688.9,
          4872.45,
          997.65,
          43.85,
          3327.05,
          2416.1,
          5485.5,
          6383.35,
          6153.85,
          755.5,
          1043.8,
          184.15,
          696.8,
          4361.55,
          1185.95,
          2018.4,
          789.55,
          50.5,
          704.3,
          6613.65,
          167.5,
          232.35,
          6172,
          6985.65,
          389.95,
          1209.25,
          1156.35,
          130.75,
          1440.75,
          7188.5,
          1810.85,
          1415.55,
          411.15,
          1501.75,
          1021.8,
          586.05,
          5968.4,
          78.8,
          3047.15,
          417.75,
          7447.7,
          521,
          299.2,
          1846.65,
          132.2,
          2618.3,
          6129.65,
          5073.1,
          996.95,
          3941.7,
          250.8,
          1024,
          486.05,
          1743.9,
          80.8,
          1297.35,
          2462.6,
          7849.85,
          5617.95,
          593.85,
          229.5,
          485.2,
          4985.9,
          1288,
          2660.2,
          323.15,
          1540.2,
          229.4,
          2296.25,
          6350.5,
          876.75,
          1936.85,
          396.3,
          73.6,
          5121.3,
          57.5,
          4689.5,
          2088.45,
          6411.25,
          795.65,
          2688.85,
          107.05,
          1886.25,
          659.65,
          5293.2,
          1539.45,
          6376.55,
          19.15,
          6779.05,
          5265.2,
          6365.35,
          7030.65,
          6093.3,
          6328.7,
          911.6,
          294.95,
          2117.25,
          5703.25,
          831.75,
          543.8,
          3068.6,
          780.85,
          673.1,
          7110.75,
          624.6,
          615.35,
          527.35,
          184.65,
          3772.5,
          93.3,
          25.3,
          4026.4,
          3084.9,
          2835.5,
          6185.8,
          1638.7,
          2122.45,
          255.5,
          1221.55,
          4069.9,
          165.45,
          1398.25,
          2460.15,
          91.4,
          8041.65,
          4749.15,
          7244.7,
          186.3,
          4003,
          510.8,
          2878.75,
          1657.4,
          54.5,
          411.6,
          6056.15,
          1971.5,
          5031.85,
          4188.4,
          6129.2,
          4155.95,
          813.85,
          99.6,
          5791.1,
          1441.8,
          5459.2,
          5931,
          970.4,
          3615.6,
          218.5,
          54.3,
          3488.15,
          5496.9,
          50.65,
          4984.85,
          1914.5,
          3173.35,
          2710.25,
          847.3,
          384.25,
          3580.3,
          4362.05,
          2177.45,
          412.5,
          2789.7,
          955.6,
          1553.2,
          399.6,
          1389.2,
          1275.6,
          137.1,
          201.1,
          454,
          1238.65,
          259.4,
          6096.9,
          3902.45,
          30.55,
          2731,
          5264.25,
          34.8,
          5461.45,
          3646.8,
          4652.4,
          882.55,
          221.35,
          608.15,
          8248.5,
          2171.15,
          95.65,
          3021.3,
          1597.4,
          648.65,
          4997.5,
          2623.65,
          4158.25,
          422.3,
          3122.4,
          75.75,
          2433.9,
          365.4,
          48.95,
          6223.8,
          641.15,
          5059.75,
          950.75,
          84.8,
          1422.65,
          1566.9,
          5589.3,
          43.15,
          2656.7,
          712.85,
          1732.95,
          3208.65,
          7795.95,
          2338.35,
          1734.65,
          1001.5,
          5643.4,
          235.65,
          556.35,
          5549.4,
          7149.35,
          6029.9,
          154.55,
          1033.95,
          2407.3,
          1622.45,
          7028.5,
          280.35,
          4594.65,
          1027.25,
          2347.85,
          2369.7,
          466.6,
          3395.8,
          2754,
          1387.35,
          170.85,
          3512.9,
          637.4,
          773.2,
          7475.1,
          7806.5,
          1764.75,
          2391.15,
          2689.35,
          4509.5,
          205.05,
          1494.5,
          1525.35,
          6586.85,
          3605.2,
          1051.05,
          76,
          3273.8,
          287.4,
          768.05,
          5265.55,
          109.2,
          1359.5,
          864.85,
          6979.8,
          119.75,
          2669.45,
          608.5,
          6937.95,
          4920.55,
          1337.45,
          3266,
          4744.35,
          2015.8,
          1263.9,
          1327.4,
          762.1,
          156.85,
          1620.45,
          136.05,
          4097.05,
          2908.2,
          4238.45,
          301.9,
          3274.35,
          2351.8,
          541.15,
          7132.15,
          1219.85,
          302.6,
          1003.05,
          1332.4,
          6301.7,
          3244.4,
          3662.25,
          231.45,
          7104.2,
          2933.95,
          5598.3,
          1267.05,
          7171.7,
          63.6,
          4025.5,
          5931.75,
          1614.2,
          6109.75,
          7303.05,
          931.9,
          1181.75,
          2220.1,
          1275.65,
          6435.25,
          290.55,
          3953.7,
          2019.8,
          7711.25,
          2139.2,
          3389.25,
          102.45,
          4759.85,
          1124.2,
          5420.65,
          2215,
          6418.9,
          4323.45,
          1423.05,
          5602.25,
          1842.8,
          4855.35,
          4448.8,
          235,
          1794.65,
          6368.2,
          2016.45,
          4230.25,
          1663.75,
          1301,
          5012.35,
          5150.55,
          4860.35,
          1311.3,
          1145.35,
          4042.3,
          702.9,
          1723.95,
          534.7,
          4692.95,
          3249.4,
          283.95,
          1244.5,
          1345.65,
          6127.6,
          111.05,
          1348.95,
          6033.3,
          825.1,
          5315.1,
          1171.3,
          1798.65,
          3887.25,
          1758.6,
          2595.85,
          4533.7,
          1432.55,
          573.15,
          3437.5,
          1888.65,
          4300.8,
          1208.6,
          1830.05,
          5749.8,
          109.25,
          1505.45,
          1616.15,
          5064.85,
          3605.6,
          61.35,
          300.8,
          3590.2,
          6428.4,
          2301.15,
          5426.85,
          5744.35,
          684.05,
          3624.35,
          958.15,
          723.3,
          7634.8,
          6819.45,
          3171.15,
          3694.45,
          162.3,
          4414.3,
          3236.35,
          1097.15,
          4995.35,
          405.6,
          3264.45,
          1211.65,
          21,
          5586.45,
          467.85,
          611.65,
          2015.35,
          7774.05,
          1941.5,
          114.15,
          1288.75,
          6976.75,
          5785.5,
          64.55,
          2847.2,
          81.7,
          1099.6,
          258.35,
          838.5,
          139.25,
          7386.05,
          7318.2,
          1164.05,
          210.75,
          1739.6,
          2257.75,
          101.45,
          442.85,
          5229.8,
          1719.15,
          548.9,
          262.3,
          875.35,
          1049.05,
          6529.25,
          3965.05,
          1461.45,
          697.7,
          77.75,
          2033.85,
          533.9,
          2719.2,
          373.5,
          6547.7,
          772.4,
          4820.15,
          5542.55,
          1336.9,
          8443.7,
          2012.7,
          4555.2,
          180.7,
          4812.75,
          4664.5,
          7555,
          732.5,
          1513.6,
          1522.65,
          24.2,
          178.1,
          125.5,
          1021.75,
          1346.2,
          158.35,
          6487.2,
          367.95,
          2302.35,
          7047.5,
          5475.9,
          1789.9,
          5295.7,
          973.45,
          105.6,
          523.1,
          2483.05,
          5568.35,
          272.95,
          613.4,
          2298.55,
          3549.25,
          452.2,
          3778,
          7142.5,
          5070.4,
          644.5,
          1879.25,
          949.8,
          2459.8,
          3795.45,
          1302.65,
          765.15,
          1866.45,
          2033.05,
          482.25,
          2095,
          2375.2,
          5846.65,
          1737.45,
          177.4,
          4245.55,
          4849.1,
          1725,
          6929.4,
          1253.65,
          2723.75,
          865.75,
          492.1,
          96.05,
          1115.15,
          1032,
          180.25,
          6401.25,
          161.5,
          1039.45,
          4916.4,
          1187.05,
          670.65,
          297.3,
          5595.3,
          265.8,
          829.3,
          2453.3,
          2199.05,
          916.9,
          682.15,
          438.05,
          5440.9,
          4507.15,
          1174.8,
          6385.95,
          7446.9,
          3021.45,
          2874.15,
          3251.85,
          419.4,
          5999.85,
          94.55,
          7049.75,
          4853.75,
          1855.65,
          216.75,
          2812.2,
          7472.15,
          279.55,
          1131.5,
          1529.2,
          35.1,
          172.85,
          6891.45,
          1261.45,
          257,
          775.6,
          234.85,
          734.6,
          375.25,
          5396.25,
          5329,
          4473.45,
          539.85,
          7467.5,
          2030.75,
          3082.1,
          2239.4,
          2768.35,
          4759.55,
          406.95,
          1311.75,
          1212.85,
          3653,
          59.25,
          291.4,
          870.25,
          2168.15,
          3467,
          4869.5,
          2896.6,
          160.75,
          216.45,
          681.4,
          617.65,
          653.25,
          865.1,
          8192.6,
          3346.8,
          95.1,
          755.4,
          945.7,
          3772.65,
          1600.25,
          47.7,
          7875,
          237.2,
          470,
          759.55,
          8003.8,
          102.5,
          7261.75,
          8331.95,
          4494.65,
          168.5,
          6144.55,
          669.85,
          920.5,
          685.55,
          4149.45,
          6889.8,
          3027.4,
          4042.2,
          7076.35,
          3838.2,
          36.8,
          1355.45,
          191.1,
          4532.3,
          7009.5,
          1381.2,
          2655.25,
          2686.05,
          3574.5,
          3512.15,
          638.55,
          244.1,
          141.65,
          3440.25,
          6342.7,
          1673.4,
          4671.7,
          3237.05,
          791.75,
          3112.05,
          242.95,
          3919.15,
          6536.5,
          2929.75,
          1750.7,
          5043.2,
          2621.75,
          3014.65,
          874.2,
          7548.1,
          7470.1,
          6068.65,
          3186.7,
          4917.75,
          187.45,
          131.65,
          80.85,
          4719.75,
          3893.6,
          7856,
          827.7,
          3088.25,
          5936.55,
          936.85,
          6176.6,
          1539.75,
          755.6,
          8100.25,
          4193.4,
          3990.6,
          270.6,
          5980.75,
          605.75,
          418.3,
          2495.2,
          2628.6,
          8022.85,
          2596.15,
          298.35,
          1064.65,
          6511.8,
          2626.15,
          4348.1,
          934.15,
          733.35,
          4345,
          2053.05,
          1131.3,
          1113.95,
          3165.6,
          3923.8,
          5894.5,
          6716.45,
          2633.4,
          6325.25,
          1958.95,
          3105.55,
          4308.25,
          929.2,
          4884.85,
          2536.55,
          6465,
          221.9,
          2149.05,
          3510.3,
          810.45,
          649.65,
          3353.4,
          2146.5,
          6603.8,
          1664.3,
          3409.6,
          7657.4,
          5411.4,
          1595.5,
          279.3,
          267.6,
          2419.55,
          5861.75,
          2193,
          575.45,
          1515.1,
          6615.15,
          3674.95,
          5189.75,
          2854.95,
          3089.6,
          80.15,
          436.9,
          331.35,
          3292.3,
          1234.6,
          4919.7,
          3414.65,
          6300.85,
          25.35,
          2274.1,
          3975.7,
          436.2,
          1198.05,
          1429.65,
          607.3,
          275.4,
          2094.9,
          2564.95,
          2215.4,
          1378.25,
          6237.05,
          830.8,
          5243.05,
          194.2,
          3691.2,
          2535.55,
          4131.2,
          2276.95,
          1470.95,
          638,
          716.4,
          1940.85,
          2277.65,
          713.1,
          29.9,
          2088.8,
          5703,
          4116.8,
          4615.9,
          695.05,
          2184.85,
          1474.35,
          329.95,
          440.2,
          3744.05,
          7107,
          1498.65,
          527.5,
          2894.55,
          7397,
          7240.65,
          6998.95,
          899.45,
          2343.85,
          299.4,
          1240.25,
          5129.45,
          1830.1,
          399.45,
          2755.35,
          3204.4,
          5522.7,
          186.15,
          5610.25,
          2627.2,
          5844.65,
          6511.25,
          609.1,
          3160.55,
          1406.9,
          117.8,
          2619.25,
          6302.85,
          877.35,
          5224.95,
          2479.25,
          4484.05,
          5460.2,
          1226.45,
          2265,
          1910.6,
          5791.85,
          5270.6,
          2970.3,
          216.2,
          29.95,
          2384.15,
          7707.7,
          130.1,
          2587.7,
          5386.5,
          1730.35,
          1045.25,
          7880.25,
          1195.25,
          2405.05,
          1783.75,
          3871.85,
          507.4,
          1867.7,
          996.85,
          2326.05,
          692.55,
          1579.7,
          6347.55,
          3134.7,
          4126.2,
          814.75,
          1859.1,
          100.2,
          909.25,
          2627.35,
          7114.25,
          426.35,
          1489.3,
          6079,
          4254.85,
          2907.35,
          759.35,
          4166.35,
          6519.75,
          402.5,
          4753.85,
          6424.25,
          1783.6,
          7251.7,
          2234.95,
          4192.15,
          2884.9,
          497.6,
          994.8,
          6841.45,
          958.1,
          1170.55,
          1566.75,
          4729.75,
          6330.4,
          2751,
          1502.65,
          217.55,
          3334.95,
          267,
          1340.1,
          1367.75,
          7554.05,
          5232.9,
          1215.1,
          7553.6,
          4134.7,
          1210.3,
          3808,
          2839.45,
          1304.8,
          5357.75,
          408.25,
          530.05,
          260.7,
          150.75,
          6033.1,
          3038.55,
          757.95,
          313.6,
          2716.3,
          1955.4,
          892.7,
          1114.85,
          1170.5,
          1215.45,
          134.7,
          2243.9,
          1834.15,
          1689.45,
          1875.55,
          5432.2,
          1115.6,
          419.35,
          3541.4,
          5717.85,
          1274.45,
          494.95,
          5832.65,
          610.75,
          880.05,
          978.6,
          1766.75,
          857.25,
          369.05,
          6895.5,
          4220.35,
          2845.15,
          77.5,
          404.2,
          6563.4,
          4013.8,
          7412.25,
          60.15,
          93.45,
          5435.6,
          108.95,
          697.25,
          1654.7,
          3846.35,
          7348.8,
          934.1,
          1898.1,
          6669.05,
          7365.7,
          5481.25,
          1253.8,
          6397.6,
          146.6,
          2633.95,
          1299.1,
          6416.7,
          655.3,
          4973.4,
          7990.05,
          334.8,
          7853.7,
          2245.4,
          1537.9,
          680.05,
          97,
          3045.75,
          1033.9,
          1245.05,
          1392.25,
          1608.15,
          1702.9,
          1816.75,
          684.85,
          865,
          1687.95,
          2271.85,
          779.2,
          2282.95,
          1698.55,
          2198.3,
          3532.85,
          3726.15,
          3706.95,
          4364.1,
          6230.1,
          2188.5,
          862.4,
          6588.95,
          87.9,
          1160.45,
          6880.85,
          7609.75,
          219.35,
          930.05,
          1761.05,
          2888.7,
          1115.2,
          5563.65,
          3161.2,
          1857.85,
          6520.8,
          415.1,
          2773.9,
          607.7,
          519.15,
          31.35,
          163.2,
          2893.4,
          38.25,
          4040.2,
          5174.35,
          1782.05,
          552.9,
          1386.9,
          4888.7,
          4764,
          4534.45,
          42.7,
          654.55,
          587.7,
          683.75,
          147.8,
          3472.05,
          8424.9,
          593.2,
          56.25,
          2319.8,
          1411.2,
          2979.2,
          2823,
          7112.15,
          657.5,
          321.65,
          120.25,
          1249.25,
          225.55,
          4914.8,
          899.8,
          3116.15,
          389.6,
          1415,
          999.9,
          4447.75,
          7299.65,
          1212.25,
          6001.45,
          2092.9,
          1391.15,
          8093.15,
          4451.85,
          1753,
          116.85,
          2958.95,
          5515.8,
          4941.8,
          1190.5,
          2034.25,
          37.2,
          24.45,
          5878.9,
          1274.05,
          4267.15,
          676.7,
          2249.1,
          1806.35,
          5655.45,
          4669.2,
          537.35,
          2018.1,
          1880.85,
          5680.9,
          872.65,
          7840.6,
          161.65,
          7209,
          152.95,
          3460.3,
          237.25,
          359.4,
          185.6,
          536.4,
          3617.1,
          2108.35,
          3313.4,
          3858.05,
          739.9,
          7881.2,
          1406,
          777.35,
          1856.4,
          926,
          1763.55,
          1233.65,
          2928.5,
          2283.15,
          6126.15,
          291.9,
          4068,
          7752.3,
          3645.75,
          7227.45,
          736.8,
          4495.65,
          159.4,
          518.3,
          717.3,
          820.5,
          79.95,
          94,
          8312.75,
          4845.4,
          6697.2,
          4480.7,
          2869.85,
          3139.8,
          896.75,
          3413.25,
          4326.25,
          2025.1,
          5647.95,
          86.35,
          1203.9,
          2681.15,
          308.7,
          335.4,
          2322.85,
          4830.25,
          4991.5,
          3857.1,
          1346.9,
          4428.6,
          2727.8,
          8240.85,
          116.95,
          6373.1,
          5194.05,
          1665.2,
          6151.9,
          1673.8,
          485.25,
          6640.7,
          1358.85,
          1533.8,
          1130,
          735.5,
          827.05,
          6083.1,
          1531.4,
          4805.3,
          450.8,
          4786.15,
          496.9,
          781.25,
          587.4,
          1146.05,
          2361.8,
          973.25,
          1012.4,
          169.45,
          284.35,
          189.1,
          8166.8,
          1704.95,
          413.65,
          5916.45,
          4754.3,
          305.1,
          8124.2,
          151.65,
          770.4,
          4459.8,
          292.8,
          5215.1,
          3035.8,
          2460.35,
          4801.1,
          4063,
          532.1,
          521.3,
          350.1,
          39.65,
          708.2,
          3410.6,
          403.35,
          58.9,
          1797.1,
          1093.1,
          6311.2,
          583.3,
          4398.15,
          3085.35,
          1167.6,
          6382,
          1776.95,
          5985.75,
          245.2,
          593.05,
          3887.85,
          80.05,
          2429.1,
          3204.65,
          4863.85,
          546.85,
          7325.1,
          7372.65,
          585.95,
          103.7,
          790.7,
          6585.2,
          2433.5,
          223.45,
          6518.35,
          2995.45,
          62,
          3320.6,
          4186.3,
          6055.55,
          7689.8,
          1011.5,
          44.8,
          4331.4,
          1042.65,
          1958.45,
          1692.6,
          347.25,
          5574.35,
          1378.75,
          1793.25,
          1874.3,
          4750.95,
          357.7,
          101.9,
          429.55,
          1620.25,
          219,
          78.95,
          2196.15,
          2882.25,
          1778.7,
          568.85,
          2078.55,
          1316.9,
          1123.15,
          8065.65,
          141.45,
          469.85,
          5535.8,
          970.85,
          4162.05,
          2933.2,
          1573.05,
          152.7,
          255.35,
          5127.95,
          5233.25,
          2187.55,
          7053.35,
          1359.7,
          784.25,
          7919.8,
          157.55,
          2427.35,
          452.35,
          488.65,
          764.55,
          651.5,
          2718.3,
          74.1,
          6823.4,
          2673.45,
          851.8,
          6688.1,
          235.1,
          8310.55,
          646.85,
          1756.6,
          411.25,
          765.45,
          3019.5,
          4664.2,
          1298.7,
          401.3,
          6297.65,
          3713.95,
          475.7,
          689.75,
          903.8,
          1237.65,
          1451.9,
          7281.6,
          5763.3,
          1985.15,
          1162.85,
          3653.35,
          1745.2,
          3043.7,
          52.05,
          8564.75,
          435.25,
          4566.5,
          6744.2,
          1364.75,
          1669.4,
          951.55,
          7711.45,
          309.1,
          313.45,
          329.75,
          754,
          700.85,
          5746.75,
          2779.5,
          3320.75,
          309.4,
          590.35,
          2683.2,
          5484.4,
          2192.9,
          8594.4,
          3914.05,
          3024.15,
          336.7,
          1790.65,
          6782.15,
          5822.3,
          1816.2,
          6223.3,
          2309.55,
          63.15,
          5311.85,
          4891.5,
          2625.25,
          1057.85,
          3810.8,
          562.7,
          692.35,
          3827.9,
          2576.2,
          6860.6,
          501,
          316.2,
          1050.5,
          3532.25,
          2082.95,
          7887.25,
          465.45,
          1374.2,
          1615.1,
          937.1,
          1070.7,
          387.2,
          3213.75,
          815.55,
          4793.8,
          4056.75,
          826,
          2230.85,
          616.9,
          4156.8,
          3946.9,
          1740.7,
          3973.2,
          514,
          4159.45,
          4449.75,
          5728.55,
          1842.7,
          360.55,
          6910.3,
          788.55,
          1388.75,
          3306.85,
          927.65,
          73.5,
          450.65,
          5317.8,
          79.8,
          522.35,
          8670.1,
          3219.75,
          923.5,
          106.55,
          918.7,
          53.95,
          2333.05,
          1974.8,
          144,
          5727.45,
          666.75,
          4016.2,
          3013.05,
          2664.3,
          5060.85,
          865.8,
          2658.4,
          804.25,
          5611.75,
          2473.95,
          1516.6,
          94.5,
          8547.15,
          1072,
          2044.95,
          4327.5,
          916,
          1559.3,
          4627.65,
          742.9,
          633.45,
          18.9,
          6171.2,
          4871.45,
          1372.9,
          3625.2,
          129.55,
          4111.35,
          367.55,
          790.15,
          1725.4,
          2030.3,
          7382.25,
          7517.7,
          4263.4,
          3211.2,
          1275.7,
          2010.55,
          673.2,
          1861.1,
          4346.4,
          7459.05,
          809.75,
          309.35,
          7475.85,
          223.75,
          1912.85,
          239,
          7491.75,
          4016.75,
          3474.45,
          2919.85,
          566.1,
          8075.35,
          2381.55,
          1532.45,
          1826.7,
          2475.35,
          3517.9,
          3640.45,
          7383.7,
          1327.85,
          672.2,
          3845.45,
          1662.05,
          4264,
          171.15,
          472.25,
          2339.3,
          418.25,
          2796.45,
          1654.6,
          2083.1,
          824.85,
          8061.5,
          5731.45,
          5705.05,
          5600.15,
          7953.25,
          892.65,
          1654.45,
          5012.1,
          3161.6,
          3419.3,
          1172.95,
          461.3,
          2447.95,
          206.6,
          6155.4,
          990.45,
          620.35,
          2848.45,
          943.1,
          3457.9,
          5437.75,
          5661.7,
          6841.4,
          71.15,
          3190.25,
          92.5,
          1048.45,
          928.4,
          3005.8,
          1268.85,
          4820.55,
          161.95,
          4456.65,
          970.55,
          786.3,
          6273.4,
          1527.35,
          3541.35,
          6595.9,
          4872.35,
          4478.85,
          237.7,
          1678.05,
          5757.2,
          5036.9,
          3990.75,
          320.4,
          1931.3,
          3882.3,
          5919.35,
          739.35,
          3715.65,
          288.35,
          1070.5,
          2656.5,
          662.65,
          223.6,
          73.05,
          1943.9,
          221.1,
          6838.6,
          6045.9,
          1207,
          4904.25,
          341.45,
          53.15,
          197.4,
          1426.4,
          4554.85,
          756.4,
          6293.2,
          446.8,
          1639.3,
          4627.85,
          2236.2,
          268.35,
          4730.9,
          7069.25,
          700.45,
          252.75,
          3645.05,
          952.3,
          7074.4,
          813.3,
          507.9,
          1013.05,
          433.95,
          2444.25,
          5940.85,
          240.45,
          3097.2,
          2441.7,
          2642.05,
          2566.5,
          2866.45,
          1385.85,
          2911.8,
          2479.05,
          1022.6,
          1275.85,
          677.9,
          49.25,
          1519,
          4400.75,
          7051.95,
          5125.5,
          1617.5,
          5769.75,
          963.95,
          471.35,
          973.1,
          295.65,
          653.95,
          241.3,
          1328.15,
          8086.4,
          229.7,
          2723.4,
          137.25,
          89.75,
          2212.55,
          897.75,
          465.85,
          5375.15,
          1356.7,
          5979.7,
          608,
          29.7,
          1612.75,
          1765.95,
          720.45,
          40.2,
          483.15,
          6565.85,
          1165.6,
          658.1,
          1980.3,
          1043.35,
          324.15,
          3687.75,
          3369.25,
          171,
          92.25,
          6549.45,
          2597.6,
          365.65,
          1054.75,
          1312.15,
          7283.25,
          2076.05,
          1588.7,
          1696.2,
          3974.15,
          1023.9,
          629.55,
          1742.95,
          3480.35,
          232.4,
          1527.5,
          3107.3,
          3066.45,
          1304.85,
          3007.25,
          6843.15,
          6981.35,
          94.45,
          438.25,
          1325.85,
          45.35,
          6396.45,
          743.3,
          2974.5,
          857.8,
          1238.45,
          5895.45,
          217.45,
          7320.9,
          166.3,
          393.15,
          1081.25,
          4326.8,
          1345.75,
          1188.2,
          921.4,
          574.5,
          1840.75,
          4599.15,
          415.05,
          297.35,
          726.1,
          1424.9,
          7040.85,
          3829.75,
          385,
          5974.3,
          3363.8,
          1643.25,
          937.6,
          3091.75,
          153.95,
          127.1,
          1843.05,
          3171.6,
          3824.2,
          1917.1,
          1529.45,
          237.3,
          6292.7,
          2954.5,
          3094.05,
          3198.6,
          150.35,
          4549.05,
          5637.85,
          7251.9,
          1205.05,
          4029.95,
          5264.5,
          1810.55,
          6398.05,
          2647.1,
          1341.5,
          1934.45,
          2263.45,
          553.4,
          1747.2,
          1982.1,
          134.5,
          3233.85,
          3109.9,
          383.55,
          4039.5,
          889.9,
          293.65,
          2354.8,
          1683.7,
          2555.9,
          568.2,
          110.15,
          1813.1,
          5708.2,
          4965.1,
          1683.6,
          332.5,
          2386.85,
          3529.95,
          1151.55,
          1611.15,
          3565.65,
          1859.2,
          2282.55,
          1797.75,
          397,
          4889.3,
          6075.9,
          5930.05,
          6130.85,
          7839.85,
          3077,
          1007.9,
          1882.8,
          3581.6,
          1308.4,
          4674.55,
          4720,
          35.85,
          129.6,
          1261,
          1778.5,
          494.9,
          156.25,
          1857.3,
          3641.5,
          3597.5,
          720.1,
          4905.75,
          1436.95,
          4265,
          660.05,
          1195.75,
          552.95,
          434.8,
          352.65,
          475,
          5594,
          1242.25,
          1117.55,
          5727.15,
          1293.8,
          1868.4,
          3046.05,
          4740,
          72.4,
          176.3,
          2830.45,
          1200.15,
          5139.65,
          633.4,
          3357.9,
          326.8,
          70.35,
          1423.65,
          3861.45,
          2657.55,
          958.45,
          5099.15,
          7556.9,
          662.95,
          3581.4,
          116.6,
          4236.6,
          4859.1,
          6548.65,
          3092,
          1505.9,
          6179.35,
          631.85,
          1288.3,
          1454.25,
          5442.05,
          1729.35,
          84.65,
          1178.25,
          6697.35,
          1559.15,
          3168,
          106.2,
          4616.05,
          633.3,
          1252.85,
          280,
          1908.35,
          3415.25,
          1796.55,
          226.95,
          1134.25,
          480.75,
          1867.6,
          97.5,
          129.15,
          307.6,
          4949.1,
          89.05,
          301.4,
          1790.6,
          159.35,
          2204.35,
          1222.65,
          377.85,
          6735.05,
          769.1,
          887.35,
          279.2,
          878.35,
          5809.75,
          541.5,
          4862.5,
          2404.1,
          1438.05,
          4965,
          273.2,
          3626.35,
          6404,
          1165.55,
          1329.2,
          123.8,
          853.1,
          2415.95,
          208.85,
          198.5,
          92.45,
          6707.15,
          1338.15,
          2541.25,
          1573.95,
          378.6,
          4735.2,
          4368.85,
          2221.55,
          1520.1,
          871.4,
          8058.85,
          1416.5,
          4512.7,
          151.8,
          810.85,
          837.95,
          538.2,
          6561.25,
          1857.25,
          3539.25,
          5585.4,
          226.8,
          1092.35,
          3895.35,
          4541.2,
          4217.8,
          3450.15,
          520.1,
          7432.05,
          369.25,
          5471.75,
          979.05,
          251.6,
          520.55,
          324.25,
          5431.4,
          512.45,
          6004.85,
          358.5,
          265.45,
          4925.35,
          68.35,
          1148.1,
          5031,
          58.3,
          7455.45,
          1411.9,
          1653.45,
          5589.45,
          2275.1,
          2793.55,
          115.1,
          6589.6,
          89.25,
          231.8,
          4972.1,
          6590.5,
          5711.05,
          8672.45,
          2001,
          7998.8,
          5730.7,
          886.7,
          1573.7,
          936.7,
          39.8,
          369.1,
          189.2,
          861.85,
          113.55,
          5224.35,
          990.9,
          1790.35,
          2070.6,
          3373.4,
          5835.5,
          1032.05,
          2568.15,
          5196.1,
          6322.1,
          93.4,
          1423.15,
          4903.15,
          5817,
          1434.6,
          8405,
          1495.1,
          1424.5,
          2820.65,
          7111.3,
          1411.65,
          2227.8,
          461.7,
          842.25,
          73.65,
          5528.9,
          5497.05,
          6885.75,
          3616.25,
          1094.35,
          914.4,
          356.15,
          4136.4,
          250.1,
          45,
          5017.7,
          1225.65,
          484.05,
          4811.6,
          914.3,
          1180.95,
          314.95,
          4299.2,
          3557.7,
          947.4,
          1023.75,
          1930.9,
          299.3,
          3921.1,
          463.6,
          835.15,
          1423.85,
          3058.3,
          3131.8,
          1193.55,
          5193.2,
          174.65,
          284.3,
          5611.7,
          1952.8,
          764.95,
          1079.05,
          3956.7,
          6754.35,
          4388.4,
          6309.65,
          306.6,
          401.85,
          1308.1,
          165,
          6954.15,
          927.35,
          7220.35,
          4391.25,
          5154.6,
          3901.25,
          1221.65,
          8277.05,
          3650.35,
          4176.7,
          2542.45,
          2934.3,
          512.25,
          3217.55,
          4492.9,
          299.7,
          679.55,
          209.1,
          3379.25,
          2790.65,
          30.2,
          1800.05,
          6096.45,
          148.05,
          4869.35,
          101.65,
          1264.2,
          6441.4,
          118.5,
          4018.35,
          6130.95,
          771.95,
          232.5,
          313,
          3246.45,
          2165.05,
          331.3,
          7388.45,
          1625,
          3403.4,
          206.15,
          1102.4,
          1345.85,
          1025.95,
          1345.55,
          692.1,
          8332.15,
          4178.65,
          7317.1,
          31.9,
          6141.65,
          2802.3,
          8399.15,
          3921.3,
          548.8,
          6555.2,
          535.55,
          294.9,
          2494.65,
          249.4,
          3522.65,
          1001.2,
          1108.2,
          396.1,
          3883.3,
          4541.9,
          1093.4,
          428.7,
          5681.1,
          7413.55,
          181.1,
          6891.4,
          5769.6,
          225.85,
          183.15,
          6132.7,
          2193.2,
          828.2,
          1013.35,
          1014.25,
          5924.4,
          4299.95,
          451.55,
          311.6,
          5166.2,
          514.6,
          1090.1,
          6065.3,
          255.6,
          3684.95,
          284.9,
          2483.5,
          4284.8,
          565.35,
          7565.35,
          419.7,
          6991.9,
          4888.2,
          4589.85,
          5231.3,
          2341.5,
          8016.6,
          1424.6,
          7748.75,
          422.5,
          1147.45,
          4138.05,
          2379.1,
          2293.6,
          4738.85,
          6382.55,
          3838.75,
          1217.25,
          708.8,
          712.75,
          2545.7,
          1245.6,
          490.65,
          799.65,
          6496.15,
          1483.25,
          3465.05,
          762.5,
          79.65,
          4931.8,
          70.55,
          3425.35,
          1031.4,
          563.5,
          2345.55,
          306.05,
          2730.85,
          51.6,
          5229.45,
          3399.85,
          287.85,
          997.75,
          385.55,
          1581.2,
          2692.75,
          322.5,
          1871.85,
          1399.35,
          3996.8,
          5552.5,
          196.95,
          498.25,
          5692.65,
          793.55,
          1738.9,
          237.75,
          246.6,
          2490.15,
          7982.5,
          1138.8,
          1700.9,
          2931,
          47.95,
          1328.35,
          800.3,
          4913.3,
          1184,
          597.9,
          5253.95,
          3361.05,
          47.5,
          828.05,
          5347.95,
          593.75,
          2625.55,
          4154.8,
          6859.05,
          689.35,
          1105.4,
          82.15,
          5265.1,
          3055.5,
          1679.25,
          3708.4,
          1286,
          425.1,
          1747.85,
          2897.95,
          1004.35,
          6058.95,
          266.95,
          916.15,
          2006.95,
          8306.05,
          5498.2,
          903.6,
          4732.35,
          1404.65,
          6126.1,
          7804.15,
          6688.95,
          533.5,
          2075.1,
          323.25,
          8046.85,
          1228.65,
          4126.35,
          4564.9,
          780.2,
          300.7,
          3309.25,
          5121.75,
          362.2,
          1815.3,
          411.45,
          82.7,
          6110.2,
          477.7,
          4273.45,
          1068.15,
          4614.55,
          948.9,
          791.15,
          2745.2,
          125.95,
          261.3,
          2289.9,
          5498.8,
          8333.95,
          38.45,
          682.1,
          6562.9,
          1247.75,
          3062.45,
          1697.7,
          1269.1,
          369.6,
          2348.45,
          1618.2,
          867.1,
          7002.95,
          6424.7,
          3217.65,
          202.15,
          709.5,
          1899.65,
          5685.8,
          502.6,
          1445.3,
          3834.4,
          1614.9,
          143.35,
          4200.25,
          5348.65,
          3629.2,
          3810.55,
          6856.95,
          1108,
          3638.25,
          301.55,
          6521.9,
          1286.05,
          947.75,
          893,
          1291.35,
          2564.3,
          481.1,
          7930.55,
          5336.35,
          1208.35,
          1496.9,
          38.15,
          514.75,
          5817.45,
          6683.4,
          422.7,
          1794.8,
          61.15,
          1841.2,
          582.5,
          2743.45,
          96.1,
          2877.05,
          333.65,
          1111.65,
          360.35,
          70.5,
          2937.65,
          579,
          688.65,
          1558.65,
          5082.8,
          2224.5,
          3270.25,
          4952.95,
          1021.55,
          256.25,
          73,
          46,
          6468.6,
          797.1,
          1448.6,
          4016.3,
          2090.25,
          1192.3,
          6441.85,
          5032.25,
          1335.2,
          90.1,
          7015.9,
          7279.35,
          914.6,
          1907.85,
          1416.2,
          4214.25,
          439.75,
          2610.65,
          5411.65,
          1311.6,
          6078.75,
          1653.85,
          1709.15,
          2383.6,
          29.15,
          3527,
          134.75,
          5737.6,
          1336.65,
          4911.05,
          221.7,
          7852.4,
          272.35,
          4187.75,
          6143.15,
          242.8,
          617.35,
          866.45,
          4526.85,
          402.85,
          1637.4,
          1057,
          91.45,
          2939.8,
          1277.5,
          1427.55,
          1514.85,
          487.75,
          338.1,
          524.35,
          4983.05,
          688.5,
          3670.5,
          95.85,
          818.45,
          1588.75,
          130.55,
          147.55,
          1248.9,
          164.85,
          1536.75,
          424.45,
          740.8,
          1133.7,
          7344.45,
          678.75,
          349.8,
          1224.05,
          1565.7,
          1272.05,
          19,
          459.6,
          653.15,
          856.35,
          454.05,
          2603.1,
          1072.6,
          5731.4,
          824.75,
          5669.5,
          712.25,
          3181.8,
          5706.2,
          579.4,
          1360.25,
          1087.45,
          334.65,
          68.8,
          1374.35,
          1506.4,
          1957.1,
          913.3,
          4079.55,
          2249.95,
          3344.1,
          6841.3,
          149.55,
          564.4,
          3842.6,
          1648.45,
          1685.9,
          6152.4,
          7379.8,
          741,
          1482.3,
          79.9,
          959.9,
          7767.25,
          3119.9,
          8220.4,
          6654.1,
          1029.35,
          324.8,
          6603,
          834.1,
          2839.95,
          812.4,
          83.3,
          5832,
          5762.95,
          1342.15,
          189.95,
          370.5,
          6944.5,
          5149.5,
          1380.1,
          357.15,
          7031.3,
          7968.85,
          1127.2,
          226.2,
          220.35,
          344.5,
          468.35,
          4895.1,
          7723.9,
          1087.25,
          3211.9,
          2585.95,
          224.85,
          6994.6,
          1927.3,
          6066.55,
          266.6,
          333.55,
          773.65,
          6333.4,
          1384.75,
          160.8,
          531.15,
          1379.6,
          4242.35,
          4839.15,
          141.5,
          900.5,
          60.1,
          655.85,
          220.65,
          1028.75,
          1132.75,
          2961.4,
          2070.75,
          3512.5,
          4520.15,
          6936.85,
          1548.65,
          208.45,
          1037.75,
          89.1,
          2066,
          7548.6,
          1949.4,
          4092.85,
          1058.25,
          58.15,
          80,
          6225.4,
          5464.65,
          3972.25,
          4990.25,
          5186,
          4189.7,
          608.8,
          703.55,
          1462.6,
          1095.65,
          912,
          3371,
          6145.85,
          81,
          573.05,
          8404.9,
          220.8,
          4616.1,
          5445.95,
          702.05,
          8477.7,
          4631.7,
          2936.25,
          2659.4,
          2815.25,
          164.5,
          259.65,
          2832.75,
          208,
          2248.05,
          2044.75,
          4981.15,
          1382.9,
          4134.85,
          1861.5,
          3848,
          2890.65,
          2722.2,
          1191.4,
          812.5,
          81.25,
          546.45,
          8317.95,
          3019.1,
          1177.95,
          916.75,
          61.7,
          219.65,
          279.5,
          5817.7,
          53.5,
          735.9,
          6413.65,
          8349.7,
          4422.95,
          523.5,
          5607.75,
          6578.55,
          857.75,
          1940.8,
          4300.45,
          5985,
          2448.5,
          4920.8,
          5088.4,
          6017.9,
          7213.75,
          624.15,
          270.7,
          7751.7,
          571.05,
          4060.55,
          5438.95,
          4914.9,
          7789.6,
          741.5,
          5438.9,
          2024.1,
          1171.5,
          342.4,
          4299.75,
          3416.85,
          233.65,
          6692.65,
          7321.05,
          3058.65,
          5784.3,
          144.95,
          403.15,
          3880.05,
          1430.25,
          2065.4,
          4657.95,
          5873.75,
          6585.35,
          1233.4,
          2093.4,
          2106.3,
          7085.5,
          1466.1,
          3777.15,
          1803.7,
          79.5,
          821.6,
          567.45,
          1975.85,
          5638.3,
          4504.9,
          2763.35,
          1419.4,
          4915.15,
          3801.3,
          3874.1,
          4378.35,
          506.9,
          4370.75,
          3762,
          186.05,
          237.95,
          24.05,
          6744.25,
          4535.85,
          3865.45,
          1492.1,
          6448.05,
          84.75,
          3545.1,
          1937.4,
          560.6,
          109.8,
          4009.2,
          1127.35,
          1633,
          208.25,
          847.25,
          1119.9,
          329.8,
          2613.4,
          733.95,
          2109.35,
          5458.8,
          2989.6,
          174.3,
          68.75,
          658.95,
          740,
          1498.35,
          169.65,
          775.3,
          2666.75,
          2215.25,
          2852.4,
          4086.3,
          531,
          7943.45,
          169.75,
          395.6,
          452.7,
          278.85,
          115.95,
          204.7,
          25.4,
          4911.35,
          232.55,
          1153.25,
          1556.85,
          185.55,
          1391.65,
          1835.3,
          902,
          6953.4,
          2080.1,
          805.2,
          324.6,
          6827.5,
          7322.5,
          1178.75,
          106.85,
          5917.55,
          4194.85,
          609.65,
          8312.4,
          21.1,
          1405.3,
          6148.45,
          3121.1,
          3008.15,
          350.3,
          275.9,
          2217.15,
          1561.5,
          5730.15,
          2838.55,
          5329.55,
          249.55,
          81.05,
          141.6,
          84.3,
          1131.2,
          600,
          1292.65,
          201.7,
          81.95,
          4903.2,
          6333.8,
          6332.75,
          6474.45,
          501.35,
          3545.05,
          157.65,
          779.25,
          6296.75,
          1301.7,
          523.15,
          1654.85,
          1884.65,
          370.25,
          8100.55,
          4847.35,
          1477.65,
          1801.1,
          4946.05,
          1601.5,
          3036.75,
          3624.3,
          168.2,
          2496.7,
          107.6,
          6871.7,
          2076.2,
          1253.9,
          2203.1,
          3688.6,
          420.45,
          2983.65,
          55.2,
          883.35,
          1233.25,
          162.15,
          1079.45,
          6110.75,
          6579.05,
          8297.5,
          438.4,
          791.7,
          1246.4,
          5560,
          5581.05,
          2070.05,
          1077.95,
          1331.05,
          3371.75,
          354.05,
          132.25,
          979.5,
          4953.25,
          3121.4,
          6363.45,
          767.9,
          5810.9,
          5135.35,
          2239.65,
          415.4,
          7362.9,
          2603.3,
          3141.7,
          6017.65,
          3145.15,
          3692.85,
          1218.45,
          239.55,
          5401.9,
          263.05,
          546.95,
          5125.75,
          1111.85,
          6786.1,
          4822.85,
          3566.7,
          95.55,
          989.45,
          1505.15,
          7521.95,
          1422.05,
          562.6,
          5431.9,
          1733.15,
          261.25,
          674.55,
          6293.45,
          6921.7,
          84.85,
          5330.2,
          4045.65,
          8033.1,
          3580.95,
          3126.85,
          4681.75,
          1269.55,
          1742.75,
          1043.4,
          293.3,
          1718.95,
          1303.25,
          1062.1,
          2200.7,
          526.95,
          4036,
          200.2,
          2651.1,
          2404.85,
          2145,
          6431.05,
          1036,
          5042.75,
          3753.2,
          1294.6,
          4707.1,
          237.65,
          749.25,
          516.3,
          447.9,
          4947.55,
          295.95,
          1900.25,
          1119.35,
          5943.65,
          3721.9,
          225.75,
          5238.9,
          1715.1,
          996.45,
          2010.95,
          1784.5,
          1334.5,
          2715.3,
          3365.85,
          2807.1,
          1460.85,
          503.25,
          67.1,
          4428.45,
          215.2,
          79.7,
          4297.95,
          272.2,
          1460.65,
          7965.95,
          1271.8,
          1943.2,
          34.7,
          122.7,
          1414.45,
          373,
          1992.2,
          46.35,
          3382.3,
          6263.8,
          3067.2,
          4539.6,
          471.7,
          5706.3,
          3563.8,
          3343.15,
          7542.25,
          170.5,
          6526.65,
          5373.1,
          1421.9,
          3545.35,
          5574.75,
          1790.15,
          7589.8,
          139.4,
          1398.6,
          2511.55,
          1558.7,
          343.95,
          599.25,
          5867,
          1013.2,
          3600.65,
          4542.35,
          1534.05,
          837.5,
          3894.4,
          667.7,
          1540.35,
          6283.3,
          5960.5,
          252,
          365.55,
          3168.75,
          1837.9,
          743.05,
          2072.75,
          317.75,
          1374.9,
          1820.45,
          1401.4,
          3147.5,
          558.8,
          1493.75,
          1095.3,
          2921.75,
          2169.8,
          840.1,
          3678.3,
          48.45,
          6069.25,
          1126.75,
          299.05,
          5029.05,
          1028.9,
          8071.05,
          2068.55,
          4630.2,
          1712.9,
          4378.9,
          7882.5,
          1146.65,
          2962,
          2624.25,
          2566.3,
          3626.1,
          70.75,
          442.6,
          308.25,
          2799,
          2278.75,
          6029,
          1087.7,
          917.45,
          1397.65,
          2467.75,
          4874.7,
          4140.1,
          135,
          438.9,
          6590.8,
          5356.45,
          1916.2,
          3058.15,
          521.8,
          8165.1,
          957.1,
          4048.95,
          235.8,
          113.1,
          1857.75,
          4191.45,
          563.05,
          521.9,
          2911.3,
          426.65,
          1888.45,
          1052.4,
          3268.05,
          5976.9,
          865.05,
          6747.35,
          1147,
          1553.95,
          1448.8,
          187.75,
          4145.9,
          1442.2,
          2861.45,
          8182.85,
          1212.1,
          6252.7,
          7308.95,
          80.2,
          190.5,
          6471.85,
          5848.6,
          474.9,
          633.85,
          2111.3,
          1972.35,
          605.45,
          6825.65,
          2401.05,
          58,
          3694.7,
          1847.55,
          1564.4,
          8496.7,
          1152.7,
          70.9,
          2362.1,
          3949.15,
          529.8,
          314.55,
          5885.4,
          1120.3,
          1090.6,
          30.5,
          57.2,
          1849.95,
          1215.6,
          72.1,
          1993.2,
          6849.4,
          351.5,
          8456.75,
          2460.55,
          5957.9,
          5377.8,
          7904.25,
          267.4,
          1237.85,
          471.85,
          1396.9,
          1242.45,
          3673.6,
          2607.6,
          1611,
          900.9,
          630.6,
          1343.4,
          7942.15,
          676.35,
          864.2,
          6049.5,
          2274.35,
          314.6,
          178.8,
          6046.1,
          6010.05,
          422.6,
          7382.85,
          2531.8,
          842.9,
          614.45,
          4684.3,
          2554,
          318.1,
          4524.05,
          1510.3,
          355.9,
          322.9,
          973.35,
          320.45,
          4854.3,
          577.6,
          2424.5,
          4443.45,
          4390.25,
          3462.1,
          6157.6,
          168.6,
          3835.55,
          6982.5,
          6851.65,
          48.55,
          5424.25,
          165.5,
          1444.65,
          2196.3,
          4765,
          75.9,
          3789.2,
          1144.6,
          6339.3,
          273.4,
          219.5,
          371.9,
          7113.75,
          4039.3,
          198.1,
          1582.75,
          3847.6,
          3364.55,
          3486.65,
          465.7,
          58.85,
          8058.55,
          6717.9,
          1522.7,
          2303.35,
          1389.6,
          181.5,
          1929.35,
          2045.55,
          2227.1,
          3431.75,
          4354.45,
          7624.2,
          6140.85,
          3825.85,
          293.85,
          1327.15,
          743.5,
          1442.65,
          4421.95,
          1740.8,
          472.65,
          1587.55,
          1267,
          5935.1,
          85.05,
          6480.9,
          5953,
          7035.6,
          391.7,
          7726.35,
          1397.3,
          780.25,
          646.05,
          1493.55,
          4261.2,
          5040.2,
          1083,
          1348.9,
          1424.95,
          6780.1,
          808.95,
          2998,
          711.15,
          836.35,
          2455.05,
          601.25,
          4859.25,
          4504.55,
          2264.5,
          428.45,
          5515.45,
          7234.8,
          7611.55,
          139.75,
          5060.9,
          874.8,
          140.4,
          5824.75,
          1758.9,
          2036.55,
          1285.8,
          7007.6,
          2337.45,
          2312.55,
          1641.8,
          89.55,
          677.05,
          70.8,
          3183.4,
          1296.15,
          5290.45,
          6700.05,
          4298.45,
          497.3,
          3975.9,
          953.65,
          825.7,
          2868.05,
          229.6,
          4663.4,
          6479.4,
          5333.35,
          2917.65,
          5886.85,
          1815.65,
          4317.35,
          6703.5,
          19.05,
          136.75,
          6690.75,
          3092.65,
          3801.7,
          1978.65,
          834.15,
          1035.5,
          1570.7,
          5341.8,
          114.7,
          160.05,
          400,
          184.05,
          745.3,
          3846.75,
          663.55,
          233.55,
          4304,
          1901.05,
          5450.7,
          1067.65,
          244.85,
          1266.1,
          389.25,
          655.9,
          1375.15,
          4758.8,
          3958.2,
          5662.25,
          2780.6,
          5283.95,
          1538.6,
          195.3,
          3186.65,
          303.7,
          114.1,
          1229.1,
          2169.4,
          1025.05,
          1067.15,
          1255.1,
          4164.4,
          1309,
          169.8,
          4475.9,
          3090.05,
          2198.9,
          6145.2,
          1756.2,
          2106.05,
          3804.4,
          70.65,
          3471.1,
          2708.2,
          321.4,
          4513.65,
          1347.15,
          415.95,
          695.75,
          520,
          1135.7,
          2462.55,
          3491.55,
          2509.25,
          990.3,
          2423.4,
          3686.05,
          5869.4,
          5168.1,
          1263.05,
          7337.55,
          3023.55,
          244.8,
          432.25,
          2157.95,
          5509.3,
          76.65,
          141.1,
          4738.3,
          528.45,
          7534.65,
          56.35,
          5327.25,
          6224.8,
          2898.95,
          3562.5,
          82.3,
          179.35,
          7422.1,
          3952.45,
          225.65,
          1400.55,
          1270.25,
          1090.65,
          2679.7,
          6287.3,
          741.7,
          197.7,
          1537.85,
          3409.1,
          679.85,
          1809.35,
          319.85,
          1108.8,
          4575.35,
          1529.65,
          1446.8,
          918.6,
          1125.6,
          296.1,
          4122.65,
          723.35,
          4798.4,
          3348.1,
          1230.25,
          1596.6,
          95,
          1818.9,
          1504.05,
          4025.6,
          8543.25,
          2970.8,
          6687.85,
          3435.6,
          2874.45,
          7285.7,
          1292.2,
          105.5,
          3942.45,
          2985.25,
          713,
          4263.45,
          4653.85,
          4433.3,
          1278.8,
          715,
          713.75,
          5625.55,
          622.9,
          2157.5,
          5212.65,
          364.55,
          1060.6,
          3437.45,
          338.9,
          1312.45,
          4335.2,
          5000.2,
          4874.8,
          67.55,
          993.15,
          154.65,
          4713.4,
          4860.85,
          201.95,
          7987.6,
          8349.45,
          1376.5,
          3527.3,
          1056.95,
          1509.8,
          5278.15,
          4872.2,
          2754.45,
          385.9,
          4922.4,
          5639.05,
          1799.3,
          718.1,
          1463.5,
          1623.4,
          4107.25,
          4122.9,
          2369.3,
          788.8,
          3527.6,
          875.55,
          247.25,
          1029.8,
          5299.65,
          5538.8,
          160.85,
          1011.8,
          242,
          5294.6,
          425.9,
          865.55,
          723.4,
          578.5,
          328.95,
          7984.15,
          531.55,
          1396.25,
          302.45,
          564.65,
          2310.2,
          62.25,
          1077.05,
          2122.05,
          75.5,
          44.2,
          4135,
          4323.35,
          4138.9,
          35.55,
          1111.2,
          7039.45,
          1359,
          39.25,
          2067,
          392.65,
          7222.75,
          2168.9,
          265.3,
          4483.95,
          955.15,
          1461.15,
          3442.8,
          1250.1,
          100.35,
          66.95,
          2365.15,
          3452.55,
          4904.85,
          38,
          465.05,
          46.4,
          174.45,
          1887,
          469.8,
          5163,
          520.95,
          107.1,
          1336.8,
          6751.35,
          826.1,
          317.25,
          535.35,
          55.8,
          6989.7,
          5774.55,
          706.6,
          4084.35,
          5071.9,
          5980.55,
          521.35,
          1096.6,
          251.75,
          4113.1,
          547.8,
          1471.75,
          8035.95,
          3330.1,
          955.75,
          445.85,
          1923.85,
          1322.85,
          6000.1,
          286.8,
          435.45,
          1718.2,
          44.6,
          416.3,
          108.05,
          220.95,
          2181.55,
          4085.75,
          174.75,
          4154.55,
          2020.9,
          244.75,
          7039.05,
          4747.2,
          854.45,
          801.3,
          1497.9,
          7623.2,
          3836.3,
          1169.35,
          6253,
          164.3,
          5764.7,
          3273.95,
          1769.6,
          6713.2,
          528.35,
          1295.4,
          5925.75,
          4424.2,
          2511.95,
          1007.8,
          1862.9,
          5986.45,
          442.45,
          1672.15,
          6118.95,
          2728.6,
          901.25,
          1539.8,
          1259.35,
          7173.15,
          5629.15,
          6856.45,
          943.85,
          2135.5,
          1863.8,
          4667,
          155.65,
          63,
          408.5,
          4510.8,
          2470.1,
          2142.8,
          51.15,
          7544,
          2549.1,
          1511.2,
          2200.25,
          433.75,
          1237.3,
          4453.3,
          5629.55,
          1307.8,
          1510.5,
          962.9,
          6383.9,
          239.75,
          1905.4,
          157.75,
          108.7,
          6281.45,
          918.75,
          2421.6,
          1836.9,
          374,
          470.95,
          554.05,
          365.8,
          2203.7,
          2209.15,
          551.3,
          279.25,
          7195.35,
          5293.95,
          370.4,
          198.25,
          846.8,
          1710.9,
          5029.2,
          3822.45,
          1403.1,
          1818.3,
          4546,
          1563.95,
          1315,
          8468.2,
          3899.05,
          5038.45,
          161.15,
          982.95,
          1125.2,
          337.9,
          5293.4,
          4968,
          1336.15,
          5718.2,
          533.6,
          3023.65,
          639.65,
          2492.25,
          8109.8,
          256.75,
          770.5,
          5165.7,
          4310.35,
          1496.45,
          2965.75,
          497.55,
          1218.55,
          4385.05,
          693.3,
          571.75,
          3579.15,
          2796.35,
          8289.2,
          59.2,
          1390.85,
          799,
          5776.45,
          3444.85,
          4563,
          2244.95,
          1643.55,
          1641.3,
          3509.4,
          1210.4,
          4447.55,
          452.8,
          50.9,
          480.6,
          4867.95,
          2049.05,
          5997.1,
          39.3,
          1110.5,
          2186.4,
          4747.85,
          443.9,
          1216.6,
          2434.45,
          574.35,
          1144.5,
          1321.3,
          2917.5,
          6766.95,
          1901,
          602.55,
          7854.9,
          280.4,
          139.35,
          3521.7,
          673.25,
          8308.9,
          5276.1,
          56,
          5017.9,
          31.2,
          552.7,
          247,
          5785.65,
          6758.45,
          71.25,
          59.85,
          655.5,
          1784.9,
          767.55,
          7869.05,
          5893.15,
          146.9,
          358.15,
          3162.65,
          696.35,
          191.05,
          4228.55,
          1710.45,
          299.75,
          1640,
          4543.15,
          3152.5,
          44.05,
          2181.75,
          1129.75,
          6463.15,
          3243.45,
          4619.55,
          54.75,
          1815,
          2406.1,
          49.5,
          141.7,
          639.7,
          4828.05,
          7576.7,
          401.95,
          7291.75,
          2398.4,
          3436.1,
          1412.4,
          563.65,
          2054.4,
          4103.9,
          1442,
          4322.85,
          5683.6,
          1973.75,
          893.55,
          417.5,
          5743.05,
          224.05,
          1301.1,
          178.5,
          59.05,
          220.4,
          152.3,
          3473.4,
          91.3,
          661.55,
          525.55,
          2203.65,
          5688.45,
          168.9,
          467.5,
          1388.45,
          1355.1,
          1123.65,
          1680.25,
          6719.9,
          560.85,
          1580.1,
          3004.15,
          138.85,
          1551.6,
          432.5,
          2809.05,
          1490.95,
          1411.35,
          3069.45,
          5893.95,
          5219.65,
          5309.5,
          1093.2,
          2028.8,
          5511.65,
          1358.6,
          235.2,
          1971.15,
          5588.8,
          6792.45,
          439.2,
          1267.95,
          7210.85,
          2971.7,
          2495.15,
          2696.55,
          819.4,
          1058.6,
          7346.2,
          1326.25,
          2901.8,
          1849.2,
          6643.5,
          956.65,
          3875.4,
          828.85,
          4264.25,
          2238.5,
          3665.55,
          3377.8,
          4557.5,
          5841.35,
          196.4,
          7250.15,
          413.25,
          3355.65,
          4054.2,
          476.8,
          2265.25,
          2983.8,
          371.65,
          5961.1,
          5275.8,
          2816.65,
          94.15,
          1417.9,
          1173.35,
          6705.7,
          144.8,
          232.1,
          663.05,
          281,
          4107.3,
          70.4,
          6816.95,
          360.1,
          457.3,
          60,
          2215.45,
          818.05,
          5236.4,
          7537.5,
          185.2,
          99.95,
          743.75,
          2723.15,
          1020.75,
          174.7,
          68.95,
          7714.65,
          635.9,
          3734.25,
          159.2,
          346.45,
          5037.55,
          2347.9,
          535.05,
          762.45,
          5956.85,
          335.95,
          1983.15,
          3096.9,
          1054.8,
          2281.6,
          3983.6,
          1118.8,
          6503.2,
          40.9,
          5138.1,
          207.4,
          3687.85,
          1402.25,
          577.15,
          2308.6,
          2724.6,
          3623.95,
          1647,
          2272.8,
          5914.4,
          866.4,
          70.7,
          5686.4,
          270.95,
          451.1,
          647.5,
          4350.1,
          3645.6,
          1923.5,
          1061.6,
          255.25,
          4391.45,
          4464.8,
          790,
          195.65,
          220.1,
          188.7,
          5794.65,
          94.6,
          661.25,
          4287.2,
          126.05,
          1964.6,
          2862.75,
          809.25,
          1033,
          3751.15,
          4576.3,
          713.6,
          5779.6,
          1679.65,
          939.7,
          180.3,
          1010,
          1458.1,
          381.3,
          355.2,
          605.9,
          1701.65,
          2659.45,
          1646.45,
          171.45,
          4392.5,
          2288.7,
          1611.65,
          330.6,
          923.85,
          969.85,
          302.35,
          890.5,
          405.7,
          181.8,
          483.7,
          5118.95,
          1710.15,
          1574.45,
          78.3,
          4547.25,
          6164.7,
          7101.5,
          474.8,
          1194.3,
          830.7,
          212.3,
          1193.05,
          3482.85,
          2178.6,
          1859.5,
          7245.9,
          2762.75,
          81.1,
          5510.65,
          1671.6,
          2911.5,
          2879.2,
          2440.15,
          1724.15,
          545.2,
          246.5,
          325.45,
          1540.05,
          3157,
          345.5,
          112.3,
          815.5,
          1022.5,
          3255.35,
          69.7,
          1414.2,
          992.7,
          2568.55,
          327.45,
          763.1,
          251.65,
          5624.85,
          600.15,
          3886.45,
          903.7,
          4993.4,
          434.1,
          2250.65,
          645.8,
          1165.9,
          84.4,
          1509.9,
          5000.05,
          761.85,
          146.05,
          2191.15,
          973.95,
          153.05,
          1156.55,
          6039.9,
          3375.9,
          731.3,
          1594.75,
          1444.05,
          1350.15,
          5676,
          471.55,
          226.45,
          905.55,
          917.15,
          1872.2,
          1554,
          390.4,
          3321.35,
          1715.65,
          6367.2,
          2978.3,
          1549.75,
          967.9,
          179.25,
          990.85,
          170.9,
          1742.45,
          770.6,
          6858.9,
          5614.45,
          550.35,
          417.65,
          194.55,
          804.85,
          2515.3,
          144.35,
          2234.55,
          24.75,
          55.55,
          4445.3,
          195.05,
          3862.55,
          100.9,
          6614.9,
          363.15,
          4024.2,
          2172.05,
          4634.35,
          342.3,
          4939.25,
          6912.7,
          613.95,
          1745.5,
          580.1,
          1026.35,
          1244.8,
          3000.25,
          788.6,
          1156.1,
          3030.6,
          2111.45,
          635.6,
          1988.05,
          285.2,
          1088.25,
          3250.45,
          580.8,
          52.2,
          6457.15,
          2724.25,
          4861.45,
          96.45,
          6430.9,
          2016.3,
          118.3,
          1500.5,
          1789.25,
          2110.15,
          3915.4,
          1713.1,
          711.95,
          795.15,
          23.45,
          893.2,
          1801.9,
          6632.75,
          573.3,
          7430.75,
          6470.1,
          5991.05,
          3015.75,
          321.9,
          293.15,
          145.4,
          1078.9,
          1607.2,
          5965.95,
          3301.05,
          5468.95,
          995.35,
          477.05,
          3870,
          5883.85,
          4062.2,
          467.7,
          377.55,
          89.9,
          2658.8,
          2745.7,
          7530.8,
          1009.25,
          2263.4,
          158.95,
          6125.4,
          2799.75,
          39.85,
          193.8,
          5617.75,
          1993.25,
          2964.8,
          3351.55,
          1524.85,
          2107.15,
          431,
          3147.15,
          1651.95,
          1406.65,
          2184.35,
          3358.65,
          1267.2,
          1468.9,
          233.9,
          154.8,
          1462.05,
          6770.5,
          1157.05,
          146.65,
          853,
          309.25,
          4786.1,
          6501.35,
          140.95,
          5566.4,
          1175.85,
          2333.85,
          473.9,
          518.9,
          4959.15,
          1772.25,
          1400.85,
          4254.1,
          424.15,
          332.45,
          1166.7,
          4312.5,
          3593.8,
          36.55,
          5153.5,
          5483.9,
          788.35,
          1994.3,
          5508.35,
          572.45,
          1604.5,
          4234.15,
          5453.4,
          189.45,
          6669.45,
          270.8,
          1222.8,
          5124.6,
          1175.6,
          253,
          6218.45,
          294.5,
          188.1,
          4018.55,
          2583.75,
          1911.5,
          4639.45,
          274.35,
          5899.85,
          6425.65,
          4137.2,
          3741.85,
          1339.8,
          478.1,
          3009.5,
          1415.85,
          930.9,
          6236.75,
          1198.8,
          3196,
          347.4,
          5409.75,
          3928.3,
          3097,
          2546.85,
          174.8,
          48.35,
          627.4,
          1296.8,
          2522.4,
          82.9,
          545.15,
          5941.05,
          25.85,
          3848.8,
          55.4,
          4539.35,
          944.65,
          331.85,
          4213.35,
          1924.1,
          190.1,
          4620.4,
          113.95,
          292.85,
          953.45,
          601.55,
          478.75,
          248.4,
          810.3,
          2867.75,
          947.3,
          1691.9,
          357.75,
          134.6,
          929.3,
          1336.1,
          6595,
          6474.4,
          228.65,
          942.95,
          1841.9,
          455.3,
          25.75,
          2948.6,
          7118.9,
          758.6,
          99.45,
          718.55,
          2368.4,
          2758.15,
          2117.2,
          2467.1,
          417,
          3199,
          2807.65,
          5780.7,
          6951.15,
          173.15,
          6139.5,
          5448.6,
          1629.2,
          226.55,
          122,
          641.35,
          90.75,
          2191.7,
          181.7,
          3540.65,
          1625.65,
          1387.45,
          181.6,
          163.6,
          3551.65,
          213.35,
          524.5,
          387.9,
          1939.35,
          3340.55,
          6194.1,
          4834,
          225.6,
          2553.35,
          7069.3,
          72,
          2447.45,
          7713.55,
          1164.3,
          266.9,
          49,
          1414.65,
          208.7,
          1564.05,
          641.25,
          7782.85,
          6871.9,
          3229.65,
          201,
          420.2,
          145,
          2510.7,
          7559.55,
          1600.95,
          4543.95,
          7482.1,
          929.45,
          2169.75,
          5289.05,
          5760.65,
          4929.55,
          669,
          717.95,
          746.5,
          38.8,
          3985.35,
          130.15,
          2364,
          4730.6,
          59.55,
          2471.25,
          1439.35,
          1363.25,
          4378.8,
          1258.6,
          4259.3,
          3161.4,
          2231.05,
          38.7,
          693.45,
          3988.5,
          199.75,
          6449.15,
          865.85,
          3775.85,
          68.65,
          3856.75,
          5016.25,
          2416.55,
          5388.15,
          7550.3,
          666,
          1215.65,
          3303.05,
          937.5,
          4016.85,
          79.25,
          5733.4,
          124.4,
          921.3,
          1258.3,
          83.4,
          238.15,
          6028.95,
          6997.3,
          780.15,
          971.3,
          78.05,
          7567.2,
          3184.25,
          1901.25,
          688,
          165.4,
          3251.3,
          714.15,
          930.4,
          908.55,
          4805.65,
          927.1,
          611.45,
          597,
          1023.95,
          923.1,
          1362.85,
          2130.55,
          762.25,
          3334.9,
          4896.35,
          5608.4,
          475.2,
          1357.1,
          1348.5,
          238.1,
          1748.55,
          341.6,
          7616,
          313.4,
          3635.15,
          778.1,
          672.55,
          2782.4,
          87.3,
          1031.7,
          7082.5,
          1681.6,
          6741.15,
          1364.3,
          1523.4,
          3316.1,
          583,
          7349.35,
          2595.25,
          3110.1,
          101.1,
          42.45,
          3554.6,
          1752.45,
          1445.95,
          1914.9,
          4698.05,
          54.9,
          5839.3,
          165.2,
          5321.25,
          776.25,
          6201.95,
          1151.05,
          1051.9,
          1334.45,
          644.35,
          6993.65,
          1389.35,
          2806.9,
          1297.8,
          3505.1,
          5882.75,
          5720.35,
          1373.05,
          1270.2,
          79.45,
          3252,
          4741.45,
          400.3,
          3765.05,
          358.05,
          4209.95,
          1498.2,
          2324.7,
          980.35,
          8126.65,
          55.3,
          7920.7,
          4759.75,
          2763,
          4889.2,
          6652.45,
          435.4,
          55.05,
          3958.85,
          6941.2,
          2077.95,
          1938.05,
          1250.85,
          5576.3,
          45.55,
          2952.85,
          4375.8,
          269.65,
          710.05,
          108.15,
          6674.65,
          1390.6,
          254.5,
          35.05,
          246.25,
          116.65,
          3632,
          1852.85,
          4119.4,
          1317.95,
          1222.05,
          1232.9,
          5251.75,
          1114.55,
          7246.15,
          2021.2,
          6152.3,
          7082.45,
          6506.15,
          4707.85,
          8152.3,
          1474.9,
          5688.05,
          565.75,
          7677.4,
          1279,
          2747.2,
          456.85,
          6890,
          1079.65,
          1277.75,
          1781.35,
          670.35,
          1583.5,
          5746.15,
          7508.55,
          908.15,
          1714.55,
          8175.9,
          122.9,
          6219.6,
          516.15,
          4179.1,
          1821.8,
          156.1,
          926.2,
          1067.05,
          253.9,
          7049.5,
          193.05,
          319.15,
          305.95,
          1424.4,
          242.4,
          106.9,
          1291.3,
          88.35,
          561.15,
          304.6,
          137.95,
          4307.1,
          1031.1,
          129.2,
          3479.05,
          49.3,
          930.45,
          2976.95,
          3906.7,
          1252,
          2184.6,
          2781.85,
          74.25,
          6875.35,
          2292.75,
          6239.05,
          8337.45,
          5696.6,
          1912.15,
          76.4,
          154.3,
          973.55,
          153.3,
          678.8,
          2093.9,
          1378.45,
          75.05,
          1682.05,
          1441.65,
          401.5,
          4890.5,
          592.75,
          1447.9,
          3886.85,
          1273.3,
          1992.85,
          7133.1,
          3655.45,
          6314.35,
          2847.4,
          7288.4,
          2085.45,
          3145.9,
          266.8,
          413,
          1122.4,
          4747.5,
          1386.8,
          7845.8,
          7985.9,
          276.5,
          2031.95,
          2538.2,
          3017.65,
          5427.05,
          1507,
          4677.1,
          576.7,
          7511.65,
          264.85,
          6631.85,
          2007.25,
          2088.05,
          4116.15,
          7611.85,
          2909.95,
          239.45,
          5069.65,
          5860.7,
          742.95,
          6352.4,
          296.15,
          747.2,
          1775.8,
          1301.9,
          2748.7,
          851.75,
          264.55,
          1269.6,
          95.05,
          609.9,
          132.4,
          1425.45,
          7061.65,
          2727.3,
          5963.95,
          261.65,
          393.45,
          2211.8,
          2602.9,
          552.65,
          609.05,
          499.4,
          1396,
          435,
          3720.35,
          495.15,
          3865.6,
          730.4,
          2065.15,
          5023,
          547.65,
          5550.1,
          5231.2,
          1620.8,
          765.5,
          6287.25,
          272,
          1071.4,
          2349.8,
          5222.3,
          1189.9,
          954.9,
          3398.9,
          1426.75,
          606.55,
          676.15,
          5743.3,
          1546.3,
          610.2,
          4868.4,
          985.05,
          371.6,
          6786.4,
          2509.95,
          273,
          5487,
          675.6,
          1281,
          343.6,
          1329.15,
          251.25,
          109.6,
          1158.85,
          447.75,
          4108.15,
          889,
          5890,
          3046.4,
          134.35,
          2237.55,
          239.05,
          4295.35,
          7661.8,
          3043.6,
          625.65,
          6448.85,
          1094.5,
          2548.55,
          8250,
          2387.75,
          6302.8,
          2058.5
         ],
         "xaxis": "x",
         "yaxis": "y"
        },
        {
         "alignmentgroup": "True",
         "bingroup": "x",
         "hovertemplate": "Situação do cliente=Inativo<br>Valor anual total do plano=%{x}<br>count (normalized as percent)=%{y}<extra></extra>",
         "legendgroup": "Inativo",
         "marker": {
          "color": "#EF553B",
          "line": {
           "color": "rgb(0,0,0)",
           "width": 1.5
          },
          "pattern": {
           "shape": ""
          }
         },
         "name": "Inativo",
         "nbinsx": 10,
         "offsetgroup": "Inativo",
         "opacity": 0.8,
         "orientation": "v",
         "showlegend": true,
         "type": "histogram",
         "x": [
          19.9,
          19.65,
          20.05,
          74.7,
          20.35,
          69.9,
          19.5,
          44,
          24.4,
          74.35,
          70.45,
          86.05,
          74.3,
          20,
          20.55,
          19.1,
          7334.05,
          300.4,
          2254.2,
          69.85,
          348.8,
          135.75,
          1885.15,
          90.6,
          1130.85,
          347.65,
          1183.05,
          587.1,
          262.05,
          1077.5,
          45.65,
          61.05,
          1058.1,
          854.9,
          151.75,
          33.6,
          55.25,
          71.1,
          155.35,
          190.25,
          163.7,
          51.25,
          45.15,
          44.15,
          70.25,
          3496.3,
          592.65,
          75.1,
          260.9,
          52,
          553,
          564.35,
          1305.95,
          683.25,
          131.05,
          85.1,
          238.5,
          727.8,
          267.35,
          96.85,
          70,
          1381.8,
          2104.55,
          137.6,
          168.15,
          196.75,
          1443.65,
          415.55,
          20.6,
          1463.45,
          449.75,
          522.95,
          2651.2,
          74.2,
          275.7,
          50.1,
          76.35,
          45.8,
          86.6,
          989.05,
          601.6,
          184.1,
          90.55,
          90.05,
          223.15,
          235.05,
          45.05,
          1008.7,
          20.65,
          253.8,
          143.65,
          470.6,
          1706.45,
          316.9,
          777.3,
          477.55,
          280.85,
          340.35,
          25.1,
          1505.35,
          1567.55,
          370.65,
          852.7,
          28.3,
          5903.15,
          204.55,
          679,
          78.25,
          442.2,
          79.2,
          5714.25,
          2531.4,
          4285.8,
          690.25,
          5436.45,
          3778.1,
          966.25,
          896.9,
          216.9,
          6227.5,
          308.05,
          7544.3,
          123.05,
          827.3,
          4653.25,
          124.45,
          341.35,
          8529.5,
          7878.3,
          1048.85,
          1070.25,
          100.8,
          4904.2,
          798.2,
          340.4,
          445.95,
          1614.05,
          7138.65,
          892.15,
          4145.25,
          6725.3,
          3771.5,
          95.6,
          1836.25,
          2688.45,
          401.1,
          1394.55,
          6975.25,
          855.1,
          1916,
          374.8,
          789.2,
          1993.8,
          1929.95,
          2320.8,
          1103.25,
          2342.2,
          3487.95,
          4089.45,
          68.5,
          3877.95,
          1554.9,
          2188.45,
          350.35,
          109.3,
          73.55,
          3365.4,
          2766.4,
          2094.65,
          7679.65,
          80.95,
          4586.15,
          1110.35,
          566.5,
          819.95,
          199.85,
          1155.6,
          2656.3,
          2201.75,
          5500.6,
          49.75,
          3969.35,
          754.5,
          1478.85,
          1004.75,
          1776,
          203.95,
          1107.25,
          8436.25,
          4577.75,
          1379.8,
          1848.8,
          8196.4,
          184.95,
          1215.8,
          665.45,
          1497.05,
          1208.15,
          1530.6,
          1233.15,
          678.45,
          3263.6,
          4549.45,
          1199.4,
          50.7,
          4885.85,
          6602.9,
          357,
          7008.15,
          3457.45,
          7168.25,
          2210.2,
          7922.75,
          417.7,
          4040.65,
          625.05,
          741.4,
          1667.25,
          6306.5,
          943,
          20.85,
          1412.65,
          1787.35,
          1140.05,
          1201.15,
          346.4,
          3078.1,
          43.3,
          1195.95,
          550.6,
          4615.25,
          7181.95,
          2552.9,
          845.25,
          5950.2,
          1992.95,
          617.15,
          215.8,
          150.6,
          1686.85,
          2344.5,
          6638.35,
          1205.5,
          378.4,
          1270.55,
          612.95,
          1128.1,
          964.35,
          2647.2,
          819.55,
          606.25,
          1874.45,
          1990.5,
          7297.75,
          6405,
          106.8,
          3969.4,
          4932.5,
          386.5,
          6859.5,
          356.1,
          1821.2,
          5921.35,
          1260.7,
          593.3,
          1057.55,
          5610.15,
          868.5,
          257.05,
          3851.45,
          638.95,
          2351.45,
          2431.35,
          851.2,
          3953.15,
          4641.1,
          6994.8,
          1431.65,
          1375.6,
          5200.8,
          3281.65,
          174.2,
          4297.6,
          1442.6,
          3475.55,
          1761.45,
          4946.7,
          4174.35,
          3027.25,
          2162.6,
          678.2,
          486.85,
          35.75,
          6293.75,
          7459,
          7665.8,
          4113.7,
          908.75,
          272.15,
          2157.3,
          178.85,
          68.2,
          374.5,
          1802.55,
          515.45,
          228.75,
          312.7,
          143.9,
          2259.35,
          4718.25,
          3339.05,
          5038.15,
          130.25,
          1889.5,
          1046.1,
          353.65,
          80.25,
          113.35,
          1046.2,
          1453.1,
          754.65,
          554.45,
          2209.75,
          223.9,
          4458.15,
          335.75,
          6770.85,
          6557.75,
          1008.55,
          3221.25,
          880.2,
          6989.45,
          3460.95,
          85.7,
          1493.1,
          217.1,
          265.75,
          1864.65,
          2011.4,
          6914.95,
          6034.85,
          4284.2,
          921.55,
          2424.05,
          2588.95,
          3876.2,
          5083.55,
          2357.75,
          4687.9,
          1133.65,
          1071.6,
          493.95,
          5224.5,
          1024.7,
          5234.95,
          4415.75,
          3566.6,
          183.75,
          1266.4,
          907.05,
          3423.5,
          6369.45,
          5206.55,
          102.75,
          4664.15,
          48.75,
          2196.45,
          1952.25,
          1476.25,
          5199.8,
          274.7,
          3994.05,
          75.7,
          595.05,
          149.05,
          3959.15,
          78.9,
          2871.5,
          4690.65,
          384.5,
          505.9,
          4808.7,
          1422.1,
          849.1,
          1082.75,
          1755.35,
          44.35,
          71.55,
          518.75,
          404.35,
          4819.75,
          1798.9,
          446.05,
          2966.95,
          8476.5,
          802.35,
          6254.45,
          488.25,
          1423.35,
          1433.8,
          998.1,
          314.45,
          3937.45,
          3888.65,
          119.3,
          4746.05,
          62.8,
          173,
          7365.3,
          6671.7,
          1776.55,
          2854.55,
          7262,
          7752.05,
          235.5,
          6109.65,
          4600.7,
          4065,
          77.6,
          357.6,
          1322.55,
          1206.05,
          919.4,
          139.05,
          4804.65,
          3103.25,
          2023.55,
          938.95,
          1970.5,
          5301.1,
          454.15,
          228.4,
          5618.3,
          3035.35,
          4014,
          1545.4,
          1730.65,
          3729.6,
          24,
          973.65,
          3238.4,
          5646.6,
          5154.5,
          3954.1,
          3902.6,
          5502.55,
          1500.25,
          302.75,
          68.45,
          152.45,
          109.5,
          1959.5,
          1559.25,
          7854.15,
          1465.75,
          467.55,
          5553.25,
          1081.45,
          3019.25,
          7578.05,
          4039,
          738.2,
          4473,
          1931.75,
          163.55,
          888.65,
          365.35,
          1567,
          5536.5,
          1505.85,
          3128.8,
          1133.9,
          4213.9,
          999.45,
          164.6,
          5750,
          3094.65,
          2419,
          5555.3,
          1451.6,
          5610.7,
          1047.7,
          740.55,
          1505.05,
          2753.8,
          873.4,
          6014.85,
          4594.95,
          3019.7,
          1319.85,
          2603.95,
          6538.45,
          2021.35,
          53.05,
          2570,
          2907.55,
          7629.85,
          191.35,
          5215.25,
          162.55,
          4729.3,
          5763.15,
          1182.55,
          805.1,
          1581.95,
          1597.25,
          1821.95,
          2134.3,
          2654.05,
          210.3,
          2007.85,
          2006.1,
          176.2,
          486.2,
          4059.85,
          2774.55,
          2443.3,
          706.85,
          2959.8,
          3571.6,
          1777.9,
          2264.05,
          3326.2,
          1454.15,
          4318.35,
          24.6,
          2274.9,
          1078.75,
          4309.55,
          2653.65,
          5064.45,
          935.9,
          76.45,
          424.5,
          387.7,
          6725.5,
          3177.25,
          1574.5,
          5564.85,
          4982.5,
          4113.15,
          6393.65,
          3794.5,
          2538.05,
          1388,
          1677.85,
          159.15,
          1029.75,
          3242.5,
          966.55,
          303.15,
          839.4,
          319.6,
          1188.25,
          527.9,
          2841.55,
          2425.4,
          6161.9,
          74,
          1319.95,
          2258.25,
          424.75,
          668.85,
          1825.5,
          3089.1,
          668.4,
          1261.7,
          44.95,
          3131.55,
          4837.6,
          803.3,
          1082.8,
          2513.5,
          930.95,
          1393.6,
          50.35,
          4577.9,
          8477.6,
          2096.1,
          1303.5,
          169.05,
          2896.4,
          2979.5,
          830.85,
          1004.5,
          8012.75,
          1837.7,
          2964.05,
          3582.4,
          108.65,
          1309.15,
          868.1,
          25,
          7133.45,
          1055.9,
          1601.2,
          147.5,
          4014.2,
          3807.35,
          797.25,
          307,
          150.85,
          4282.4,
          55.45,
          2575.45,
          845.6,
          4748.7,
          3994.45,
          153.8,
          587.45,
          701.05,
          3649.6,
          32.7,
          2997.45,
          4916.95,
          1036.75,
          8129.3,
          339.9,
          2276.1,
          6038.55,
          5025,
          2511.3,
          6668,
          1287.85,
          215.25,
          552.1,
          5468.45,
          3275.15,
          1948.35,
          5981.65,
          1074.3,
          487.95,
          4018.05,
          856.5,
          1517.5,
          457.1,
          6256.2,
          7806.6,
          228,
          310.6,
          4590.35,
          463.05,
          1851.45,
          242.05,
          2896.55,
          250.05,
          832.35,
          78.45,
          1373,
          1743.5,
          1183.2,
          117.05,
          44.7,
          931.75,
          1191.2,
          2835.9,
          4804.75,
          551.95,
          76.2,
          581.85,
          950.2,
          933.3,
          1750.85,
          3483.45,
          631.4,
          1178.4,
          1790.8,
          4131.95,
          6689,
          1400.3,
          1779.95,
          412.55,
          70.2,
          6460.55,
          110.05,
          6794.75,
          3046.15,
          6056.9,
          49.7,
          879.8,
          4747.65,
          6019.35,
          4233.95,
          551.35,
          51.2,
          595.5,
          679.8,
          1242.2,
          2335.3,
          6254.2,
          2156.25,
          222.3,
          2838.7,
          6252.9,
          6962.85,
          4459.15,
          1126.35,
          4138.7,
          856.65,
          1547.35,
          3627.3,
          4784.45,
          54.7,
          4807.35,
          5825.5,
          217.5,
          684.4,
          2877.95,
          409.9,
          100.4,
          1421.75,
          1299.8,
          961.4,
          4688.65,
          3778.2,
          2684.85,
          1337.5,
          3478.75,
          628.65,
          1614.7,
          3201.55,
          40.1,
          7129.45,
          1344.5,
          2452.7,
          1108.6,
          2599.95,
          1553.9,
          5798.3,
          1559.45,
          244.45,
          3003.55,
          705.45,
          1218.65,
          6721.6,
          8244.3,
          1020.2,
          2119.5,
          659.45,
          632.95,
          1838.15,
          1292.6,
          3541.1,
          3966.3,
          3725.5,
          6668.35,
          1066.9,
          4525.8,
          1254.7,
          44.65,
          6362.35,
          80.3,
          839.65,
          146.4,
          5552.05,
          220.75,
          5916.95,
          994.55,
          717.5,
          4900.65,
          827.45,
          255.55,
          418.8,
          4211.55,
          4515.85,
          4816.7,
          4481,
          3769.7,
          724.65,
          493.65,
          2313.8,
          214.55,
          455.5,
          589.25,
          1630.4,
          8375.05,
          6510.45,
          4760.3,
          1356.3,
          5163.3,
          1017.35,
          111.65,
          4824.45,
          3833.95,
          97.1,
          1059.55,
          1413,
          686.95,
          3008.55,
          3739.8,
          2839.65,
          1725.95,
          2497.35,
          1263.85,
          1054.6,
          2413.05,
          381.2,
          1016.7,
          75.8,
          1441.1,
          6215.35,
          3959.35,
          2498.4,
          7031.45,
          1712.7,
          3264.5,
          412.6,
          4508.65,
          323.45,
          260.8,
          29.85,
          3369.05,
          4224.7,
          104.2,
          222.65,
          50.05,
          318.9,
          198.6,
          6767.1,
          5567.45,
          394.85,
          369.3,
          3673.15,
          2421.75,
          318.5,
          7159.05,
          5237.4,
          1253.15,
          2208.75,
          90.35,
          3618.7,
          2964,
          785.75,
          4533.9,
          525,
          1597.05,
          660.9,
          6733.15,
          1236.15,
          6185.15,
          3480,
          2448.75,
          3384,
          806.95,
          4871.05,
          2375.4,
          1424.2,
          1652.4,
          4146.05,
          20.7,
          1626.05,
          5601.4,
          118.4,
          2356.75,
          2062.15,
          8164.1,
          7159.7,
          672.7,
          1612.2,
          5068.05,
          3420.5,
          4264.6,
          1521.2,
          1112.3,
          632.2,
          6300.15,
          1147.85,
          707.5,
          4783.5,
          454.65,
          249.95,
          4551.5,
          3090.65,
          4523.25,
          749.35,
          3260.1,
          6440.25,
          79.1,
          746.05,
          351.55,
          2768.65,
          1893.5,
          2737.05,
          5443.65,
          1777.6,
          811.65,
          211.95,
          265.35,
          659.35,
          2427.1,
          125,
          1734.2,
          604.7,
          449.3,
          946.95,
          7737.55,
          93.85,
          1716.45,
          4275.75,
          8425.15,
          4055.5,
          1699.15,
          446.1,
          7181.25,
          49.85,
          2287.25,
          5632.55,
          146.3,
          4060.9,
          941,
          392.5,
          1336.35,
          1500.95,
          2540.1,
          1652.95,
          6925.9,
          4519.5,
          168.65,
          2638.1,
          21.05,
          356.65,
          7658.3,
          8425.3,
          1370.35,
          2130.45,
          438,
          159.45,
          4109,
          452.55,
          3952.65,
          701.3,
          458.1,
          6869.7,
          4487.3,
          4921.2,
          1258.35,
          4303.65,
          833.55,
          7493.05,
          571.15,
          1137.05,
          1022.95,
          6567.9,
          35.25,
          152.6,
          2665,
          6081.4,
          2553.7,
          3561.15,
          1938.9,
          187.35,
          40.25,
          411.75,
          2516.2,
          147.75,
          460.2,
          746.75,
          751.65,
          450.9,
          1752.55,
          3124.5,
          98.35,
          207.35,
          1789.65,
          554.25,
          832.05,
          3169.55,
          1143.8,
          3970.4,
          492,
          3756.4,
          1652.1,
          244.65,
          1502.25,
          2001.5,
          5305.05,
          3808.2,
          1101.85,
          415.9,
          2409.9,
          1441.95,
          654.5,
          1951,
          949.85,
          854.8,
          4882.8,
          2000.2,
          5071.05,
          7099,
          617.85,
          834.2,
          2680.15,
          1961.6,
          4689.15,
          289.1,
          1430.05,
          2283.3,
          4408.45,
          5437.1,
          483.3,
          2619.15,
          6077.75,
          445.3,
          5969.85,
          2187.15,
          1024.65,
          1240.8,
          1636.95,
          7962.2,
          3011.65,
          220.6,
          7323.15,
          24.25,
          757.1,
          69.15,
          1663.5,
          869.9,
          3205.6,
          6375.2,
          4977.2,
          62.05,
          2636.05,
          6822.15,
          6392.85,
          1637.3,
          593.45,
          7511.9,
          5598,
          412.1,
          1096.65,
          4627.8,
          1068.85,
          1258.15,
          4144.8,
          490.55,
          43.8,
          7674.55,
          541.9,
          7939.25,
          3050.15,
          3231.05,
          6812.95,
          3254.35,
          4014.6,
          531.6,
          890.6,
          5720.95,
          4534.9,
          6310.9,
          583.45,
          3442.15,
          3180.5,
          41.2,
          3088.75,
          388.6,
          179.85,
          4685.55,
          49.05,
          1096.25,
          6840.95,
          4386.2,
          3913.3,
          1203.95,
          1183.8,
          444.75,
          298.45,
          7108.2,
          2924.05,
          702,
          7882.25,
          1093,
          6572.85,
          6339.45,
          3126.45,
          158.4,
          2614.1,
          1864.2,
          1451.1,
          1621.35,
          1073.3,
          1593.1,
          1498.85,
          1623.15,
          3053,
          760.05,
          2316.85,
          3886.05,
          6841.05,
          4250.1,
          651.55,
          1074.65,
          5948.7,
          2391.8,
          3465.7,
          1434.1,
          7719.5,
          2484,
          1886.4,
          3273.55,
          1222.25,
          2698.35,
          4133.95,
          418.4,
          533.05,
          1728.2,
          1808.7,
          1588.25,
          697.65,
          1380.4,
          536.35,
          1767.35,
          1129.1,
          4144.9,
          1654.75,
          4847.05,
          970.45,
          4674.4,
          6710.5,
          1893.95,
          964.9,
          308.1,
          2548.65,
          5324.5,
          263.65,
          1956.4,
          289.3,
          886.4,
          792.15,
          5753.25,
          2471.6,
          4461.85,
          1928.7,
          1888.25,
          406.05,
          2395.05,
          3754.6,
          2635,
          1192.7,
          1463.7,
          1682.4,
          2003.6,
          3656.25,
          1011.05,
          6388.65,
          3349.1,
          119.5,
          1490.4,
          332.65,
          5538.35,
          2139.1,
          3263.9,
          2598.95,
          1850.65,
          450.4,
          5435,
          4735.35,
          477.6,
          1743.05,
          3001.2,
          6312.9,
          3366.05,
          1742.5,
          3432.9,
          830.25,
          5398.6,
          3175.85,
          2674.15,
          5742.9,
          1709.1,
          1430.95,
          198.7,
          3474.2,
          967.85,
          5897.4,
          1052.35,
          3930.55,
          1845.9,
          214.4,
          6886.25,
          1555.65,
          1544.05,
          1776.45,
          1005.7,
          2510.2,
          653.9,
          390.85,
          5755.8,
          459.95,
          349.65,
          4052.4,
          5430.65,
          2960.1,
          829.1,
          1626.4,
          931.55,
          3974.7,
          5526.75,
          1748.9,
          2193.65,
          4059.35,
          2878.55,
          7634.25,
          8309.55,
          855.3,
          6205.5,
          5656.75,
          1306.3,
          2791.5,
          7261.25,
          571.45,
          3247.55,
          4036.85,
          3767.4,
          5567.55,
          44.3,
          3532,
          727.85,
          6316.2,
          2078.95,
          1929,
          224.5,
          4959.6,
          1070.15,
          825.4,
          8127.6,
          326.65,
          453.4,
          1231.85,
          95.45,
          1982.6,
          888.75,
          330.15,
          5360.75,
          233.7,
          315.3,
          121.25,
          89.5,
          2331.3,
          1234.8,
          5036.3,
          113.85,
          85.55,
          2298.9,
          4908.25,
          2555.05,
          2438.6,
          1098.85,
          5405.8,
          5102.35,
          538.5,
          651.4,
          6733,
          3870.3,
          1359.45,
          505.45,
          27.55,
          876.15,
          59.75,
          1802.15,
          3723.65,
          5971.25,
          1313.55,
          7993.3,
          1266.35,
          5011.15,
          196.35,
          344.2,
          414.95,
          3342,
          5264.3,
          962.25,
          5116.6,
          572.85,
          492.55,
          209.9,
          7396.15,
          6637.9,
          4964.7,
          3948.45,
          1759.55,
          860.85,
          5129.3,
          6581.9,
          768.45,
          2857.6,
          292.4,
          939.8,
          7156.2,
          5811.8,
          75.6,
          475.25,
          7266.95,
          74.95,
          1389.85,
          407.05,
          605.25,
          690.5,
          3778.85,
          3233.6,
          857.2,
          7932.5,
          321.05,
          639.45,
          6668.05,
          7332.4,
          1401.15,
          330.25,
          7238.6,
          1882.55,
          6743.55,
          4479.2,
          54.65,
          629.35,
          25.8,
          1323.7,
          154.85,
          3704.15,
          321.75,
          902.25,
          576.95,
          4613.95,
          1832.4,
          3877.65,
          4226.7,
          730.1,
          5794.45,
          5673.7,
          4237.5,
          31.55,
          1346.3,
          7689.95,
          526.7,
          5812.6,
          2606.35,
          544.55,
          1372.45,
          5958.85,
          1871.15,
          689,
          4442.75,
          2550.9,
          4096.9,
          6605.55,
          1592.35,
          2088.75,
          345.9,
          414.1,
          7581.5,
          4517.25,
          1281.25,
          33.2,
          368.1,
          85.15,
          389.1,
          7176.55,
          679.3,
          89.35,
          298.7,
          1080.55,
          5580.8,
          4338.6,
          4304.5,
          1785.65,
          399.25,
          4124.65,
          273.75,
          2435.15,
          1066.15,
          784.45,
          1655.35,
          750.1,
          321.7,
          71.2,
          7842.3,
          331.6,
          278.4,
          940.35,
          4680.05,
          2879.9,
          1189.4,
          3023.85,
          1660,
          218.55,
          1120.95,
          3370.2,
          295.55,
          786.5,
          389.8,
          7843.55,
          1259,
          4284.65,
          24.9,
          4527.45,
          1395.05,
          54.35,
          142.35,
          73.1,
          4374.55,
          336.15,
          4676.7,
          1265.65,
          2029.05,
          3944.5,
          1834.95,
          1932.75,
          35,
          7133.25,
          761.95,
          1715.15,
          927.15,
          137.85,
          89.15,
          4692.55,
          7848.5,
          3735.45,
          894.3,
          5025.8,
          5364.8,
          6375.8,
          4807.45,
          981.45,
          3470.8,
          3815.4,
          863.1,
          3182.95,
          1315.35,
          3682.45,
          212.4,
          2042.05,
          3591.25,
          117.95,
          695.85,
          1414.8,
          2804.45,
          3791.6,
          838.7,
          202.9,
          8013.55,
          111.4,
          6849.75,
          3766.2,
          521.1,
          20.8,
          2369.05,
          1910.75,
          2862.55,
          509.3,
          1520.9,
          2649.15,
          542.4,
          4399.5,
          1023.85,
          6042.7,
          1820.9,
          2043.45,
          1875.25,
          7862.25,
          185.4,
          3166.9,
          44.1,
          567.8,
          2868.15,
          86,
          555.4,
          5831.2,
          368.85,
          637.55,
          4693.2,
          5480.25,
          2586,
          1326.35,
          1676.95,
          324.3,
          387.4,
          362.6,
          3588.4,
          4733.1,
          382.8,
          720.05,
          5551.15,
          75.55,
          8182.75,
          140.7,
          243.65,
          270.15,
          4902.8,
          1968.1,
          340.25,
          1905.7,
          453.75,
          5044.8,
          2697.4,
          7898.45,
          3770,
          1498.55,
          817.95,
          3410,
          6241.35,
          199.45,
          780.1,
          1902,
          1129.35,
          846,
          3342.45,
          4454.25,
          500.1,
          2813.05,
          4070.95,
          1185,
          3042.25,
          550.1,
          369.15,
          2499.3,
          2514.5,
          1334,
          649.4,
          5812,
          2136.9,
          6423,
          196.15,
          291.45,
          135.2,
          7610.1,
          2424.45,
          172.35,
          999.8,
          5826.65,
          3027.65,
          540.05,
          45.2,
          34.75,
          3930.6,
          1992.55,
          3454.6,
          5034.05,
          5016.65,
          6094.25,
          599.3,
          602.9,
          734.35,
          502.85,
          3283.05,
          3958.25,
          3419.5,
          433.5,
          7467.55,
          3950.85,
          7758.9,
          2431.95,
          5265.5,
          832.3,
          4456.35,
          5315.8,
          2341.55,
          7732.65,
          1375.4,
          1253.5,
          1584.8,
          3478.15,
          5676.65,
          2395.7,
          18.8,
          781.4,
          2038.7,
          5514.95,
          333.6,
          6052.25,
          8684.8,
          4469.1,
          112.75,
          489.45,
          6991.6,
          2572.95,
          485.9,
          1230.9,
          1718.35,
          100.25,
          3782.4,
          501.2,
          5175.3,
          4779.45,
          88.8,
          283.75,
          3503.5,
          4003.85,
          85.8,
          5815.15,
          5918.8,
          156.35,
          910.45,
          7082.85,
          6018.65,
          1387,
          35.45,
          6876.05,
          1759.4,
          1041.8,
          6873.75,
          469.25,
          335.65,
          978,
          324.2,
          958.25,
          6903.1,
          1470.05,
          104.3,
          3608,
          5986.55,
          3190.65,
          1416.75,
          7511.3,
          1240.15,
          4818.8,
          540.95,
          1901.65,
          3143.65,
          898.35,
          1145.7,
          600.25,
          6137,
          419.9,
          80.35,
          4348.65,
          7532.15,
          572.2,
          3314.15,
          3634.8,
          5913.95,
          227.45,
          140.1,
          1383.6,
          155.8,
          80.5,
          346.2,
          5308.7,
          1727.5,
          5025.85,
          1679.4,
          270.2,
          5222.35,
          371.4,
          76.95,
          543,
          331.9,
          733.55,
          5376.4,
          4222.95,
          6844.5,
          416.4,
          1369.8,
          348.15,
          1064.95,
          504.05,
          7895.15,
          603,
          559.2,
          4368.95,
          1732.6,
          4600.95,
          4266.4,
          155.9,
          504.2,
          2345.2,
          5959.3,
          165.35,
          7966.9,
          1445.2,
          5430.35,
          5013,
          3210.35,
          6597.25,
          938.65,
          2757.85,
          1035.7,
          1457.25,
          92.65,
          150,
          65.95,
          2048.8,
          2483.65,
          3520.75,
          1290,
          36.45,
          1261.35,
          92.05,
          5621.85,
          190.05,
          1377.7,
          914,
          3021.6,
          8078.1,
          46.2,
          3784,
          6067.4,
          3229.4,
          268.4,
          813.45,
          1121.05,
          2633.3,
          3759.05,
          5893.9,
          1813.35,
          4438.2,
          1173.55,
          3587.25,
          573.75,
          3474.05,
          198,
          5084.65,
          2414.55,
          7723.7,
          1107.2,
          1214.05,
          61.45,
          890.35,
          1459.35,
          5244.45,
          330.05,
          7746.7,
          5898.6,
          810.7,
          1160.75,
          1760.25,
          227.35,
          1083.7,
          4859.95,
          1177.05,
          294.2,
          3282.75,
          620.75,
          3439,
          3265.95,
          1534.75,
          1006.9,
          1426.45,
          1013.6,
          1132.35,
          711.9,
          257.6,
          7405.5,
          210.65,
          6341.45,
          5135.15,
          462.8,
          788.05,
          5969.95,
          45.25,
          4116.9,
          3121.45,
          1474.75,
          829.55,
          3707.6
         ],
         "xaxis": "x",
         "yaxis": "y"
        }
       ],
       "layout": {
        "bargap": 0.05,
        "barmode": "relative",
        "barnorm": "percent",
        "legend": {
         "title": {
          "text": "Situação do cliente"
         },
         "tracegroupgap": 0
        },
        "template": {
         "data": {
          "bar": [
           {
            "error_x": {
             "color": "#2a3f5f"
            },
            "error_y": {
             "color": "#2a3f5f"
            },
            "marker": {
             "line": {
              "color": "#E5ECF6",
              "width": 0.5
             },
             "pattern": {
              "fillmode": "overlay",
              "size": 10,
              "solidity": 0.2
             }
            },
            "type": "bar"
           }
          ],
          "barpolar": [
           {
            "marker": {
             "line": {
              "color": "#E5ECF6",
              "width": 0.5
             },
             "pattern": {
              "fillmode": "overlay",
              "size": 10,
              "solidity": 0.2
             }
            },
            "type": "barpolar"
           }
          ],
          "carpet": [
           {
            "aaxis": {
             "endlinecolor": "#2a3f5f",
             "gridcolor": "white",
             "linecolor": "white",
             "minorgridcolor": "white",
             "startlinecolor": "#2a3f5f"
            },
            "baxis": {
             "endlinecolor": "#2a3f5f",
             "gridcolor": "white",
             "linecolor": "white",
             "minorgridcolor": "white",
             "startlinecolor": "#2a3f5f"
            },
            "type": "carpet"
           }
          ],
          "choropleth": [
           {
            "colorbar": {
             "outlinewidth": 0,
             "ticks": ""
            },
            "type": "choropleth"
           }
          ],
          "contour": [
           {
            "colorbar": {
             "outlinewidth": 0,
             "ticks": ""
            },
            "colorscale": [
             [
              0,
              "#0d0887"
             ],
             [
              0.1111111111111111,
              "#46039f"
             ],
             [
              0.2222222222222222,
              "#7201a8"
             ],
             [
              0.3333333333333333,
              "#9c179e"
             ],
             [
              0.4444444444444444,
              "#bd3786"
             ],
             [
              0.5555555555555556,
              "#d8576b"
             ],
             [
              0.6666666666666666,
              "#ed7953"
             ],
             [
              0.7777777777777778,
              "#fb9f3a"
             ],
             [
              0.8888888888888888,
              "#fdca26"
             ],
             [
              1,
              "#f0f921"
             ]
            ],
            "type": "contour"
           }
          ],
          "contourcarpet": [
           {
            "colorbar": {
             "outlinewidth": 0,
             "ticks": ""
            },
            "type": "contourcarpet"
           }
          ],
          "heatmap": [
           {
            "colorbar": {
             "outlinewidth": 0,
             "ticks": ""
            },
            "colorscale": [
             [
              0,
              "#0d0887"
             ],
             [
              0.1111111111111111,
              "#46039f"
             ],
             [
              0.2222222222222222,
              "#7201a8"
             ],
             [
              0.3333333333333333,
              "#9c179e"
             ],
             [
              0.4444444444444444,
              "#bd3786"
             ],
             [
              0.5555555555555556,
              "#d8576b"
             ],
             [
              0.6666666666666666,
              "#ed7953"
             ],
             [
              0.7777777777777778,
              "#fb9f3a"
             ],
             [
              0.8888888888888888,
              "#fdca26"
             ],
             [
              1,
              "#f0f921"
             ]
            ],
            "type": "heatmap"
           }
          ],
          "heatmapgl": [
           {
            "colorbar": {
             "outlinewidth": 0,
             "ticks": ""
            },
            "colorscale": [
             [
              0,
              "#0d0887"
             ],
             [
              0.1111111111111111,
              "#46039f"
             ],
             [
              0.2222222222222222,
              "#7201a8"
             ],
             [
              0.3333333333333333,
              "#9c179e"
             ],
             [
              0.4444444444444444,
              "#bd3786"
             ],
             [
              0.5555555555555556,
              "#d8576b"
             ],
             [
              0.6666666666666666,
              "#ed7953"
             ],
             [
              0.7777777777777778,
              "#fb9f3a"
             ],
             [
              0.8888888888888888,
              "#fdca26"
             ],
             [
              1,
              "#f0f921"
             ]
            ],
            "type": "heatmapgl"
           }
          ],
          "histogram": [
           {
            "marker": {
             "pattern": {
              "fillmode": "overlay",
              "size": 10,
              "solidity": 0.2
             }
            },
            "type": "histogram"
           }
          ],
          "histogram2d": [
           {
            "colorbar": {
             "outlinewidth": 0,
             "ticks": ""
            },
            "colorscale": [
             [
              0,
              "#0d0887"
             ],
             [
              0.1111111111111111,
              "#46039f"
             ],
             [
              0.2222222222222222,
              "#7201a8"
             ],
             [
              0.3333333333333333,
              "#9c179e"
             ],
             [
              0.4444444444444444,
              "#bd3786"
             ],
             [
              0.5555555555555556,
              "#d8576b"
             ],
             [
              0.6666666666666666,
              "#ed7953"
             ],
             [
              0.7777777777777778,
              "#fb9f3a"
             ],
             [
              0.8888888888888888,
              "#fdca26"
             ],
             [
              1,
              "#f0f921"
             ]
            ],
            "type": "histogram2d"
           }
          ],
          "histogram2dcontour": [
           {
            "colorbar": {
             "outlinewidth": 0,
             "ticks": ""
            },
            "colorscale": [
             [
              0,
              "#0d0887"
             ],
             [
              0.1111111111111111,
              "#46039f"
             ],
             [
              0.2222222222222222,
              "#7201a8"
             ],
             [
              0.3333333333333333,
              "#9c179e"
             ],
             [
              0.4444444444444444,
              "#bd3786"
             ],
             [
              0.5555555555555556,
              "#d8576b"
             ],
             [
              0.6666666666666666,
              "#ed7953"
             ],
             [
              0.7777777777777778,
              "#fb9f3a"
             ],
             [
              0.8888888888888888,
              "#fdca26"
             ],
             [
              1,
              "#f0f921"
             ]
            ],
            "type": "histogram2dcontour"
           }
          ],
          "mesh3d": [
           {
            "colorbar": {
             "outlinewidth": 0,
             "ticks": ""
            },
            "type": "mesh3d"
           }
          ],
          "parcoords": [
           {
            "line": {
             "colorbar": {
              "outlinewidth": 0,
              "ticks": ""
             }
            },
            "type": "parcoords"
           }
          ],
          "pie": [
           {
            "automargin": true,
            "type": "pie"
           }
          ],
          "scatter": [
           {
            "marker": {
             "colorbar": {
              "outlinewidth": 0,
              "ticks": ""
             }
            },
            "type": "scatter"
           }
          ],
          "scatter3d": [
           {
            "line": {
             "colorbar": {
              "outlinewidth": 0,
              "ticks": ""
             }
            },
            "marker": {
             "colorbar": {
              "outlinewidth": 0,
              "ticks": ""
             }
            },
            "type": "scatter3d"
           }
          ],
          "scattercarpet": [
           {
            "marker": {
             "colorbar": {
              "outlinewidth": 0,
              "ticks": ""
             }
            },
            "type": "scattercarpet"
           }
          ],
          "scattergeo": [
           {
            "marker": {
             "colorbar": {
              "outlinewidth": 0,
              "ticks": ""
             }
            },
            "type": "scattergeo"
           }
          ],
          "scattergl": [
           {
            "marker": {
             "colorbar": {
              "outlinewidth": 0,
              "ticks": ""
             }
            },
            "type": "scattergl"
           }
          ],
          "scattermapbox": [
           {
            "marker": {
             "colorbar": {
              "outlinewidth": 0,
              "ticks": ""
             }
            },
            "type": "scattermapbox"
           }
          ],
          "scatterpolar": [
           {
            "marker": {
             "colorbar": {
              "outlinewidth": 0,
              "ticks": ""
             }
            },
            "type": "scatterpolar"
           }
          ],
          "scatterpolargl": [
           {
            "marker": {
             "colorbar": {
              "outlinewidth": 0,
              "ticks": ""
             }
            },
            "type": "scatterpolargl"
           }
          ],
          "scatterternary": [
           {
            "marker": {
             "colorbar": {
              "outlinewidth": 0,
              "ticks": ""
             }
            },
            "type": "scatterternary"
           }
          ],
          "surface": [
           {
            "colorbar": {
             "outlinewidth": 0,
             "ticks": ""
            },
            "colorscale": [
             [
              0,
              "#0d0887"
             ],
             [
              0.1111111111111111,
              "#46039f"
             ],
             [
              0.2222222222222222,
              "#7201a8"
             ],
             [
              0.3333333333333333,
              "#9c179e"
             ],
             [
              0.4444444444444444,
              "#bd3786"
             ],
             [
              0.5555555555555556,
              "#d8576b"
             ],
             [
              0.6666666666666666,
              "#ed7953"
             ],
             [
              0.7777777777777778,
              "#fb9f3a"
             ],
             [
              0.8888888888888888,
              "#fdca26"
             ],
             [
              1,
              "#f0f921"
             ]
            ],
            "type": "surface"
           }
          ],
          "table": [
           {
            "cells": {
             "fill": {
              "color": "#EBF0F8"
             },
             "line": {
              "color": "white"
             }
            },
            "header": {
             "fill": {
              "color": "#C8D4E3"
             },
             "line": {
              "color": "white"
             }
            },
            "type": "table"
           }
          ]
         },
         "layout": {
          "annotationdefaults": {
           "arrowcolor": "#2a3f5f",
           "arrowhead": 0,
           "arrowwidth": 1
          },
          "autotypenumbers": "strict",
          "coloraxis": {
           "colorbar": {
            "outlinewidth": 0,
            "ticks": ""
           }
          },
          "colorscale": {
           "diverging": [
            [
             0,
             "#8e0152"
            ],
            [
             0.1,
             "#c51b7d"
            ],
            [
             0.2,
             "#de77ae"
            ],
            [
             0.3,
             "#f1b6da"
            ],
            [
             0.4,
             "#fde0ef"
            ],
            [
             0.5,
             "#f7f7f7"
            ],
            [
             0.6,
             "#e6f5d0"
            ],
            [
             0.7,
             "#b8e186"
            ],
            [
             0.8,
             "#7fbc41"
            ],
            [
             0.9,
             "#4d9221"
            ],
            [
             1,
             "#276419"
            ]
           ],
           "sequential": [
            [
             0,
             "#0d0887"
            ],
            [
             0.1111111111111111,
             "#46039f"
            ],
            [
             0.2222222222222222,
             "#7201a8"
            ],
            [
             0.3333333333333333,
             "#9c179e"
            ],
            [
             0.4444444444444444,
             "#bd3786"
            ],
            [
             0.5555555555555556,
             "#d8576b"
            ],
            [
             0.6666666666666666,
             "#ed7953"
            ],
            [
             0.7777777777777778,
             "#fb9f3a"
            ],
            [
             0.8888888888888888,
             "#fdca26"
            ],
            [
             1,
             "#f0f921"
            ]
           ],
           "sequentialminus": [
            [
             0,
             "#0d0887"
            ],
            [
             0.1111111111111111,
             "#46039f"
            ],
            [
             0.2222222222222222,
             "#7201a8"
            ],
            [
             0.3333333333333333,
             "#9c179e"
            ],
            [
             0.4444444444444444,
             "#bd3786"
            ],
            [
             0.5555555555555556,
             "#d8576b"
            ],
            [
             0.6666666666666666,
             "#ed7953"
            ],
            [
             0.7777777777777778,
             "#fb9f3a"
            ],
            [
             0.8888888888888888,
             "#fdca26"
            ],
            [
             1,
             "#f0f921"
            ]
           ]
          },
          "colorway": [
           "#636efa",
           "#EF553B",
           "#00cc96",
           "#ab63fa",
           "#FFA15A",
           "#19d3f3",
           "#FF6692",
           "#B6E880",
           "#FF97FF",
           "#FECB52"
          ],
          "font": {
           "color": "#2a3f5f"
          },
          "geo": {
           "bgcolor": "white",
           "lakecolor": "white",
           "landcolor": "#E5ECF6",
           "showlakes": true,
           "showland": true,
           "subunitcolor": "white"
          },
          "hoverlabel": {
           "align": "left"
          },
          "hovermode": "closest",
          "mapbox": {
           "style": "light"
          },
          "paper_bgcolor": "white",
          "plot_bgcolor": "#E5ECF6",
          "polar": {
           "angularaxis": {
            "gridcolor": "white",
            "linecolor": "white",
            "ticks": ""
           },
           "bgcolor": "#E5ECF6",
           "radialaxis": {
            "gridcolor": "white",
            "linecolor": "white",
            "ticks": ""
           }
          },
          "scene": {
           "xaxis": {
            "backgroundcolor": "#E5ECF6",
            "gridcolor": "white",
            "gridwidth": 2,
            "linecolor": "white",
            "showbackground": true,
            "ticks": "",
            "zerolinecolor": "white"
           },
           "yaxis": {
            "backgroundcolor": "#E5ECF6",
            "gridcolor": "white",
            "gridwidth": 2,
            "linecolor": "white",
            "showbackground": true,
            "ticks": "",
            "zerolinecolor": "white"
           },
           "zaxis": {
            "backgroundcolor": "#E5ECF6",
            "gridcolor": "white",
            "gridwidth": 2,
            "linecolor": "white",
            "showbackground": true,
            "ticks": "",
            "zerolinecolor": "white"
           }
          },
          "shapedefaults": {
           "line": {
            "color": "#2a3f5f"
           }
          },
          "ternary": {
           "aaxis": {
            "gridcolor": "white",
            "linecolor": "white",
            "ticks": ""
           },
           "baxis": {
            "gridcolor": "white",
            "linecolor": "white",
            "ticks": ""
           },
           "bgcolor": "#E5ECF6",
           "caxis": {
            "gridcolor": "white",
            "linecolor": "white",
            "ticks": ""
           }
          },
          "title": {
           "x": 0.05
          },
          "xaxis": {
           "automargin": true,
           "gridcolor": "white",
           "linecolor": "white",
           "ticks": "",
           "title": {
            "standoff": 15
           },
           "zerolinecolor": "white",
           "zerolinewidth": 2
          },
          "yaxis": {
           "automargin": true,
           "gridcolor": "white",
           "linecolor": "white",
           "ticks": "",
           "title": {
            "standoff": 15
           },
           "zerolinecolor": "white",
           "zerolinewidth": 2
          }
         }
        },
        "title": {
         "text": "Situação dos clientes em relação ao custo anual total do plano"
        },
        "xaxis": {
         "anchor": "y",
         "domain": [
          0,
          1
         ],
         "title": {
          "text": "Valor anual total do plano"
         }
        },
        "yaxis": {
         "anchor": "x",
         "domain": [
          0,
          1
         ],
         "title": {
          "text": "count (normalized as percent)"
         }
        }
       }
      }
     },
     "metadata": {},
     "output_type": "display_data"
    }
   ],
   "source": [
    "# # Avaliação em relação ao custo anual total do plano\n",
    "df_gastos = df.Valor_Anual.value_counts()\n",
    "df_gastos = df_gastos.to_frame().reset_index()\n",
    "df_gastos.columns = ['Valor anual total do plano', 'Quantidade']\n",
    "df_gastos['Situação do cliente'] = df.Cliente_Inativo\n",
    "df_gastos['Situação do cliente'] = df_gastos['Situação do cliente'].map({0:'Ativo', 1:'Inativo'})\n",
    "\n",
    "\n",
    "fig = px.histogram(df_gastos, x=\"Valor anual total do plano\", color = \"Situação do cliente\", nbins = 10,\n",
    "    title=\"Situação dos clientes em relação ao custo anual total do plano\", barnorm='percent')\n",
    "fig.update_traces( opacity=0.8, marker_line_width=1.5, marker_line_color = 'rgb(0,0,0)')\n",
    "fig.update_layout(bargap=0.05)\n",
    "fig.show()"
   ]
  },
  {
   "cell_type": "markdown",
   "metadata": {},
   "source": [
    "### **4.2.3 - Valor médio mensal do contrato por cliente**\n",
    "\n",
    "O gráfico abaixo mostra o valor mensal médio pago dos clientes ativo e inativos. Este resultado mostra que, no geral, os clientes que pediram cancelamento estavam pagando cerca de $ 13,00 a mais que os clientes que ainda estão ativos. Isto indica que o valor do plano tem forte influência no pedido de cancelamento. Em outras palavras, os clientes que estão inativos provavelmente estão migrando para outros planos mais em conta de outras empresas."
   ]
  },
  {
   "cell_type": "code",
   "execution_count": 8,
   "metadata": {},
   "outputs": [
    {
     "data": {
      "application/vnd.plotly.v1+json": {
       "config": {
        "plotlyServerURL": "https://plot.ly"
       },
       "data": [
        {
         "alignmentgroup": "True",
         "cliponaxis": false,
         "hovertemplate": "Situação do cliente=%{x}<br>Valor mensal médio do plano=%{text}<extra></extra>",
         "legendgroup": "Ativo",
         "marker": {
          "color": "#636efa",
          "line": {
           "color": "rgb(0,0,0)",
           "width": 1.5
          },
          "pattern": {
           "shape": ""
          }
         },
         "name": "Ativo",
         "offsetgroup": "Ativo",
         "opacity": 0.8,
         "orientation": "v",
         "showlegend": true,
         "text": [
          61.31
         ],
         "textangle": 0,
         "textfont": {
          "size": 16
         },
         "textposition": "inside",
         "type": "bar",
         "x": [
          "Ativo"
         ],
         "xaxis": "x",
         "y": [
          61.31
         ],
         "yaxis": "y"
        },
        {
         "alignmentgroup": "True",
         "cliponaxis": false,
         "hovertemplate": "Situação do cliente=%{x}<br>Valor mensal médio do plano=%{text}<extra></extra>",
         "legendgroup": "Inativo",
         "marker": {
          "color": "#EF553B",
          "line": {
           "color": "rgb(0,0,0)",
           "width": 1.5
          },
          "pattern": {
           "shape": ""
          }
         },
         "name": "Inativo",
         "offsetgroup": "Inativo",
         "opacity": 0.8,
         "orientation": "v",
         "showlegend": true,
         "text": [
          74.44
         ],
         "textangle": 0,
         "textfont": {
          "size": 16
         },
         "textposition": "inside",
         "type": "bar",
         "x": [
          "Inativo"
         ],
         "xaxis": "x",
         "y": [
          74.44
         ],
         "yaxis": "y"
        }
       ],
       "layout": {
        "barmode": "relative",
        "legend": {
         "title": {
          "text": "Situação do cliente"
         },
         "tracegroupgap": 0
        },
        "template": {
         "data": {
          "bar": [
           {
            "error_x": {
             "color": "#2a3f5f"
            },
            "error_y": {
             "color": "#2a3f5f"
            },
            "marker": {
             "line": {
              "color": "#E5ECF6",
              "width": 0.5
             },
             "pattern": {
              "fillmode": "overlay",
              "size": 10,
              "solidity": 0.2
             }
            },
            "type": "bar"
           }
          ],
          "barpolar": [
           {
            "marker": {
             "line": {
              "color": "#E5ECF6",
              "width": 0.5
             },
             "pattern": {
              "fillmode": "overlay",
              "size": 10,
              "solidity": 0.2
             }
            },
            "type": "barpolar"
           }
          ],
          "carpet": [
           {
            "aaxis": {
             "endlinecolor": "#2a3f5f",
             "gridcolor": "white",
             "linecolor": "white",
             "minorgridcolor": "white",
             "startlinecolor": "#2a3f5f"
            },
            "baxis": {
             "endlinecolor": "#2a3f5f",
             "gridcolor": "white",
             "linecolor": "white",
             "minorgridcolor": "white",
             "startlinecolor": "#2a3f5f"
            },
            "type": "carpet"
           }
          ],
          "choropleth": [
           {
            "colorbar": {
             "outlinewidth": 0,
             "ticks": ""
            },
            "type": "choropleth"
           }
          ],
          "contour": [
           {
            "colorbar": {
             "outlinewidth": 0,
             "ticks": ""
            },
            "colorscale": [
             [
              0,
              "#0d0887"
             ],
             [
              0.1111111111111111,
              "#46039f"
             ],
             [
              0.2222222222222222,
              "#7201a8"
             ],
             [
              0.3333333333333333,
              "#9c179e"
             ],
             [
              0.4444444444444444,
              "#bd3786"
             ],
             [
              0.5555555555555556,
              "#d8576b"
             ],
             [
              0.6666666666666666,
              "#ed7953"
             ],
             [
              0.7777777777777778,
              "#fb9f3a"
             ],
             [
              0.8888888888888888,
              "#fdca26"
             ],
             [
              1,
              "#f0f921"
             ]
            ],
            "type": "contour"
           }
          ],
          "contourcarpet": [
           {
            "colorbar": {
             "outlinewidth": 0,
             "ticks": ""
            },
            "type": "contourcarpet"
           }
          ],
          "heatmap": [
           {
            "colorbar": {
             "outlinewidth": 0,
             "ticks": ""
            },
            "colorscale": [
             [
              0,
              "#0d0887"
             ],
             [
              0.1111111111111111,
              "#46039f"
             ],
             [
              0.2222222222222222,
              "#7201a8"
             ],
             [
              0.3333333333333333,
              "#9c179e"
             ],
             [
              0.4444444444444444,
              "#bd3786"
             ],
             [
              0.5555555555555556,
              "#d8576b"
             ],
             [
              0.6666666666666666,
              "#ed7953"
             ],
             [
              0.7777777777777778,
              "#fb9f3a"
             ],
             [
              0.8888888888888888,
              "#fdca26"
             ],
             [
              1,
              "#f0f921"
             ]
            ],
            "type": "heatmap"
           }
          ],
          "heatmapgl": [
           {
            "colorbar": {
             "outlinewidth": 0,
             "ticks": ""
            },
            "colorscale": [
             [
              0,
              "#0d0887"
             ],
             [
              0.1111111111111111,
              "#46039f"
             ],
             [
              0.2222222222222222,
              "#7201a8"
             ],
             [
              0.3333333333333333,
              "#9c179e"
             ],
             [
              0.4444444444444444,
              "#bd3786"
             ],
             [
              0.5555555555555556,
              "#d8576b"
             ],
             [
              0.6666666666666666,
              "#ed7953"
             ],
             [
              0.7777777777777778,
              "#fb9f3a"
             ],
             [
              0.8888888888888888,
              "#fdca26"
             ],
             [
              1,
              "#f0f921"
             ]
            ],
            "type": "heatmapgl"
           }
          ],
          "histogram": [
           {
            "marker": {
             "pattern": {
              "fillmode": "overlay",
              "size": 10,
              "solidity": 0.2
             }
            },
            "type": "histogram"
           }
          ],
          "histogram2d": [
           {
            "colorbar": {
             "outlinewidth": 0,
             "ticks": ""
            },
            "colorscale": [
             [
              0,
              "#0d0887"
             ],
             [
              0.1111111111111111,
              "#46039f"
             ],
             [
              0.2222222222222222,
              "#7201a8"
             ],
             [
              0.3333333333333333,
              "#9c179e"
             ],
             [
              0.4444444444444444,
              "#bd3786"
             ],
             [
              0.5555555555555556,
              "#d8576b"
             ],
             [
              0.6666666666666666,
              "#ed7953"
             ],
             [
              0.7777777777777778,
              "#fb9f3a"
             ],
             [
              0.8888888888888888,
              "#fdca26"
             ],
             [
              1,
              "#f0f921"
             ]
            ],
            "type": "histogram2d"
           }
          ],
          "histogram2dcontour": [
           {
            "colorbar": {
             "outlinewidth": 0,
             "ticks": ""
            },
            "colorscale": [
             [
              0,
              "#0d0887"
             ],
             [
              0.1111111111111111,
              "#46039f"
             ],
             [
              0.2222222222222222,
              "#7201a8"
             ],
             [
              0.3333333333333333,
              "#9c179e"
             ],
             [
              0.4444444444444444,
              "#bd3786"
             ],
             [
              0.5555555555555556,
              "#d8576b"
             ],
             [
              0.6666666666666666,
              "#ed7953"
             ],
             [
              0.7777777777777778,
              "#fb9f3a"
             ],
             [
              0.8888888888888888,
              "#fdca26"
             ],
             [
              1,
              "#f0f921"
             ]
            ],
            "type": "histogram2dcontour"
           }
          ],
          "mesh3d": [
           {
            "colorbar": {
             "outlinewidth": 0,
             "ticks": ""
            },
            "type": "mesh3d"
           }
          ],
          "parcoords": [
           {
            "line": {
             "colorbar": {
              "outlinewidth": 0,
              "ticks": ""
             }
            },
            "type": "parcoords"
           }
          ],
          "pie": [
           {
            "automargin": true,
            "type": "pie"
           }
          ],
          "scatter": [
           {
            "marker": {
             "colorbar": {
              "outlinewidth": 0,
              "ticks": ""
             }
            },
            "type": "scatter"
           }
          ],
          "scatter3d": [
           {
            "line": {
             "colorbar": {
              "outlinewidth": 0,
              "ticks": ""
             }
            },
            "marker": {
             "colorbar": {
              "outlinewidth": 0,
              "ticks": ""
             }
            },
            "type": "scatter3d"
           }
          ],
          "scattercarpet": [
           {
            "marker": {
             "colorbar": {
              "outlinewidth": 0,
              "ticks": ""
             }
            },
            "type": "scattercarpet"
           }
          ],
          "scattergeo": [
           {
            "marker": {
             "colorbar": {
              "outlinewidth": 0,
              "ticks": ""
             }
            },
            "type": "scattergeo"
           }
          ],
          "scattergl": [
           {
            "marker": {
             "colorbar": {
              "outlinewidth": 0,
              "ticks": ""
             }
            },
            "type": "scattergl"
           }
          ],
          "scattermapbox": [
           {
            "marker": {
             "colorbar": {
              "outlinewidth": 0,
              "ticks": ""
             }
            },
            "type": "scattermapbox"
           }
          ],
          "scatterpolar": [
           {
            "marker": {
             "colorbar": {
              "outlinewidth": 0,
              "ticks": ""
             }
            },
            "type": "scatterpolar"
           }
          ],
          "scatterpolargl": [
           {
            "marker": {
             "colorbar": {
              "outlinewidth": 0,
              "ticks": ""
             }
            },
            "type": "scatterpolargl"
           }
          ],
          "scatterternary": [
           {
            "marker": {
             "colorbar": {
              "outlinewidth": 0,
              "ticks": ""
             }
            },
            "type": "scatterternary"
           }
          ],
          "surface": [
           {
            "colorbar": {
             "outlinewidth": 0,
             "ticks": ""
            },
            "colorscale": [
             [
              0,
              "#0d0887"
             ],
             [
              0.1111111111111111,
              "#46039f"
             ],
             [
              0.2222222222222222,
              "#7201a8"
             ],
             [
              0.3333333333333333,
              "#9c179e"
             ],
             [
              0.4444444444444444,
              "#bd3786"
             ],
             [
              0.5555555555555556,
              "#d8576b"
             ],
             [
              0.6666666666666666,
              "#ed7953"
             ],
             [
              0.7777777777777778,
              "#fb9f3a"
             ],
             [
              0.8888888888888888,
              "#fdca26"
             ],
             [
              1,
              "#f0f921"
             ]
            ],
            "type": "surface"
           }
          ],
          "table": [
           {
            "cells": {
             "fill": {
              "color": "#EBF0F8"
             },
             "line": {
              "color": "white"
             }
            },
            "header": {
             "fill": {
              "color": "#C8D4E3"
             },
             "line": {
              "color": "white"
             }
            },
            "type": "table"
           }
          ]
         },
         "layout": {
          "annotationdefaults": {
           "arrowcolor": "#2a3f5f",
           "arrowhead": 0,
           "arrowwidth": 1
          },
          "autotypenumbers": "strict",
          "coloraxis": {
           "colorbar": {
            "outlinewidth": 0,
            "ticks": ""
           }
          },
          "colorscale": {
           "diverging": [
            [
             0,
             "#8e0152"
            ],
            [
             0.1,
             "#c51b7d"
            ],
            [
             0.2,
             "#de77ae"
            ],
            [
             0.3,
             "#f1b6da"
            ],
            [
             0.4,
             "#fde0ef"
            ],
            [
             0.5,
             "#f7f7f7"
            ],
            [
             0.6,
             "#e6f5d0"
            ],
            [
             0.7,
             "#b8e186"
            ],
            [
             0.8,
             "#7fbc41"
            ],
            [
             0.9,
             "#4d9221"
            ],
            [
             1,
             "#276419"
            ]
           ],
           "sequential": [
            [
             0,
             "#0d0887"
            ],
            [
             0.1111111111111111,
             "#46039f"
            ],
            [
             0.2222222222222222,
             "#7201a8"
            ],
            [
             0.3333333333333333,
             "#9c179e"
            ],
            [
             0.4444444444444444,
             "#bd3786"
            ],
            [
             0.5555555555555556,
             "#d8576b"
            ],
            [
             0.6666666666666666,
             "#ed7953"
            ],
            [
             0.7777777777777778,
             "#fb9f3a"
            ],
            [
             0.8888888888888888,
             "#fdca26"
            ],
            [
             1,
             "#f0f921"
            ]
           ],
           "sequentialminus": [
            [
             0,
             "#0d0887"
            ],
            [
             0.1111111111111111,
             "#46039f"
            ],
            [
             0.2222222222222222,
             "#7201a8"
            ],
            [
             0.3333333333333333,
             "#9c179e"
            ],
            [
             0.4444444444444444,
             "#bd3786"
            ],
            [
             0.5555555555555556,
             "#d8576b"
            ],
            [
             0.6666666666666666,
             "#ed7953"
            ],
            [
             0.7777777777777778,
             "#fb9f3a"
            ],
            [
             0.8888888888888888,
             "#fdca26"
            ],
            [
             1,
             "#f0f921"
            ]
           ]
          },
          "colorway": [
           "#636efa",
           "#EF553B",
           "#00cc96",
           "#ab63fa",
           "#FFA15A",
           "#19d3f3",
           "#FF6692",
           "#B6E880",
           "#FF97FF",
           "#FECB52"
          ],
          "font": {
           "color": "#2a3f5f"
          },
          "geo": {
           "bgcolor": "white",
           "lakecolor": "white",
           "landcolor": "#E5ECF6",
           "showlakes": true,
           "showland": true,
           "subunitcolor": "white"
          },
          "hoverlabel": {
           "align": "left"
          },
          "hovermode": "closest",
          "mapbox": {
           "style": "light"
          },
          "paper_bgcolor": "white",
          "plot_bgcolor": "#E5ECF6",
          "polar": {
           "angularaxis": {
            "gridcolor": "white",
            "linecolor": "white",
            "ticks": ""
           },
           "bgcolor": "#E5ECF6",
           "radialaxis": {
            "gridcolor": "white",
            "linecolor": "white",
            "ticks": ""
           }
          },
          "scene": {
           "xaxis": {
            "backgroundcolor": "#E5ECF6",
            "gridcolor": "white",
            "gridwidth": 2,
            "linecolor": "white",
            "showbackground": true,
            "ticks": "",
            "zerolinecolor": "white"
           },
           "yaxis": {
            "backgroundcolor": "#E5ECF6",
            "gridcolor": "white",
            "gridwidth": 2,
            "linecolor": "white",
            "showbackground": true,
            "ticks": "",
            "zerolinecolor": "white"
           },
           "zaxis": {
            "backgroundcolor": "#E5ECF6",
            "gridcolor": "white",
            "gridwidth": 2,
            "linecolor": "white",
            "showbackground": true,
            "ticks": "",
            "zerolinecolor": "white"
           }
          },
          "shapedefaults": {
           "line": {
            "color": "#2a3f5f"
           }
          },
          "ternary": {
           "aaxis": {
            "gridcolor": "white",
            "linecolor": "white",
            "ticks": ""
           },
           "baxis": {
            "gridcolor": "white",
            "linecolor": "white",
            "ticks": ""
           },
           "bgcolor": "#E5ECF6",
           "caxis": {
            "gridcolor": "white",
            "linecolor": "white",
            "ticks": ""
           }
          },
          "title": {
           "x": 0.05
          },
          "xaxis": {
           "automargin": true,
           "gridcolor": "white",
           "linecolor": "white",
           "ticks": "",
           "title": {
            "standoff": 15
           },
           "zerolinecolor": "white",
           "zerolinewidth": 2
          },
          "yaxis": {
           "automargin": true,
           "gridcolor": "white",
           "linecolor": "white",
           "ticks": "",
           "title": {
            "standoff": 15
           },
           "zerolinecolor": "white",
           "zerolinewidth": 2
          }
         }
        },
        "title": {
         "text": "Índice de cancelamento por valor médio mensal do plano contratado"
        },
        "xaxis": {
         "anchor": "y",
         "categoryarray": [
          "Ativo",
          "Inativo"
         ],
         "categoryorder": "array",
         "domain": [
          0,
          1
         ],
         "title": {
          "text": "Situação do cliente"
         }
        },
        "yaxis": {
         "anchor": "x",
         "domain": [
          0,
          1
         ],
         "title": {
          "text": "Valor mensal médio do plano"
         }
        }
       }
      }
     },
     "metadata": {},
     "output_type": "display_data"
    }
   ],
   "source": [
    "# Criando e organizando o dataframe de plotagem\n",
    "data_aux = df[['Cliente_Inativo', 'Valor_Mensal', 'Valor_Anual']].groupby('Cliente_Inativo').mean().round(2)\n",
    "data_aux = [ ['Ativo'   , data_aux['Valor_Mensal'][0] , data_aux['Valor_Anual'][0]], \n",
    "             ['Inativo' , data_aux['Valor_Mensal'][1] , data_aux['Valor_Anual'][1] ] ]\n",
    "df_media_gastos = pd.DataFrame(data_aux, columns = ['Situação do cliente', 'Valor mensal médio do plano', 'Valor total médio do plano'])\n",
    "\n",
    "# Plotando em gráfico de barras\n",
    "fig = px.bar(df_media_gastos, x = df_media_gastos['Situação do cliente'], y = df_media_gastos['Valor mensal médio do plano'], \n",
    "    color = 'Situação do cliente' ,text='Valor mensal médio do plano', title=\"Índice de cancelamento por valor médio mensal do plano contratado\")\n",
    "fig.update_traces(textfont_size=16, textangle=0, textposition=\"inside\", cliponaxis=False, opacity=0.8, marker_line_width=1.5,\n",
    "    marker_line_color = 'rgb(0,0,0)')\n",
    "fig.show()\n",
    "\n",
    "# Para salvar a imagem\n",
    "# pio.write_image(fig, 'image.png',scale=6, width=1080, height=1080)"
   ]
  },
  {
   "cell_type": "markdown",
   "metadata": {},
   "source": [
    "### **4.2.4 - Valor médio anual do contrato por cliente**\n",
    "\n",
    "O gráfico abaixo exibe a média do plano anual pago pelos clientes ativos e inativos. Diferentemente do que foi observado anteriormente, o perfil dos clientes inativos pagavam, em média, um valor anual menor que os clientes ainda ativos. Isto pode indicar que os clientes que aderem a mais serviços da empresa tendem a permanecer na empresa."
   ]
  },
  {
   "cell_type": "code",
   "execution_count": 9,
   "metadata": {},
   "outputs": [
    {
     "data": {
      "application/vnd.plotly.v1+json": {
       "config": {
        "plotlyServerURL": "https://plot.ly"
       },
       "data": [
        {
         "alignmentgroup": "True",
         "cliponaxis": false,
         "hovertemplate": "Situação do cliente=%{x}<br>Valor total médio do plano=%{text}<extra></extra>",
         "legendgroup": "Ativo",
         "marker": {
          "color": "#636efa",
          "line": {
           "color": "rgb(0,0,0)",
           "width": 1.5
          },
          "pattern": {
           "shape": ""
          }
         },
         "name": "Ativo",
         "offsetgroup": "Ativo",
         "opacity": 0.8,
         "orientation": "v",
         "showlegend": true,
         "text": [
          2555.34
         ],
         "textangle": 0,
         "textfont": {
          "size": 16
         },
         "textposition": "inside",
         "type": "bar",
         "x": [
          "Ativo"
         ],
         "xaxis": "x",
         "y": [
          2555.34
         ],
         "yaxis": "y"
        },
        {
         "alignmentgroup": "True",
         "cliponaxis": false,
         "hovertemplate": "Situação do cliente=%{x}<br>Valor total médio do plano=%{text}<extra></extra>",
         "legendgroup": "Inativo",
         "marker": {
          "color": "#EF553B",
          "line": {
           "color": "rgb(0,0,0)",
           "width": 1.5
          },
          "pattern": {
           "shape": ""
          }
         },
         "name": "Inativo",
         "offsetgroup": "Inativo",
         "opacity": 0.8,
         "orientation": "v",
         "showlegend": true,
         "text": [
          1531.8
         ],
         "textangle": 0,
         "textfont": {
          "size": 16
         },
         "textposition": "inside",
         "type": "bar",
         "x": [
          "Inativo"
         ],
         "xaxis": "x",
         "y": [
          1531.8
         ],
         "yaxis": "y"
        }
       ],
       "layout": {
        "barmode": "relative",
        "legend": {
         "title": {
          "text": "Situação do cliente"
         },
         "tracegroupgap": 0
        },
        "template": {
         "data": {
          "bar": [
           {
            "error_x": {
             "color": "#2a3f5f"
            },
            "error_y": {
             "color": "#2a3f5f"
            },
            "marker": {
             "line": {
              "color": "#E5ECF6",
              "width": 0.5
             },
             "pattern": {
              "fillmode": "overlay",
              "size": 10,
              "solidity": 0.2
             }
            },
            "type": "bar"
           }
          ],
          "barpolar": [
           {
            "marker": {
             "line": {
              "color": "#E5ECF6",
              "width": 0.5
             },
             "pattern": {
              "fillmode": "overlay",
              "size": 10,
              "solidity": 0.2
             }
            },
            "type": "barpolar"
           }
          ],
          "carpet": [
           {
            "aaxis": {
             "endlinecolor": "#2a3f5f",
             "gridcolor": "white",
             "linecolor": "white",
             "minorgridcolor": "white",
             "startlinecolor": "#2a3f5f"
            },
            "baxis": {
             "endlinecolor": "#2a3f5f",
             "gridcolor": "white",
             "linecolor": "white",
             "minorgridcolor": "white",
             "startlinecolor": "#2a3f5f"
            },
            "type": "carpet"
           }
          ],
          "choropleth": [
           {
            "colorbar": {
             "outlinewidth": 0,
             "ticks": ""
            },
            "type": "choropleth"
           }
          ],
          "contour": [
           {
            "colorbar": {
             "outlinewidth": 0,
             "ticks": ""
            },
            "colorscale": [
             [
              0,
              "#0d0887"
             ],
             [
              0.1111111111111111,
              "#46039f"
             ],
             [
              0.2222222222222222,
              "#7201a8"
             ],
             [
              0.3333333333333333,
              "#9c179e"
             ],
             [
              0.4444444444444444,
              "#bd3786"
             ],
             [
              0.5555555555555556,
              "#d8576b"
             ],
             [
              0.6666666666666666,
              "#ed7953"
             ],
             [
              0.7777777777777778,
              "#fb9f3a"
             ],
             [
              0.8888888888888888,
              "#fdca26"
             ],
             [
              1,
              "#f0f921"
             ]
            ],
            "type": "contour"
           }
          ],
          "contourcarpet": [
           {
            "colorbar": {
             "outlinewidth": 0,
             "ticks": ""
            },
            "type": "contourcarpet"
           }
          ],
          "heatmap": [
           {
            "colorbar": {
             "outlinewidth": 0,
             "ticks": ""
            },
            "colorscale": [
             [
              0,
              "#0d0887"
             ],
             [
              0.1111111111111111,
              "#46039f"
             ],
             [
              0.2222222222222222,
              "#7201a8"
             ],
             [
              0.3333333333333333,
              "#9c179e"
             ],
             [
              0.4444444444444444,
              "#bd3786"
             ],
             [
              0.5555555555555556,
              "#d8576b"
             ],
             [
              0.6666666666666666,
              "#ed7953"
             ],
             [
              0.7777777777777778,
              "#fb9f3a"
             ],
             [
              0.8888888888888888,
              "#fdca26"
             ],
             [
              1,
              "#f0f921"
             ]
            ],
            "type": "heatmap"
           }
          ],
          "heatmapgl": [
           {
            "colorbar": {
             "outlinewidth": 0,
             "ticks": ""
            },
            "colorscale": [
             [
              0,
              "#0d0887"
             ],
             [
              0.1111111111111111,
              "#46039f"
             ],
             [
              0.2222222222222222,
              "#7201a8"
             ],
             [
              0.3333333333333333,
              "#9c179e"
             ],
             [
              0.4444444444444444,
              "#bd3786"
             ],
             [
              0.5555555555555556,
              "#d8576b"
             ],
             [
              0.6666666666666666,
              "#ed7953"
             ],
             [
              0.7777777777777778,
              "#fb9f3a"
             ],
             [
              0.8888888888888888,
              "#fdca26"
             ],
             [
              1,
              "#f0f921"
             ]
            ],
            "type": "heatmapgl"
           }
          ],
          "histogram": [
           {
            "marker": {
             "pattern": {
              "fillmode": "overlay",
              "size": 10,
              "solidity": 0.2
             }
            },
            "type": "histogram"
           }
          ],
          "histogram2d": [
           {
            "colorbar": {
             "outlinewidth": 0,
             "ticks": ""
            },
            "colorscale": [
             [
              0,
              "#0d0887"
             ],
             [
              0.1111111111111111,
              "#46039f"
             ],
             [
              0.2222222222222222,
              "#7201a8"
             ],
             [
              0.3333333333333333,
              "#9c179e"
             ],
             [
              0.4444444444444444,
              "#bd3786"
             ],
             [
              0.5555555555555556,
              "#d8576b"
             ],
             [
              0.6666666666666666,
              "#ed7953"
             ],
             [
              0.7777777777777778,
              "#fb9f3a"
             ],
             [
              0.8888888888888888,
              "#fdca26"
             ],
             [
              1,
              "#f0f921"
             ]
            ],
            "type": "histogram2d"
           }
          ],
          "histogram2dcontour": [
           {
            "colorbar": {
             "outlinewidth": 0,
             "ticks": ""
            },
            "colorscale": [
             [
              0,
              "#0d0887"
             ],
             [
              0.1111111111111111,
              "#46039f"
             ],
             [
              0.2222222222222222,
              "#7201a8"
             ],
             [
              0.3333333333333333,
              "#9c179e"
             ],
             [
              0.4444444444444444,
              "#bd3786"
             ],
             [
              0.5555555555555556,
              "#d8576b"
             ],
             [
              0.6666666666666666,
              "#ed7953"
             ],
             [
              0.7777777777777778,
              "#fb9f3a"
             ],
             [
              0.8888888888888888,
              "#fdca26"
             ],
             [
              1,
              "#f0f921"
             ]
            ],
            "type": "histogram2dcontour"
           }
          ],
          "mesh3d": [
           {
            "colorbar": {
             "outlinewidth": 0,
             "ticks": ""
            },
            "type": "mesh3d"
           }
          ],
          "parcoords": [
           {
            "line": {
             "colorbar": {
              "outlinewidth": 0,
              "ticks": ""
             }
            },
            "type": "parcoords"
           }
          ],
          "pie": [
           {
            "automargin": true,
            "type": "pie"
           }
          ],
          "scatter": [
           {
            "marker": {
             "colorbar": {
              "outlinewidth": 0,
              "ticks": ""
             }
            },
            "type": "scatter"
           }
          ],
          "scatter3d": [
           {
            "line": {
             "colorbar": {
              "outlinewidth": 0,
              "ticks": ""
             }
            },
            "marker": {
             "colorbar": {
              "outlinewidth": 0,
              "ticks": ""
             }
            },
            "type": "scatter3d"
           }
          ],
          "scattercarpet": [
           {
            "marker": {
             "colorbar": {
              "outlinewidth": 0,
              "ticks": ""
             }
            },
            "type": "scattercarpet"
           }
          ],
          "scattergeo": [
           {
            "marker": {
             "colorbar": {
              "outlinewidth": 0,
              "ticks": ""
             }
            },
            "type": "scattergeo"
           }
          ],
          "scattergl": [
           {
            "marker": {
             "colorbar": {
              "outlinewidth": 0,
              "ticks": ""
             }
            },
            "type": "scattergl"
           }
          ],
          "scattermapbox": [
           {
            "marker": {
             "colorbar": {
              "outlinewidth": 0,
              "ticks": ""
             }
            },
            "type": "scattermapbox"
           }
          ],
          "scatterpolar": [
           {
            "marker": {
             "colorbar": {
              "outlinewidth": 0,
              "ticks": ""
             }
            },
            "type": "scatterpolar"
           }
          ],
          "scatterpolargl": [
           {
            "marker": {
             "colorbar": {
              "outlinewidth": 0,
              "ticks": ""
             }
            },
            "type": "scatterpolargl"
           }
          ],
          "scatterternary": [
           {
            "marker": {
             "colorbar": {
              "outlinewidth": 0,
              "ticks": ""
             }
            },
            "type": "scatterternary"
           }
          ],
          "surface": [
           {
            "colorbar": {
             "outlinewidth": 0,
             "ticks": ""
            },
            "colorscale": [
             [
              0,
              "#0d0887"
             ],
             [
              0.1111111111111111,
              "#46039f"
             ],
             [
              0.2222222222222222,
              "#7201a8"
             ],
             [
              0.3333333333333333,
              "#9c179e"
             ],
             [
              0.4444444444444444,
              "#bd3786"
             ],
             [
              0.5555555555555556,
              "#d8576b"
             ],
             [
              0.6666666666666666,
              "#ed7953"
             ],
             [
              0.7777777777777778,
              "#fb9f3a"
             ],
             [
              0.8888888888888888,
              "#fdca26"
             ],
             [
              1,
              "#f0f921"
             ]
            ],
            "type": "surface"
           }
          ],
          "table": [
           {
            "cells": {
             "fill": {
              "color": "#EBF0F8"
             },
             "line": {
              "color": "white"
             }
            },
            "header": {
             "fill": {
              "color": "#C8D4E3"
             },
             "line": {
              "color": "white"
             }
            },
            "type": "table"
           }
          ]
         },
         "layout": {
          "annotationdefaults": {
           "arrowcolor": "#2a3f5f",
           "arrowhead": 0,
           "arrowwidth": 1
          },
          "autotypenumbers": "strict",
          "coloraxis": {
           "colorbar": {
            "outlinewidth": 0,
            "ticks": ""
           }
          },
          "colorscale": {
           "diverging": [
            [
             0,
             "#8e0152"
            ],
            [
             0.1,
             "#c51b7d"
            ],
            [
             0.2,
             "#de77ae"
            ],
            [
             0.3,
             "#f1b6da"
            ],
            [
             0.4,
             "#fde0ef"
            ],
            [
             0.5,
             "#f7f7f7"
            ],
            [
             0.6,
             "#e6f5d0"
            ],
            [
             0.7,
             "#b8e186"
            ],
            [
             0.8,
             "#7fbc41"
            ],
            [
             0.9,
             "#4d9221"
            ],
            [
             1,
             "#276419"
            ]
           ],
           "sequential": [
            [
             0,
             "#0d0887"
            ],
            [
             0.1111111111111111,
             "#46039f"
            ],
            [
             0.2222222222222222,
             "#7201a8"
            ],
            [
             0.3333333333333333,
             "#9c179e"
            ],
            [
             0.4444444444444444,
             "#bd3786"
            ],
            [
             0.5555555555555556,
             "#d8576b"
            ],
            [
             0.6666666666666666,
             "#ed7953"
            ],
            [
             0.7777777777777778,
             "#fb9f3a"
            ],
            [
             0.8888888888888888,
             "#fdca26"
            ],
            [
             1,
             "#f0f921"
            ]
           ],
           "sequentialminus": [
            [
             0,
             "#0d0887"
            ],
            [
             0.1111111111111111,
             "#46039f"
            ],
            [
             0.2222222222222222,
             "#7201a8"
            ],
            [
             0.3333333333333333,
             "#9c179e"
            ],
            [
             0.4444444444444444,
             "#bd3786"
            ],
            [
             0.5555555555555556,
             "#d8576b"
            ],
            [
             0.6666666666666666,
             "#ed7953"
            ],
            [
             0.7777777777777778,
             "#fb9f3a"
            ],
            [
             0.8888888888888888,
             "#fdca26"
            ],
            [
             1,
             "#f0f921"
            ]
           ]
          },
          "colorway": [
           "#636efa",
           "#EF553B",
           "#00cc96",
           "#ab63fa",
           "#FFA15A",
           "#19d3f3",
           "#FF6692",
           "#B6E880",
           "#FF97FF",
           "#FECB52"
          ],
          "font": {
           "color": "#2a3f5f"
          },
          "geo": {
           "bgcolor": "white",
           "lakecolor": "white",
           "landcolor": "#E5ECF6",
           "showlakes": true,
           "showland": true,
           "subunitcolor": "white"
          },
          "hoverlabel": {
           "align": "left"
          },
          "hovermode": "closest",
          "mapbox": {
           "style": "light"
          },
          "paper_bgcolor": "white",
          "plot_bgcolor": "#E5ECF6",
          "polar": {
           "angularaxis": {
            "gridcolor": "white",
            "linecolor": "white",
            "ticks": ""
           },
           "bgcolor": "#E5ECF6",
           "radialaxis": {
            "gridcolor": "white",
            "linecolor": "white",
            "ticks": ""
           }
          },
          "scene": {
           "xaxis": {
            "backgroundcolor": "#E5ECF6",
            "gridcolor": "white",
            "gridwidth": 2,
            "linecolor": "white",
            "showbackground": true,
            "ticks": "",
            "zerolinecolor": "white"
           },
           "yaxis": {
            "backgroundcolor": "#E5ECF6",
            "gridcolor": "white",
            "gridwidth": 2,
            "linecolor": "white",
            "showbackground": true,
            "ticks": "",
            "zerolinecolor": "white"
           },
           "zaxis": {
            "backgroundcolor": "#E5ECF6",
            "gridcolor": "white",
            "gridwidth": 2,
            "linecolor": "white",
            "showbackground": true,
            "ticks": "",
            "zerolinecolor": "white"
           }
          },
          "shapedefaults": {
           "line": {
            "color": "#2a3f5f"
           }
          },
          "ternary": {
           "aaxis": {
            "gridcolor": "white",
            "linecolor": "white",
            "ticks": ""
           },
           "baxis": {
            "gridcolor": "white",
            "linecolor": "white",
            "ticks": ""
           },
           "bgcolor": "#E5ECF6",
           "caxis": {
            "gridcolor": "white",
            "linecolor": "white",
            "ticks": ""
           }
          },
          "title": {
           "x": 0.05
          },
          "xaxis": {
           "automargin": true,
           "gridcolor": "white",
           "linecolor": "white",
           "ticks": "",
           "title": {
            "standoff": 15
           },
           "zerolinecolor": "white",
           "zerolinewidth": 2
          },
          "yaxis": {
           "automargin": true,
           "gridcolor": "white",
           "linecolor": "white",
           "ticks": "",
           "title": {
            "standoff": 15
           },
           "zerolinecolor": "white",
           "zerolinewidth": 2
          }
         }
        },
        "title": {
         "text": "Índice de cancelamento por valor médio anual do plano contratado"
        },
        "xaxis": {
         "anchor": "y",
         "categoryarray": [
          "Ativo",
          "Inativo"
         ],
         "categoryorder": "array",
         "domain": [
          0,
          1
         ],
         "title": {
          "text": "Situação do cliente"
         }
        },
        "yaxis": {
         "anchor": "x",
         "domain": [
          0,
          1
         ],
         "title": {
          "text": "Valor total médio do plano"
         }
        }
       }
      }
     },
     "metadata": {},
     "output_type": "display_data"
    }
   ],
   "source": [
    "# Plotando em gráfico de barras\n",
    "fig = px.bar(df_media_gastos, x = df_media_gastos['Situação do cliente'], y = df_media_gastos['Valor total médio do plano'], \n",
    "    color = 'Situação do cliente' ,text='Valor total médio do plano', title=\"Índice de cancelamento por valor médio anual do plano contratado\")\n",
    "fig.update_traces(textfont_size=16, textangle=0, textposition=\"inside\", cliponaxis=False, opacity=0.8, marker_line_width=1.5,\n",
    "    marker_line_color = 'rgb(0,0,0)')\n",
    "fig.show()"
   ]
  },
  {
   "cell_type": "markdown",
   "metadata": {},
   "source": [
    "## **4.3 - Tempo de contrato**\n",
    "\n",
    "O tempo de contrato dos clientes tambem é avaliado para definir se o fator de fidelização tem influência na permanência do cliente."
   ]
  },
  {
   "cell_type": "markdown",
   "metadata": {},
   "source": [
    "### **4.3.1 - Tempo total de contrato**"
   ]
  },
  {
   "cell_type": "code",
   "execution_count": 10,
   "metadata": {},
   "outputs": [
    {
     "data": {
      "application/vnd.plotly.v1+json": {
       "config": {
        "plotlyServerURL": "https://plot.ly"
       },
       "data": [
        {
         "alignmentgroup": "True",
         "bingroup": "x",
         "hovertemplate": "Situação do cliente=Ativo<br>Duração do plano=%{x}<br>count (normalized as percent)=%{y}<extra></extra>",
         "legendgroup": "Ativo",
         "marker": {
          "color": "#636efa",
          "line": {
           "color": "rgb(0,0,0)",
           "width": 1.5
          },
          "pattern": {
           "shape": ""
          }
         },
         "name": "Ativo",
         "nbinsx": 6,
         "offsetgroup": "Ativo",
         "opacity": 0.8,
         "orientation": "v",
         "showlegend": true,
         "type": "histogram",
         "x": [
          1,
          72,
          71,
          5,
          7,
          8,
          9,
          70,
          12,
          10,
          6,
          13,
          68,
          11,
          15,
          69,
          22,
          66,
          23,
          16,
          56,
          64,
          52,
          25,
          26,
          61,
          65,
          60,
          14,
          46,
          19,
          63,
          27,
          30,
          20,
          62,
          53,
          41,
          32,
          51,
          54,
          50,
          47,
          58,
          42,
          57,
          43,
          37,
          34,
          33,
          48,
          55,
          45,
          59,
          28,
          39,
          44
         ],
         "xaxis": "x",
         "yaxis": "y"
        },
        {
         "alignmentgroup": "True",
         "bingroup": "x",
         "hovertemplate": "Situação do cliente=Inativo<br>Duração do plano=%{x}<br>count (normalized as percent)=%{y}<extra></extra>",
         "legendgroup": "Inativo",
         "marker": {
          "color": "#EF553B",
          "line": {
           "color": "rgb(0,0,0)",
           "width": 1.5
          },
          "pattern": {
           "shape": ""
          }
         },
         "name": "Inativo",
         "nbinsx": 6,
         "offsetgroup": "Inativo",
         "opacity": 0.8,
         "orientation": "v",
         "showlegend": true,
         "type": "histogram",
         "x": [
          2,
          3,
          4,
          67,
          18,
          24,
          35,
          17,
          29,
          49,
          31,
          40,
          21,
          38,
          36
         ],
         "xaxis": "x",
         "yaxis": "y"
        }
       ],
       "layout": {
        "bargap": 0.05,
        "barmode": "relative",
        "barnorm": "percent",
        "legend": {
         "title": {
          "text": "Situação do cliente"
         },
         "tracegroupgap": 0
        },
        "template": {
         "data": {
          "bar": [
           {
            "error_x": {
             "color": "#2a3f5f"
            },
            "error_y": {
             "color": "#2a3f5f"
            },
            "marker": {
             "line": {
              "color": "#E5ECF6",
              "width": 0.5
             },
             "pattern": {
              "fillmode": "overlay",
              "size": 10,
              "solidity": 0.2
             }
            },
            "type": "bar"
           }
          ],
          "barpolar": [
           {
            "marker": {
             "line": {
              "color": "#E5ECF6",
              "width": 0.5
             },
             "pattern": {
              "fillmode": "overlay",
              "size": 10,
              "solidity": 0.2
             }
            },
            "type": "barpolar"
           }
          ],
          "carpet": [
           {
            "aaxis": {
             "endlinecolor": "#2a3f5f",
             "gridcolor": "white",
             "linecolor": "white",
             "minorgridcolor": "white",
             "startlinecolor": "#2a3f5f"
            },
            "baxis": {
             "endlinecolor": "#2a3f5f",
             "gridcolor": "white",
             "linecolor": "white",
             "minorgridcolor": "white",
             "startlinecolor": "#2a3f5f"
            },
            "type": "carpet"
           }
          ],
          "choropleth": [
           {
            "colorbar": {
             "outlinewidth": 0,
             "ticks": ""
            },
            "type": "choropleth"
           }
          ],
          "contour": [
           {
            "colorbar": {
             "outlinewidth": 0,
             "ticks": ""
            },
            "colorscale": [
             [
              0,
              "#0d0887"
             ],
             [
              0.1111111111111111,
              "#46039f"
             ],
             [
              0.2222222222222222,
              "#7201a8"
             ],
             [
              0.3333333333333333,
              "#9c179e"
             ],
             [
              0.4444444444444444,
              "#bd3786"
             ],
             [
              0.5555555555555556,
              "#d8576b"
             ],
             [
              0.6666666666666666,
              "#ed7953"
             ],
             [
              0.7777777777777778,
              "#fb9f3a"
             ],
             [
              0.8888888888888888,
              "#fdca26"
             ],
             [
              1,
              "#f0f921"
             ]
            ],
            "type": "contour"
           }
          ],
          "contourcarpet": [
           {
            "colorbar": {
             "outlinewidth": 0,
             "ticks": ""
            },
            "type": "contourcarpet"
           }
          ],
          "heatmap": [
           {
            "colorbar": {
             "outlinewidth": 0,
             "ticks": ""
            },
            "colorscale": [
             [
              0,
              "#0d0887"
             ],
             [
              0.1111111111111111,
              "#46039f"
             ],
             [
              0.2222222222222222,
              "#7201a8"
             ],
             [
              0.3333333333333333,
              "#9c179e"
             ],
             [
              0.4444444444444444,
              "#bd3786"
             ],
             [
              0.5555555555555556,
              "#d8576b"
             ],
             [
              0.6666666666666666,
              "#ed7953"
             ],
             [
              0.7777777777777778,
              "#fb9f3a"
             ],
             [
              0.8888888888888888,
              "#fdca26"
             ],
             [
              1,
              "#f0f921"
             ]
            ],
            "type": "heatmap"
           }
          ],
          "heatmapgl": [
           {
            "colorbar": {
             "outlinewidth": 0,
             "ticks": ""
            },
            "colorscale": [
             [
              0,
              "#0d0887"
             ],
             [
              0.1111111111111111,
              "#46039f"
             ],
             [
              0.2222222222222222,
              "#7201a8"
             ],
             [
              0.3333333333333333,
              "#9c179e"
             ],
             [
              0.4444444444444444,
              "#bd3786"
             ],
             [
              0.5555555555555556,
              "#d8576b"
             ],
             [
              0.6666666666666666,
              "#ed7953"
             ],
             [
              0.7777777777777778,
              "#fb9f3a"
             ],
             [
              0.8888888888888888,
              "#fdca26"
             ],
             [
              1,
              "#f0f921"
             ]
            ],
            "type": "heatmapgl"
           }
          ],
          "histogram": [
           {
            "marker": {
             "pattern": {
              "fillmode": "overlay",
              "size": 10,
              "solidity": 0.2
             }
            },
            "type": "histogram"
           }
          ],
          "histogram2d": [
           {
            "colorbar": {
             "outlinewidth": 0,
             "ticks": ""
            },
            "colorscale": [
             [
              0,
              "#0d0887"
             ],
             [
              0.1111111111111111,
              "#46039f"
             ],
             [
              0.2222222222222222,
              "#7201a8"
             ],
             [
              0.3333333333333333,
              "#9c179e"
             ],
             [
              0.4444444444444444,
              "#bd3786"
             ],
             [
              0.5555555555555556,
              "#d8576b"
             ],
             [
              0.6666666666666666,
              "#ed7953"
             ],
             [
              0.7777777777777778,
              "#fb9f3a"
             ],
             [
              0.8888888888888888,
              "#fdca26"
             ],
             [
              1,
              "#f0f921"
             ]
            ],
            "type": "histogram2d"
           }
          ],
          "histogram2dcontour": [
           {
            "colorbar": {
             "outlinewidth": 0,
             "ticks": ""
            },
            "colorscale": [
             [
              0,
              "#0d0887"
             ],
             [
              0.1111111111111111,
              "#46039f"
             ],
             [
              0.2222222222222222,
              "#7201a8"
             ],
             [
              0.3333333333333333,
              "#9c179e"
             ],
             [
              0.4444444444444444,
              "#bd3786"
             ],
             [
              0.5555555555555556,
              "#d8576b"
             ],
             [
              0.6666666666666666,
              "#ed7953"
             ],
             [
              0.7777777777777778,
              "#fb9f3a"
             ],
             [
              0.8888888888888888,
              "#fdca26"
             ],
             [
              1,
              "#f0f921"
             ]
            ],
            "type": "histogram2dcontour"
           }
          ],
          "mesh3d": [
           {
            "colorbar": {
             "outlinewidth": 0,
             "ticks": ""
            },
            "type": "mesh3d"
           }
          ],
          "parcoords": [
           {
            "line": {
             "colorbar": {
              "outlinewidth": 0,
              "ticks": ""
             }
            },
            "type": "parcoords"
           }
          ],
          "pie": [
           {
            "automargin": true,
            "type": "pie"
           }
          ],
          "scatter": [
           {
            "marker": {
             "colorbar": {
              "outlinewidth": 0,
              "ticks": ""
             }
            },
            "type": "scatter"
           }
          ],
          "scatter3d": [
           {
            "line": {
             "colorbar": {
              "outlinewidth": 0,
              "ticks": ""
             }
            },
            "marker": {
             "colorbar": {
              "outlinewidth": 0,
              "ticks": ""
             }
            },
            "type": "scatter3d"
           }
          ],
          "scattercarpet": [
           {
            "marker": {
             "colorbar": {
              "outlinewidth": 0,
              "ticks": ""
             }
            },
            "type": "scattercarpet"
           }
          ],
          "scattergeo": [
           {
            "marker": {
             "colorbar": {
              "outlinewidth": 0,
              "ticks": ""
             }
            },
            "type": "scattergeo"
           }
          ],
          "scattergl": [
           {
            "marker": {
             "colorbar": {
              "outlinewidth": 0,
              "ticks": ""
             }
            },
            "type": "scattergl"
           }
          ],
          "scattermapbox": [
           {
            "marker": {
             "colorbar": {
              "outlinewidth": 0,
              "ticks": ""
             }
            },
            "type": "scattermapbox"
           }
          ],
          "scatterpolar": [
           {
            "marker": {
             "colorbar": {
              "outlinewidth": 0,
              "ticks": ""
             }
            },
            "type": "scatterpolar"
           }
          ],
          "scatterpolargl": [
           {
            "marker": {
             "colorbar": {
              "outlinewidth": 0,
              "ticks": ""
             }
            },
            "type": "scatterpolargl"
           }
          ],
          "scatterternary": [
           {
            "marker": {
             "colorbar": {
              "outlinewidth": 0,
              "ticks": ""
             }
            },
            "type": "scatterternary"
           }
          ],
          "surface": [
           {
            "colorbar": {
             "outlinewidth": 0,
             "ticks": ""
            },
            "colorscale": [
             [
              0,
              "#0d0887"
             ],
             [
              0.1111111111111111,
              "#46039f"
             ],
             [
              0.2222222222222222,
              "#7201a8"
             ],
             [
              0.3333333333333333,
              "#9c179e"
             ],
             [
              0.4444444444444444,
              "#bd3786"
             ],
             [
              0.5555555555555556,
              "#d8576b"
             ],
             [
              0.6666666666666666,
              "#ed7953"
             ],
             [
              0.7777777777777778,
              "#fb9f3a"
             ],
             [
              0.8888888888888888,
              "#fdca26"
             ],
             [
              1,
              "#f0f921"
             ]
            ],
            "type": "surface"
           }
          ],
          "table": [
           {
            "cells": {
             "fill": {
              "color": "#EBF0F8"
             },
             "line": {
              "color": "white"
             }
            },
            "header": {
             "fill": {
              "color": "#C8D4E3"
             },
             "line": {
              "color": "white"
             }
            },
            "type": "table"
           }
          ]
         },
         "layout": {
          "annotationdefaults": {
           "arrowcolor": "#2a3f5f",
           "arrowhead": 0,
           "arrowwidth": 1
          },
          "autotypenumbers": "strict",
          "coloraxis": {
           "colorbar": {
            "outlinewidth": 0,
            "ticks": ""
           }
          },
          "colorscale": {
           "diverging": [
            [
             0,
             "#8e0152"
            ],
            [
             0.1,
             "#c51b7d"
            ],
            [
             0.2,
             "#de77ae"
            ],
            [
             0.3,
             "#f1b6da"
            ],
            [
             0.4,
             "#fde0ef"
            ],
            [
             0.5,
             "#f7f7f7"
            ],
            [
             0.6,
             "#e6f5d0"
            ],
            [
             0.7,
             "#b8e186"
            ],
            [
             0.8,
             "#7fbc41"
            ],
            [
             0.9,
             "#4d9221"
            ],
            [
             1,
             "#276419"
            ]
           ],
           "sequential": [
            [
             0,
             "#0d0887"
            ],
            [
             0.1111111111111111,
             "#46039f"
            ],
            [
             0.2222222222222222,
             "#7201a8"
            ],
            [
             0.3333333333333333,
             "#9c179e"
            ],
            [
             0.4444444444444444,
             "#bd3786"
            ],
            [
             0.5555555555555556,
             "#d8576b"
            ],
            [
             0.6666666666666666,
             "#ed7953"
            ],
            [
             0.7777777777777778,
             "#fb9f3a"
            ],
            [
             0.8888888888888888,
             "#fdca26"
            ],
            [
             1,
             "#f0f921"
            ]
           ],
           "sequentialminus": [
            [
             0,
             "#0d0887"
            ],
            [
             0.1111111111111111,
             "#46039f"
            ],
            [
             0.2222222222222222,
             "#7201a8"
            ],
            [
             0.3333333333333333,
             "#9c179e"
            ],
            [
             0.4444444444444444,
             "#bd3786"
            ],
            [
             0.5555555555555556,
             "#d8576b"
            ],
            [
             0.6666666666666666,
             "#ed7953"
            ],
            [
             0.7777777777777778,
             "#fb9f3a"
            ],
            [
             0.8888888888888888,
             "#fdca26"
            ],
            [
             1,
             "#f0f921"
            ]
           ]
          },
          "colorway": [
           "#636efa",
           "#EF553B",
           "#00cc96",
           "#ab63fa",
           "#FFA15A",
           "#19d3f3",
           "#FF6692",
           "#B6E880",
           "#FF97FF",
           "#FECB52"
          ],
          "font": {
           "color": "#2a3f5f"
          },
          "geo": {
           "bgcolor": "white",
           "lakecolor": "white",
           "landcolor": "#E5ECF6",
           "showlakes": true,
           "showland": true,
           "subunitcolor": "white"
          },
          "hoverlabel": {
           "align": "left"
          },
          "hovermode": "closest",
          "mapbox": {
           "style": "light"
          },
          "paper_bgcolor": "white",
          "plot_bgcolor": "#E5ECF6",
          "polar": {
           "angularaxis": {
            "gridcolor": "white",
            "linecolor": "white",
            "ticks": ""
           },
           "bgcolor": "#E5ECF6",
           "radialaxis": {
            "gridcolor": "white",
            "linecolor": "white",
            "ticks": ""
           }
          },
          "scene": {
           "xaxis": {
            "backgroundcolor": "#E5ECF6",
            "gridcolor": "white",
            "gridwidth": 2,
            "linecolor": "white",
            "showbackground": true,
            "ticks": "",
            "zerolinecolor": "white"
           },
           "yaxis": {
            "backgroundcolor": "#E5ECF6",
            "gridcolor": "white",
            "gridwidth": 2,
            "linecolor": "white",
            "showbackground": true,
            "ticks": "",
            "zerolinecolor": "white"
           },
           "zaxis": {
            "backgroundcolor": "#E5ECF6",
            "gridcolor": "white",
            "gridwidth": 2,
            "linecolor": "white",
            "showbackground": true,
            "ticks": "",
            "zerolinecolor": "white"
           }
          },
          "shapedefaults": {
           "line": {
            "color": "#2a3f5f"
           }
          },
          "ternary": {
           "aaxis": {
            "gridcolor": "white",
            "linecolor": "white",
            "ticks": ""
           },
           "baxis": {
            "gridcolor": "white",
            "linecolor": "white",
            "ticks": ""
           },
           "bgcolor": "#E5ECF6",
           "caxis": {
            "gridcolor": "white",
            "linecolor": "white",
            "ticks": ""
           }
          },
          "title": {
           "x": 0.05
          },
          "xaxis": {
           "automargin": true,
           "gridcolor": "white",
           "linecolor": "white",
           "ticks": "",
           "title": {
            "standoff": 15
           },
           "zerolinecolor": "white",
           "zerolinewidth": 2
          },
          "yaxis": {
           "automargin": true,
           "gridcolor": "white",
           "linecolor": "white",
           "ticks": "",
           "title": {
            "standoff": 15
           },
           "zerolinecolor": "white",
           "zerolinewidth": 2
          }
         }
        },
        "title": {
         "text": "Situação dos clientes em relação à duração do contrato"
        },
        "xaxis": {
         "anchor": "y",
         "domain": [
          0,
          1
         ],
         "title": {
          "text": "Duração do plano"
         }
        },
        "yaxis": {
         "anchor": "x",
         "domain": [
          0,
          1
         ],
         "title": {
          "text": "count (normalized as percent)"
         }
        }
       }
      }
     },
     "metadata": {},
     "output_type": "display_data"
    }
   ],
   "source": [
    "# Dataframe de plotagem\n",
    "df_contrato = df.Meses_Contrato.value_counts()\n",
    "df_contrato = df_contrato.to_frame().reset_index()\n",
    "df_contrato.columns = ['Duração do plano', 'Quantidade']\n",
    "df_contrato['Situação do cliente'] = df.Cliente_Inativo\n",
    "df_contrato['Situação do cliente'] = df_contrato['Situação do cliente'].map({0:'Ativo', 1:'Inativo'})\n",
    "\n",
    "# Plotagem do histograma\n",
    "fig = px.histogram(df_contrato, x=\"Duração do plano\", color = \"Situação do cliente\", nbins = 6,\n",
    "    title=\"Situação dos clientes em relação à duração do contrato\", barnorm='percent')\n",
    "fig.update_traces( opacity=0.8, marker_line_width=1.5, marker_line_color = 'rgb(0,0,0)')\n",
    "fig.update_layout(bargap=0.05)\n",
    "fig.show()"
   ]
  },
  {
   "cell_type": "markdown",
   "metadata": {},
   "source": [
    "### **4.3.2 - Primeiro ano de contrato**\n",
    "\n",
    "Plotando o histograma para o perfil dos clientes com menos de 1 ano de contrato, é possível observar que cerca de 62% dos clientes pedem cancelamento no primeiro mês de serviço. Isto pode indicar uma falha na instalação, cobrança ou atendimento que comprometam a satisfação do cliente ao aderir ao plano. A medida que o tempo de contrato vai aumentando, o percentual de clientes que vão pedindo o cancelamento vai diminuindo e se aproximando da média, que é de 25%."
   ]
  },
  {
   "cell_type": "code",
   "execution_count": 11,
   "metadata": {},
   "outputs": [
    {
     "data": {
      "application/vnd.plotly.v1+json": {
       "config": {
        "plotlyServerURL": "https://plot.ly"
       },
       "data": [
        {
         "alignmentgroup": "True",
         "bingroup": "x",
         "hovertemplate": "Situação do cliente=Ativo<br>Duração do plano=%{x}<br>count (normalized as percent)=%{y}<extra></extra>",
         "legendgroup": "Ativo",
         "marker": {
          "color": "#636efa",
          "line": {
           "color": "rgb(0,0,0)",
           "width": 1.5
          },
          "pattern": {
           "shape": ""
          }
         },
         "name": "Ativo",
         "nbinsx": 6,
         "offsetgroup": "Ativo",
         "opacity": 0.8,
         "orientation": "v",
         "showlegend": true,
         "type": "histogram",
         "x": [
          9,
          9,
          9,
          7,
          5,
          1,
          3,
          12,
          1,
          6,
          10,
          2,
          3,
          7,
          2,
          9,
          12,
          10,
          4,
          8,
          2,
          3,
          1,
          1,
          3,
          7,
          8,
          12,
          5,
          5,
          11,
          11,
          9,
          6,
          6,
          11,
          3,
          3,
          11,
          2,
          9,
          1,
          3,
          10,
          2,
          3,
          9,
          3,
          3,
          3,
          10,
          11,
          2,
          2,
          12,
          7,
          9,
          4,
          12,
          4,
          10,
          1,
          3,
          4,
          6,
          1,
          1,
          1,
          4,
          9,
          7,
          3,
          7,
          4,
          11,
          4,
          11,
          2,
          1,
          7,
          6,
          5,
          2,
          6,
          8,
          7,
          1,
          4,
          3,
          12,
          7,
          11,
          1,
          3,
          3,
          7,
          7,
          1,
          8,
          8,
          2,
          1,
          7,
          3,
          11,
          11,
          1,
          1,
          1,
          1,
          11,
          3,
          1,
          4,
          8,
          12,
          3,
          4,
          9,
          6,
          8,
          3,
          4,
          5,
          9,
          12,
          7,
          9,
          4,
          6,
          11,
          4,
          7,
          6,
          11,
          9,
          7,
          11,
          1,
          7,
          11,
          1,
          3,
          7,
          1,
          12,
          10,
          1,
          1,
          4,
          8,
          3,
          1,
          7,
          1,
          10,
          12,
          1,
          12,
          4,
          12,
          4,
          4,
          11,
          12,
          8,
          1,
          1,
          5,
          4,
          1,
          6,
          6,
          1,
          12,
          11,
          12,
          1,
          2,
          10,
          11,
          8,
          1,
          2,
          3,
          8,
          2,
          10,
          2,
          2,
          12,
          5,
          1,
          1,
          7,
          8,
          8,
          4,
          1,
          11,
          1,
          1,
          8,
          7,
          5,
          1,
          1,
          1,
          10,
          10,
          7,
          9,
          8,
          8,
          9,
          1,
          6,
          4,
          5,
          1,
          1,
          5,
          7,
          2,
          1,
          1,
          3,
          1,
          1,
          7,
          5,
          5,
          2,
          12,
          1,
          9,
          1,
          8,
          5,
          6,
          1,
          9,
          1,
          7,
          1,
          7,
          1,
          1,
          4,
          2,
          2,
          12,
          7,
          3,
          2,
          7,
          1,
          11,
          8,
          3,
          2,
          1,
          10,
          5,
          11,
          11,
          11,
          1,
          8,
          1,
          1,
          4,
          4,
          11,
          1,
          1,
          2,
          7,
          1,
          1,
          6,
          1,
          12,
          1,
          3,
          3,
          2,
          1,
          10,
          1,
          1,
          7,
          4,
          1,
          6,
          8,
          9,
          5,
          1,
          12,
          1,
          10,
          3,
          1,
          8,
          6,
          5,
          5,
          10,
          1,
          8,
          8,
          11,
          3,
          9,
          1,
          3,
          5,
          3,
          1,
          7,
          4,
          2,
          1,
          6,
          1,
          1,
          2,
          12,
          2,
          1,
          2,
          11,
          1,
          8,
          6,
          9,
          1,
          2,
          7,
          3,
          3,
          2,
          7,
          8,
          1,
          3,
          3,
          3,
          9,
          1,
          3,
          6,
          3,
          11,
          2,
          1,
          4,
          5,
          2,
          4,
          10,
          2,
          9,
          3,
          3,
          8,
          4,
          2,
          12,
          1,
          6,
          8,
          2,
          6,
          11,
          2,
          1,
          3,
          12,
          4,
          8,
          9,
          8,
          5,
          3,
          1,
          3,
          3,
          1,
          2,
          5,
          2,
          1,
          4,
          6,
          6,
          10,
          2,
          4,
          1,
          7,
          7,
          12,
          1,
          12,
          1,
          10,
          9,
          1,
          2,
          3,
          10,
          2,
          8,
          1,
          5,
          10,
          1,
          10,
          4,
          5,
          7,
          1,
          5,
          2,
          1,
          10,
          6,
          1,
          3,
          4,
          12,
          7,
          8,
          1,
          11,
          2,
          3,
          1,
          12,
          1,
          2,
          10,
          4,
          1,
          10,
          4,
          9,
          3,
          1,
          2,
          9,
          1,
          3,
          11,
          1,
          5,
          8,
          9,
          2,
          1,
          6,
          3,
          3,
          7,
          7,
          3,
          11,
          1,
          3,
          7,
          4,
          9,
          12,
          5,
          4,
          2,
          1,
          12,
          10,
          1,
          12,
          2,
          8,
          1,
          2,
          2,
          2,
          5,
          6,
          1,
          8,
          9,
          1,
          7,
          7,
          9,
          10,
          10,
          7,
          5,
          10,
          7,
          8,
          1,
          1,
          3,
          5,
          4,
          4,
          12,
          4,
          7,
          10,
          9,
          2,
          7,
          5,
          8,
          2,
          5,
          8,
          12,
          9,
          2,
          8,
          4,
          5,
          9,
          9,
          12,
          8,
          9,
          1,
          7,
          6,
          1,
          12,
          11,
          3,
          8,
          2,
          1,
          5,
          11,
          6,
          1,
          7,
          2,
          4,
          2,
          12,
          1,
          5,
          7,
          11,
          8,
          8,
          4,
          10,
          6,
          5,
          3,
          2,
          10,
          10,
          8,
          1,
          2,
          2,
          10,
          3,
          3,
          2,
          10,
          9,
          1,
          11,
          1,
          7,
          9,
          3,
          2,
          4,
          10,
          1,
          2,
          2,
          3,
          1,
          8,
          9,
          4,
          3,
          3,
          11,
          8,
          4,
          2,
          2,
          10,
          9,
          12,
          1,
          7,
          4,
          11,
          11,
          7,
          12,
          4,
          8,
          12,
          5,
          1,
          3,
          2,
          12,
          9,
          5,
          5,
          8,
          10,
          12,
          2,
          12,
          1,
          8,
          1,
          11,
          7,
          4,
          1,
          4,
          10,
          1,
          2,
          8,
          8,
          2,
          6,
          12,
          7,
          10,
          4,
          9,
          3,
          8,
          10,
          10,
          1,
          11,
          4,
          4,
          8,
          11,
          6,
          3,
          7,
          12,
          9,
          8,
          3,
          7,
          6,
          2,
          1,
          10,
          1,
          11,
          5,
          9,
          1,
          2,
          2,
          9,
          2,
          6,
          3,
          12,
          2,
          12,
          1,
          1,
          2,
          5,
          2,
          3,
          1,
          1,
          7,
          6,
          10,
          1,
          1,
          6,
          5,
          5,
          3,
          1,
          5,
          9,
          6,
          6,
          4,
          4,
          7,
          1,
          4,
          9,
          1,
          11,
          9,
          4,
          3,
          3,
          4,
          5,
          1,
          3,
          4,
          2,
          11,
          10,
          5,
          9,
          5,
          8,
          1,
          4,
          12,
          8,
          6,
          8,
          7,
          6,
          2,
          3,
          9,
          1,
          1,
          1,
          6,
          5,
          6,
          12,
          2,
          4,
          5,
          2,
          1,
          11,
          1,
          1,
          7,
          11,
          11,
          5,
          10,
          1,
          3,
          5,
          2,
          5,
          12,
          6,
          2,
          10,
          12,
          3,
          12,
          2,
          8,
          2,
          11,
          9,
          2,
          1,
          12,
          1,
          1,
          5,
          5,
          2,
          11,
          2,
          9,
          6,
          8,
          4,
          4,
          2,
          9,
          7,
          4,
          9,
          3,
          11,
          4,
          12,
          8,
          10,
          1,
          9,
          5,
          8,
          10,
          12,
          3,
          12,
          6,
          11,
          4,
          4,
          1,
          3,
          1,
          1,
          11,
          5,
          12,
          1,
          1,
          1,
          1,
          5,
          1,
          8,
          7,
          2,
          6,
          8,
          4,
          3,
          7,
          6,
          7,
          9,
          4,
          9,
          1,
          2,
          2,
          2,
          4,
          3,
          3,
          10,
          8,
          9,
          6,
          1,
          1,
          11,
          1,
          7,
          2,
          12,
          5,
          3,
          3,
          12,
          1,
          6,
          10,
          1,
          1,
          12,
          1,
          1,
          6,
          7,
          8,
          12,
          2,
          11,
          10,
          12,
          8,
          1,
          11,
          1,
          9,
          2,
          6,
          12,
          1,
          6,
          3,
          10,
          12,
          3,
          6,
          1,
          8,
          3,
          1,
          6,
          3,
          4,
          1,
          12,
          4,
          4,
          1,
          4,
          7,
          5,
          10,
          1,
          11,
          11,
          3,
          10,
          8,
          6,
          4,
          8,
          10,
          2,
          6,
          1,
          12,
          1,
          10,
          1,
          9,
          10,
          11,
          9,
          10,
          12,
          11,
          10,
          9,
          4,
          6,
          6,
          8,
          2,
          11,
          7,
          7,
          3,
          1,
          4,
          1,
          12,
          5,
          5,
          12,
          10,
          7,
          5,
          5,
          7,
          1,
          4,
          1,
          9,
          12,
          1,
          7,
          1,
          4,
          9,
          7,
          7,
          12,
          9,
          1,
          8,
          4,
          1,
          4,
          4,
          10,
          1,
          8,
          8,
          3,
          1,
          1,
          1,
          8,
          1,
          2,
          12,
          3,
          1,
          6,
          9,
          2,
          3,
          4,
          1,
          1,
          1,
          1,
          2,
          4,
          1,
          10,
          10,
          9,
          2,
          5,
          4,
          1,
          5,
          1,
          1,
          9,
          12,
          8,
          12,
          2,
          10,
          6,
          1,
          7,
          1,
          2,
          3,
          12,
          1,
          3,
          1,
          11,
          1,
          9,
          1,
          7,
          9,
          7,
          8,
          3,
          2,
          12,
          11,
          2,
          1,
          1,
          10,
          1,
          2,
          6,
          6,
          12,
          1,
          1,
          11,
          3,
          10,
          3,
          5,
          11,
          8,
          6,
          7,
          4,
          4,
          4,
          12,
          1,
          6,
          5,
          3,
          8,
          9,
          2,
          1,
          11,
          9,
          8,
          10,
          11,
          8,
          3,
          10,
          10,
          1,
          9,
          8,
          3,
          6,
          2,
          1,
          1,
          1,
          4,
          6,
          4,
          1,
          3,
          3,
          2,
          3,
          9,
          6,
          2,
          5,
          10,
          2,
          5,
          1,
          4,
          2,
          6,
          3,
          1,
          1,
          5,
          3,
          10,
          6,
          7,
          7,
          8,
          2,
          12,
          2,
          1,
          12,
          1,
          4,
          11,
          1,
          12,
          4,
          11,
          6,
          1,
          6,
          1,
          7,
          2
         ],
         "xaxis": "x",
         "yaxis": "y"
        },
        {
         "alignmentgroup": "True",
         "bingroup": "x",
         "hovertemplate": "Situação do cliente=Inativo<br>Duração do plano=%{x}<br>count (normalized as percent)=%{y}<extra></extra>",
         "legendgroup": "Inativo",
         "marker": {
          "color": "#EF553B",
          "line": {
           "color": "rgb(0,0,0)",
           "width": 1.5
          },
          "pattern": {
           "shape": ""
          }
         },
         "name": "Inativo",
         "nbinsx": 6,
         "offsetgroup": "Inativo",
         "opacity": 0.8,
         "orientation": "v",
         "showlegend": true,
         "type": "histogram",
         "x": [
          4,
          3,
          1,
          4,
          1,
          2,
          11,
          1,
          1,
          7,
          2,
          12,
          1,
          3,
          1,
          10,
          6,
          4,
          2,
          5,
          1,
          1,
          2,
          9,
          3,
          5,
          1,
          8,
          5,
          1,
          2,
          1,
          8,
          1,
          3,
          5,
          3,
          6,
          1,
          3,
          2,
          1,
          3,
          1,
          8,
          1,
          1,
          1,
          5,
          5,
          1,
          1,
          5,
          1,
          9,
          5,
          8,
          1,
          1,
          10,
          2,
          7,
          1,
          1,
          1,
          2,
          4,
          4,
          9,
          12,
          4,
          1,
          9,
          4,
          1,
          2,
          2,
          1,
          3,
          9,
          9,
          3,
          1,
          2,
          9,
          1,
          5,
          9,
          10,
          5,
          4,
          2,
          1,
          11,
          3,
          3,
          7,
          10,
          7,
          1,
          1,
          1,
          7,
          5,
          1,
          11,
          1,
          1,
          12,
          1,
          1,
          1,
          1,
          1,
          3,
          1,
          2,
          2,
          1,
          10,
          7,
          7,
          6,
          12,
          2,
          1,
          2,
          4,
          9,
          12,
          4,
          1,
          2,
          3,
          1,
          10,
          1,
          1,
          11,
          4,
          7,
          3,
          3,
          1,
          11,
          1,
          1,
          3,
          10,
          1,
          10,
          10,
          1,
          1,
          2,
          12,
          9,
          7,
          1,
          4,
          8,
          5,
          12,
          7,
          1,
          12,
          3,
          2,
          4,
          1,
          2,
          5,
          10,
          1,
          3,
          12,
          9,
          5,
          1,
          4,
          1,
          9,
          1,
          1,
          1,
          5,
          1,
          1,
          1,
          1,
          11,
          12,
          2,
          10,
          1,
          7,
          1,
          1,
          1,
          1,
          1,
          3,
          2,
          1,
          1,
          11,
          1,
          1,
          7,
          12,
          2,
          3,
          5,
          7,
          2,
          6,
          1,
          5,
          3,
          4,
          1,
          4,
          12,
          7,
          1,
          7,
          1,
          7,
          8,
          1,
          4,
          2,
          4,
          3,
          10,
          1,
          9,
          5,
          2,
          6,
          1,
          4,
          8,
          10,
          6,
          1,
          12,
          5,
          6,
          10,
          2,
          4,
          6,
          1,
          1,
          2,
          1,
          4,
          7,
          3,
          6,
          4,
          1,
          12,
          4,
          1,
          4,
          1,
          4,
          9,
          7,
          4,
          10,
          8,
          1,
          6,
          9,
          11,
          4,
          2,
          1,
          1,
          2,
          2,
          10,
          9,
          2,
          1,
          5,
          1,
          2,
          2,
          1,
          4,
          1,
          1,
          2,
          1,
          4,
          8,
          2,
          1,
          4,
          5,
          1,
          12,
          4,
          2,
          10,
          1,
          11,
          2,
          4,
          6,
          2,
          12,
          1,
          9,
          10,
          1,
          3,
          1,
          1,
          1,
          7,
          5,
          1,
          1,
          12,
          2,
          2,
          8,
          6,
          6,
          1,
          2,
          5,
          1,
          1,
          1,
          1,
          3,
          8,
          8,
          3,
          1,
          10,
          4,
          1,
          1,
          5,
          6,
          3,
          1,
          4,
          5,
          8,
          12,
          2,
          1,
          1,
          6,
          8,
          1,
          1,
          3,
          3,
          1,
          10,
          1,
          8,
          9,
          1,
          7,
          3,
          1,
          2,
          5,
          1,
          4,
          2,
          6,
          2,
          1,
          1,
          2,
          1,
          6,
          11,
          1,
          2,
          1,
          2,
          1,
          1,
          1,
          7,
          1,
          1,
          4,
          7,
          3,
          7,
          4,
          12,
          2,
          1,
          7,
          1,
          1,
          1,
          12,
          6,
          1,
          4,
          12,
          1,
          1,
          6,
          8,
          7,
          2,
          1,
          11,
          8,
          9,
          3,
          1,
          1,
          10,
          9,
          3,
          5,
          5,
          8,
          8,
          3,
          10,
          5,
          1,
          2,
          1,
          2,
          4,
          1,
          4,
          6,
          5,
          1,
          6,
          1,
          1,
          8,
          9,
          7,
          3,
          12,
          1,
          7,
          2,
          1,
          1,
          1,
          6,
          3,
          3,
          1,
          2,
          3,
          2,
          5,
          2,
          3,
          1,
          11,
          6,
          1,
          2,
          2,
          7,
          10,
          5,
          1,
          11,
          10,
          3,
          4,
          3,
          6,
          1,
          3,
          1,
          1,
          8,
          7,
          2,
          6,
          2,
          1,
          2,
          1,
          2,
          1,
          11,
          2,
          1,
          1,
          1,
          4,
          1,
          1,
          4,
          9,
          1,
          5,
          1,
          1,
          1,
          4,
          2,
          10,
          8,
          1,
          1,
          1,
          1,
          1,
          1,
          1,
          11,
          1,
          5,
          11,
          9,
          1,
          3,
          5,
          3,
          1,
          11,
          4,
          4,
          7,
          2,
          1,
          10,
          7,
          6,
          2,
          1,
          1,
          1,
          3,
          1,
          1,
          3,
          1,
          11,
          1,
          10,
          10,
          1,
          9,
          2,
          4,
          1,
          9,
          4,
          1,
          1,
          1,
          1,
          2,
          8,
          8,
          1,
          4,
          1,
          2,
          2,
          11,
          4,
          10,
          3,
          2,
          2,
          1,
          9,
          1,
          1,
          5,
          8,
          1,
          4,
          1,
          3,
          11,
          7,
          3,
          4,
          2,
          2,
          2,
          1,
          1,
          1,
          12,
          12,
          1,
          1,
          1,
          2,
          1,
          3,
          9,
          3,
          1,
          1,
          1,
          2,
          2,
          12,
          4,
          5,
          1,
          2,
          5,
          4,
          1,
          1,
          9,
          9,
          2,
          4,
          10,
          3,
          1,
          1,
          2,
          2,
          1,
          3,
          5,
          1,
          6,
          1,
          6,
          1,
          3,
          1,
          1,
          10,
          7,
          1,
          4,
          8,
          5,
          1,
          10,
          12,
          9,
          5,
          3,
          1,
          5,
          5,
          1,
          6,
          4,
          3,
          1,
          1,
          1,
          1,
          1,
          9,
          3,
          2,
          3,
          12,
          3,
          9,
          2,
          1,
          5,
          2,
          3,
          1,
          8,
          11,
          11,
          10,
          3,
          10,
          1,
          1,
          1,
          1,
          4,
          10,
          1,
          6,
          9,
          1,
          3,
          5,
          7,
          1,
          1,
          2,
          3,
          7,
          1,
          1,
          1,
          9,
          1,
          1,
          2,
          1,
          1,
          1,
          1,
          5,
          1,
          3,
          11,
          1,
          5,
          1,
          7,
          5,
          1,
          1,
          3,
          1,
          1,
          11,
          7,
          1,
          1,
          4,
          1,
          1,
          1,
          4,
          5,
          3,
          1,
          1,
          8,
          1,
          1,
          2,
          1,
          6,
          2,
          1,
          1,
          3,
          8,
          1,
          8,
          1,
          1,
          1,
          2,
          1,
          10,
          1,
          2,
          4,
          8,
          2,
          1,
          9,
          1,
          10,
          1,
          1,
          3,
          1,
          1,
          4,
          2,
          11,
          5,
          4,
          1,
          2,
          3,
          3,
          9,
          1,
          7,
          1,
          12,
          7,
          4,
          1,
          8,
          1,
          9,
          12,
          2,
          5,
          6,
          1,
          5,
          1,
          2,
          3,
          2,
          2,
          3,
          6,
          1,
          1,
          1,
          2,
          12,
          12,
          2,
          1,
          11,
          7,
          1,
          1,
          1,
          3,
          5,
          1,
          8,
          2,
          1,
          10,
          12,
          4,
          5,
          2,
          1,
          1,
          2,
          8,
          1,
          2,
          1,
          2,
          1,
          2,
          3,
          1,
          1,
          1,
          7,
          1,
          3,
          9,
          3,
          1,
          8,
          1,
          1,
          1,
          6,
          1,
          9,
          1,
          10,
          1,
          1,
          4,
          2,
          4,
          4,
          7,
          1,
          11,
          12,
          2,
          6,
          10,
          4,
          3,
          1,
          2,
          1,
          1,
          1,
          10,
          2,
          7,
          4,
          3,
          1,
          1,
          1,
          8,
          2,
          5,
          6,
          2,
          10,
          4,
          2,
          1,
          5,
          5,
          7,
          1,
          3,
          5,
          1,
          12,
          4,
          2,
          1,
          4,
          1,
          3,
          7,
          5,
          1,
          5,
          4,
          9,
          1,
          1,
          6,
          11,
          12,
          3,
          8,
          1,
          1,
          3,
          2,
          8,
          10,
          3,
          7,
          12,
          9,
          1,
          2,
          1,
          7,
          4,
          1,
          3,
          11,
          1,
          6,
          9,
          5,
          12,
          3,
          3,
          1,
          5,
          1,
          1,
          7,
          1,
          10,
          1,
          7,
          7,
          1,
          1,
          4,
          2,
          6,
          1,
          5,
          3,
          4,
          1,
          1,
          1,
          8,
          3,
          2,
          1,
          8,
          12,
          1,
          4,
          4,
          1,
          1,
          7,
          4,
          1,
          1,
          1,
          1,
          1,
          11,
          8,
          2,
          1,
          4,
          3,
          3,
          1,
          1,
          5,
          2,
          1,
          1,
          1,
          2,
          9,
          1,
          4,
          1,
          1,
          11,
          1,
          3,
          6,
          9,
          3,
          10,
          2,
          1,
          8,
          1,
          3,
          1,
          9,
          1,
          3,
          9,
          1,
          4
         ],
         "xaxis": "x",
         "yaxis": "y"
        }
       ],
       "layout": {
        "bargap": 0.05,
        "barmode": "relative",
        "barnorm": "percent",
        "legend": {
         "title": {
          "text": "Situação do cliente"
         },
         "tracegroupgap": 0
        },
        "template": {
         "data": {
          "bar": [
           {
            "error_x": {
             "color": "#2a3f5f"
            },
            "error_y": {
             "color": "#2a3f5f"
            },
            "marker": {
             "line": {
              "color": "#E5ECF6",
              "width": 0.5
             },
             "pattern": {
              "fillmode": "overlay",
              "size": 10,
              "solidity": 0.2
             }
            },
            "type": "bar"
           }
          ],
          "barpolar": [
           {
            "marker": {
             "line": {
              "color": "#E5ECF6",
              "width": 0.5
             },
             "pattern": {
              "fillmode": "overlay",
              "size": 10,
              "solidity": 0.2
             }
            },
            "type": "barpolar"
           }
          ],
          "carpet": [
           {
            "aaxis": {
             "endlinecolor": "#2a3f5f",
             "gridcolor": "white",
             "linecolor": "white",
             "minorgridcolor": "white",
             "startlinecolor": "#2a3f5f"
            },
            "baxis": {
             "endlinecolor": "#2a3f5f",
             "gridcolor": "white",
             "linecolor": "white",
             "minorgridcolor": "white",
             "startlinecolor": "#2a3f5f"
            },
            "type": "carpet"
           }
          ],
          "choropleth": [
           {
            "colorbar": {
             "outlinewidth": 0,
             "ticks": ""
            },
            "type": "choropleth"
           }
          ],
          "contour": [
           {
            "colorbar": {
             "outlinewidth": 0,
             "ticks": ""
            },
            "colorscale": [
             [
              0,
              "#0d0887"
             ],
             [
              0.1111111111111111,
              "#46039f"
             ],
             [
              0.2222222222222222,
              "#7201a8"
             ],
             [
              0.3333333333333333,
              "#9c179e"
             ],
             [
              0.4444444444444444,
              "#bd3786"
             ],
             [
              0.5555555555555556,
              "#d8576b"
             ],
             [
              0.6666666666666666,
              "#ed7953"
             ],
             [
              0.7777777777777778,
              "#fb9f3a"
             ],
             [
              0.8888888888888888,
              "#fdca26"
             ],
             [
              1,
              "#f0f921"
             ]
            ],
            "type": "contour"
           }
          ],
          "contourcarpet": [
           {
            "colorbar": {
             "outlinewidth": 0,
             "ticks": ""
            },
            "type": "contourcarpet"
           }
          ],
          "heatmap": [
           {
            "colorbar": {
             "outlinewidth": 0,
             "ticks": ""
            },
            "colorscale": [
             [
              0,
              "#0d0887"
             ],
             [
              0.1111111111111111,
              "#46039f"
             ],
             [
              0.2222222222222222,
              "#7201a8"
             ],
             [
              0.3333333333333333,
              "#9c179e"
             ],
             [
              0.4444444444444444,
              "#bd3786"
             ],
             [
              0.5555555555555556,
              "#d8576b"
             ],
             [
              0.6666666666666666,
              "#ed7953"
             ],
             [
              0.7777777777777778,
              "#fb9f3a"
             ],
             [
              0.8888888888888888,
              "#fdca26"
             ],
             [
              1,
              "#f0f921"
             ]
            ],
            "type": "heatmap"
           }
          ],
          "heatmapgl": [
           {
            "colorbar": {
             "outlinewidth": 0,
             "ticks": ""
            },
            "colorscale": [
             [
              0,
              "#0d0887"
             ],
             [
              0.1111111111111111,
              "#46039f"
             ],
             [
              0.2222222222222222,
              "#7201a8"
             ],
             [
              0.3333333333333333,
              "#9c179e"
             ],
             [
              0.4444444444444444,
              "#bd3786"
             ],
             [
              0.5555555555555556,
              "#d8576b"
             ],
             [
              0.6666666666666666,
              "#ed7953"
             ],
             [
              0.7777777777777778,
              "#fb9f3a"
             ],
             [
              0.8888888888888888,
              "#fdca26"
             ],
             [
              1,
              "#f0f921"
             ]
            ],
            "type": "heatmapgl"
           }
          ],
          "histogram": [
           {
            "marker": {
             "pattern": {
              "fillmode": "overlay",
              "size": 10,
              "solidity": 0.2
             }
            },
            "type": "histogram"
           }
          ],
          "histogram2d": [
           {
            "colorbar": {
             "outlinewidth": 0,
             "ticks": ""
            },
            "colorscale": [
             [
              0,
              "#0d0887"
             ],
             [
              0.1111111111111111,
              "#46039f"
             ],
             [
              0.2222222222222222,
              "#7201a8"
             ],
             [
              0.3333333333333333,
              "#9c179e"
             ],
             [
              0.4444444444444444,
              "#bd3786"
             ],
             [
              0.5555555555555556,
              "#d8576b"
             ],
             [
              0.6666666666666666,
              "#ed7953"
             ],
             [
              0.7777777777777778,
              "#fb9f3a"
             ],
             [
              0.8888888888888888,
              "#fdca26"
             ],
             [
              1,
              "#f0f921"
             ]
            ],
            "type": "histogram2d"
           }
          ],
          "histogram2dcontour": [
           {
            "colorbar": {
             "outlinewidth": 0,
             "ticks": ""
            },
            "colorscale": [
             [
              0,
              "#0d0887"
             ],
             [
              0.1111111111111111,
              "#46039f"
             ],
             [
              0.2222222222222222,
              "#7201a8"
             ],
             [
              0.3333333333333333,
              "#9c179e"
             ],
             [
              0.4444444444444444,
              "#bd3786"
             ],
             [
              0.5555555555555556,
              "#d8576b"
             ],
             [
              0.6666666666666666,
              "#ed7953"
             ],
             [
              0.7777777777777778,
              "#fb9f3a"
             ],
             [
              0.8888888888888888,
              "#fdca26"
             ],
             [
              1,
              "#f0f921"
             ]
            ],
            "type": "histogram2dcontour"
           }
          ],
          "mesh3d": [
           {
            "colorbar": {
             "outlinewidth": 0,
             "ticks": ""
            },
            "type": "mesh3d"
           }
          ],
          "parcoords": [
           {
            "line": {
             "colorbar": {
              "outlinewidth": 0,
              "ticks": ""
             }
            },
            "type": "parcoords"
           }
          ],
          "pie": [
           {
            "automargin": true,
            "type": "pie"
           }
          ],
          "scatter": [
           {
            "marker": {
             "colorbar": {
              "outlinewidth": 0,
              "ticks": ""
             }
            },
            "type": "scatter"
           }
          ],
          "scatter3d": [
           {
            "line": {
             "colorbar": {
              "outlinewidth": 0,
              "ticks": ""
             }
            },
            "marker": {
             "colorbar": {
              "outlinewidth": 0,
              "ticks": ""
             }
            },
            "type": "scatter3d"
           }
          ],
          "scattercarpet": [
           {
            "marker": {
             "colorbar": {
              "outlinewidth": 0,
              "ticks": ""
             }
            },
            "type": "scattercarpet"
           }
          ],
          "scattergeo": [
           {
            "marker": {
             "colorbar": {
              "outlinewidth": 0,
              "ticks": ""
             }
            },
            "type": "scattergeo"
           }
          ],
          "scattergl": [
           {
            "marker": {
             "colorbar": {
              "outlinewidth": 0,
              "ticks": ""
             }
            },
            "type": "scattergl"
           }
          ],
          "scattermapbox": [
           {
            "marker": {
             "colorbar": {
              "outlinewidth": 0,
              "ticks": ""
             }
            },
            "type": "scattermapbox"
           }
          ],
          "scatterpolar": [
           {
            "marker": {
             "colorbar": {
              "outlinewidth": 0,
              "ticks": ""
             }
            },
            "type": "scatterpolar"
           }
          ],
          "scatterpolargl": [
           {
            "marker": {
             "colorbar": {
              "outlinewidth": 0,
              "ticks": ""
             }
            },
            "type": "scatterpolargl"
           }
          ],
          "scatterternary": [
           {
            "marker": {
             "colorbar": {
              "outlinewidth": 0,
              "ticks": ""
             }
            },
            "type": "scatterternary"
           }
          ],
          "surface": [
           {
            "colorbar": {
             "outlinewidth": 0,
             "ticks": ""
            },
            "colorscale": [
             [
              0,
              "#0d0887"
             ],
             [
              0.1111111111111111,
              "#46039f"
             ],
             [
              0.2222222222222222,
              "#7201a8"
             ],
             [
              0.3333333333333333,
              "#9c179e"
             ],
             [
              0.4444444444444444,
              "#bd3786"
             ],
             [
              0.5555555555555556,
              "#d8576b"
             ],
             [
              0.6666666666666666,
              "#ed7953"
             ],
             [
              0.7777777777777778,
              "#fb9f3a"
             ],
             [
              0.8888888888888888,
              "#fdca26"
             ],
             [
              1,
              "#f0f921"
             ]
            ],
            "type": "surface"
           }
          ],
          "table": [
           {
            "cells": {
             "fill": {
              "color": "#EBF0F8"
             },
             "line": {
              "color": "white"
             }
            },
            "header": {
             "fill": {
              "color": "#C8D4E3"
             },
             "line": {
              "color": "white"
             }
            },
            "type": "table"
           }
          ]
         },
         "layout": {
          "annotationdefaults": {
           "arrowcolor": "#2a3f5f",
           "arrowhead": 0,
           "arrowwidth": 1
          },
          "autotypenumbers": "strict",
          "coloraxis": {
           "colorbar": {
            "outlinewidth": 0,
            "ticks": ""
           }
          },
          "colorscale": {
           "diverging": [
            [
             0,
             "#8e0152"
            ],
            [
             0.1,
             "#c51b7d"
            ],
            [
             0.2,
             "#de77ae"
            ],
            [
             0.3,
             "#f1b6da"
            ],
            [
             0.4,
             "#fde0ef"
            ],
            [
             0.5,
             "#f7f7f7"
            ],
            [
             0.6,
             "#e6f5d0"
            ],
            [
             0.7,
             "#b8e186"
            ],
            [
             0.8,
             "#7fbc41"
            ],
            [
             0.9,
             "#4d9221"
            ],
            [
             1,
             "#276419"
            ]
           ],
           "sequential": [
            [
             0,
             "#0d0887"
            ],
            [
             0.1111111111111111,
             "#46039f"
            ],
            [
             0.2222222222222222,
             "#7201a8"
            ],
            [
             0.3333333333333333,
             "#9c179e"
            ],
            [
             0.4444444444444444,
             "#bd3786"
            ],
            [
             0.5555555555555556,
             "#d8576b"
            ],
            [
             0.6666666666666666,
             "#ed7953"
            ],
            [
             0.7777777777777778,
             "#fb9f3a"
            ],
            [
             0.8888888888888888,
             "#fdca26"
            ],
            [
             1,
             "#f0f921"
            ]
           ],
           "sequentialminus": [
            [
             0,
             "#0d0887"
            ],
            [
             0.1111111111111111,
             "#46039f"
            ],
            [
             0.2222222222222222,
             "#7201a8"
            ],
            [
             0.3333333333333333,
             "#9c179e"
            ],
            [
             0.4444444444444444,
             "#bd3786"
            ],
            [
             0.5555555555555556,
             "#d8576b"
            ],
            [
             0.6666666666666666,
             "#ed7953"
            ],
            [
             0.7777777777777778,
             "#fb9f3a"
            ],
            [
             0.8888888888888888,
             "#fdca26"
            ],
            [
             1,
             "#f0f921"
            ]
           ]
          },
          "colorway": [
           "#636efa",
           "#EF553B",
           "#00cc96",
           "#ab63fa",
           "#FFA15A",
           "#19d3f3",
           "#FF6692",
           "#B6E880",
           "#FF97FF",
           "#FECB52"
          ],
          "font": {
           "color": "#2a3f5f"
          },
          "geo": {
           "bgcolor": "white",
           "lakecolor": "white",
           "landcolor": "#E5ECF6",
           "showlakes": true,
           "showland": true,
           "subunitcolor": "white"
          },
          "hoverlabel": {
           "align": "left"
          },
          "hovermode": "closest",
          "mapbox": {
           "style": "light"
          },
          "paper_bgcolor": "white",
          "plot_bgcolor": "#E5ECF6",
          "polar": {
           "angularaxis": {
            "gridcolor": "white",
            "linecolor": "white",
            "ticks": ""
           },
           "bgcolor": "#E5ECF6",
           "radialaxis": {
            "gridcolor": "white",
            "linecolor": "white",
            "ticks": ""
           }
          },
          "scene": {
           "xaxis": {
            "backgroundcolor": "#E5ECF6",
            "gridcolor": "white",
            "gridwidth": 2,
            "linecolor": "white",
            "showbackground": true,
            "ticks": "",
            "zerolinecolor": "white"
           },
           "yaxis": {
            "backgroundcolor": "#E5ECF6",
            "gridcolor": "white",
            "gridwidth": 2,
            "linecolor": "white",
            "showbackground": true,
            "ticks": "",
            "zerolinecolor": "white"
           },
           "zaxis": {
            "backgroundcolor": "#E5ECF6",
            "gridcolor": "white",
            "gridwidth": 2,
            "linecolor": "white",
            "showbackground": true,
            "ticks": "",
            "zerolinecolor": "white"
           }
          },
          "shapedefaults": {
           "line": {
            "color": "#2a3f5f"
           }
          },
          "ternary": {
           "aaxis": {
            "gridcolor": "white",
            "linecolor": "white",
            "ticks": ""
           },
           "baxis": {
            "gridcolor": "white",
            "linecolor": "white",
            "ticks": ""
           },
           "bgcolor": "#E5ECF6",
           "caxis": {
            "gridcolor": "white",
            "linecolor": "white",
            "ticks": ""
           }
          },
          "title": {
           "x": 0.05
          },
          "xaxis": {
           "automargin": true,
           "gridcolor": "white",
           "linecolor": "white",
           "ticks": "",
           "title": {
            "standoff": 15
           },
           "zerolinecolor": "white",
           "zerolinewidth": 2
          },
          "yaxis": {
           "automargin": true,
           "gridcolor": "white",
           "linecolor": "white",
           "ticks": "",
           "title": {
            "standoff": 15
           },
           "zerolinecolor": "white",
           "zerolinewidth": 2
          }
         }
        },
        "title": {
         "text": "Situação dos clientes em relação à duração do contrato"
        },
        "xaxis": {
         "anchor": "y",
         "domain": [
          0,
          1
         ],
         "title": {
          "text": "Duração do plano"
         }
        },
        "yaxis": {
         "anchor": "x",
         "domain": [
          0,
          1
         ],
         "title": {
          "text": "count (normalized as percent)"
         }
        }
       }
      }
     },
     "metadata": {},
     "output_type": "display_data"
    }
   ],
   "source": [
    "# Avaliando somente os clientes com 1 e 2 anos de contrato\n",
    "clientes_1y = df.query('Meses_Contrato <= 12')\n",
    "clientes_1y = clientes_1y[['Cliente_Inativo','Meses_Contrato','Valor_Mensal','Valor_Anual']]\n",
    "clientes_1y.columns = ['Situação do cliente','Duração do plano', 'Valor mensal do plano','Valor anual do plano']\n",
    "clientes_1y['Situação do cliente'] = clientes_1y['Situação do cliente'].map({0:'Ativo', 1:'Inativo'})\n",
    "\n",
    "# Plotando\n",
    "fig = px.histogram(clientes_1y, x=\"Duração do plano\", color = \"Situação do cliente\", nbins = 6,\n",
    "    title=\"Situação dos clientes em relação à duração do contrato\", barnorm='percent')\n",
    "fig.update_traces( opacity=0.8, marker_line_width=1.5, marker_line_color = 'rgb(0,0,0)')\n",
    "fig.update_layout(bargap=0.05)\n",
    "fig.show()"
   ]
  },
  {
   "cell_type": "markdown",
   "metadata": {},
   "source": [
    "### **4.3.3 - Segundo ano de contrato**\n",
    "\n",
    "Para o clientes com o tempo de contrato entre 1 e 2 anos, observa-se que, no geral, o índice de cancelamento é alto exibindo valores acima de 65%. Em especial, este índice se aproxima de 75% com o tempo de contrato perto de 2 anos. "
   ]
  },
  {
   "cell_type": "code",
   "execution_count": 12,
   "metadata": {},
   "outputs": [
    {
     "data": {
      "application/vnd.plotly.v1+json": {
       "config": {
        "plotlyServerURL": "https://plot.ly"
       },
       "data": [
        {
         "alignmentgroup": "True",
         "bingroup": "x",
         "hovertemplate": "Situação do cliente=Inativo<br>Duração do plano=%{x}<br>count (normalized as percent)=%{y}<extra></extra>",
         "legendgroup": "Inativo",
         "marker": {
          "color": "#636efa",
          "line": {
           "color": "rgb(0,0,0)",
           "width": 1.5
          },
          "pattern": {
           "shape": ""
          }
         },
         "name": "Inativo",
         "nbinsx": 8,
         "offsetgroup": "Inativo",
         "opacity": 0.8,
         "orientation": "v",
         "showlegend": true,
         "type": "histogram",
         "x": [
          13,
          13,
          21,
          15,
          22,
          15,
          15,
          23,
          23,
          17,
          23,
          18,
          15,
          22,
          14,
          20,
          21,
          22,
          23,
          13,
          16,
          21,
          15,
          13,
          24,
          16,
          20,
          13,
          20,
          13,
          18,
          16,
          17,
          15,
          14,
          16,
          13,
          23,
          14,
          16,
          21,
          15,
          21,
          13,
          17,
          20,
          18,
          14,
          17,
          20,
          22,
          22,
          13,
          14,
          16,
          18,
          13,
          24,
          21,
          14,
          22,
          15,
          13,
          22,
          15,
          15,
          20,
          14,
          16,
          16,
          24,
          13,
          24,
          22,
          17,
          15,
          17,
          15,
          24,
          16,
          13,
          24,
          14,
          17,
          20,
          21,
          17,
          24,
          17,
          13,
          17,
          18,
          19,
          15,
          18,
          16,
          13,
          21,
          15,
          16,
          15,
          22,
          15,
          13,
          14,
          22,
          15,
          14,
          21,
          15,
          16,
          13,
          23,
          17,
          23,
          24,
          19,
          19,
          21,
          22,
          13,
          17,
          19,
          19,
          14,
          16,
          23,
          21,
          13,
          16,
          16,
          16,
          17,
          22,
          24,
          15,
          13,
          16,
          21,
          19,
          17,
          18,
          22,
          23,
          20,
          13,
          24,
          15,
          18,
          22,
          19,
          13,
          13,
          20,
          19,
          24,
          21,
          16,
          22,
          15,
          22,
          20,
          20,
          20,
          15,
          19,
          19,
          13,
          13,
          15,
          18,
          19,
          19,
          18,
          20,
          24,
          16,
          17,
          16,
          22,
          15,
          18,
          22,
          22,
          20,
          20,
          24,
          17,
          16,
          14,
          20,
          14,
          13,
          23,
          13,
          19,
          18,
          24,
          15,
          20,
          20,
          17,
          24,
          15,
          13,
          18,
          22,
          17,
          18,
          15,
          13,
          16,
          14,
          19,
          24,
          16,
          24,
          22,
          14,
          23,
          15,
          18,
          17,
          19,
          18,
          22,
          15,
          21,
          24,
          14,
          15,
          23,
          15,
          16,
          13,
          23,
          24,
          22,
          16,
          14,
          19,
          14,
          21,
          22,
          19,
          13,
          15,
          14,
          21,
          24,
          15,
          24,
          16,
          22,
          13,
          17,
          18,
          13,
          18,
          18,
          13,
          17,
          15,
          17,
          14,
          24,
          19,
          13,
          14,
          17,
          13,
          13,
          24,
          18,
          15,
          14,
          15,
          18,
          18,
          18,
          16,
          16,
          13,
          17,
          14,
          18,
          22,
          17,
          19,
          17,
          14,
          15,
          21,
          22
         ],
         "xaxis": "x",
         "yaxis": "y"
        },
        {
         "alignmentgroup": "True",
         "bingroup": "x",
         "hovertemplate": "Situação do cliente=Ativo<br>Duração do plano=%{x}<br>count (normalized as percent)=%{y}<extra></extra>",
         "legendgroup": "Ativo",
         "marker": {
          "color": "#EF553B",
          "line": {
           "color": "rgb(0,0,0)",
           "width": 1.5
          },
          "pattern": {
           "shape": ""
          }
         },
         "name": "Ativo",
         "nbinsx": 8,
         "offsetgroup": "Ativo",
         "opacity": 0.8,
         "orientation": "v",
         "showlegend": true,
         "type": "histogram",
         "x": [
          23,
          20,
          14,
          16,
          16,
          24,
          19,
          22,
          19,
          16,
          23,
          19,
          16,
          15,
          23,
          17,
          18,
          22,
          20,
          23,
          15,
          22,
          15,
          18,
          24,
          13,
          19,
          23,
          21,
          24,
          24,
          20,
          24,
          13,
          18,
          20,
          16,
          24,
          13,
          20,
          13,
          18,
          22,
          21,
          21,
          23,
          13,
          13,
          16,
          16,
          15,
          24,
          13,
          17,
          15,
          20,
          24,
          16,
          15,
          13,
          18,
          17,
          23,
          14,
          22,
          13,
          13,
          13,
          19,
          19,
          20,
          17,
          18,
          24,
          18,
          17,
          15,
          24,
          18,
          17,
          16,
          19,
          19,
          23,
          20,
          20,
          16,
          21,
          18,
          14,
          23,
          15,
          20,
          24,
          18,
          18,
          18,
          14,
          13,
          22,
          23,
          15,
          16,
          20,
          24,
          23,
          18,
          22,
          13,
          22,
          24,
          17,
          19,
          19,
          19,
          14,
          19,
          23,
          23,
          19,
          16,
          17,
          22,
          18,
          18,
          13,
          15,
          24,
          20,
          13,
          22,
          22,
          21,
          24,
          16,
          21,
          22,
          20,
          23,
          18,
          18,
          18,
          23,
          17,
          17,
          22,
          16,
          18,
          14,
          19,
          20,
          22,
          18,
          24,
          21,
          24,
          17,
          20,
          14,
          15,
          23,
          20,
          23,
          18,
          23,
          24,
          17,
          18,
          22,
          18,
          20,
          23,
          23,
          15,
          15,
          22,
          13,
          14,
          20,
          22,
          15,
          17,
          22,
          24,
          21,
          13,
          24,
          23,
          23,
          18,
          19,
          15,
          24,
          13,
          18,
          18,
          19,
          13,
          18,
          23,
          24,
          13,
          22,
          23,
          19,
          21,
          19,
          13,
          14,
          14,
          23,
          13,
          14,
          23,
          18,
          18,
          19,
          22,
          19,
          14,
          17,
          23,
          21,
          16,
          14,
          19,
          20,
          24,
          16,
          18,
          17,
          23,
          17,
          14,
          20,
          14,
          23,
          16,
          17,
          13,
          13,
          23,
          22,
          14,
          19,
          19,
          24,
          15,
          16,
          21,
          19,
          21,
          24,
          23,
          24,
          17,
          22,
          20,
          24,
          18,
          24,
          21,
          17,
          17,
          15,
          13,
          19,
          13,
          13,
          19,
          16,
          16,
          21,
          15,
          24,
          15,
          22,
          24,
          13,
          20,
          24,
          21,
          14,
          20,
          17,
          16,
          16,
          17,
          19,
          14,
          16,
          24,
          20,
          23,
          19,
          19,
          21,
          22,
          18,
          16,
          13,
          20,
          24,
          21,
          21,
          24,
          15,
          16,
          16,
          17,
          13,
          20,
          20,
          24,
          21,
          17,
          18,
          17,
          22,
          14,
          13,
          20,
          15,
          15,
          19,
          18,
          20,
          13,
          18,
          23,
          18,
          13,
          16,
          14,
          13,
          16,
          20,
          16,
          20,
          22,
          22,
          17,
          18,
          18,
          18,
          18,
          21,
          21,
          21,
          21,
          18,
          20,
          20,
          13,
          19,
          18,
          22,
          20,
          16,
          19,
          13,
          14,
          22,
          18,
          13,
          17,
          22,
          15,
          19,
          17,
          14,
          15,
          13,
          23,
          20,
          13,
          13,
          17,
          24,
          16,
          20,
          21,
          17,
          22,
          17,
          15,
          18,
          21,
          22,
          15,
          16,
          14,
          19,
          22,
          19,
          17,
          19,
          24,
          22,
          20,
          17,
          20,
          13,
          24,
          14,
          15,
          20,
          21,
          13,
          18,
          24,
          17,
          17,
          13,
          13,
          22,
          24,
          20,
          23,
          21,
          16,
          16,
          18,
          22,
          23,
          13,
          22,
          23,
          17,
          15,
          19,
          15,
          18,
          21,
          23,
          24,
          16,
          23,
          17,
          16,
          15,
          23,
          22,
          13,
          18,
          23,
          13,
          24,
          19,
          13,
          18,
          17,
          22,
          15,
          17,
          22,
          23,
          23,
          13,
          20,
          23,
          19,
          13,
          20,
          13,
          16,
          23,
          24,
          19,
          16,
          23,
          15,
          14,
          13,
          23,
          15,
          23,
          22,
          24,
          15,
          16,
          23,
          13,
          14,
          16,
          17,
          15,
          15,
          17,
          13,
          24,
          23,
          24,
          18,
          23,
          14,
          16,
          19,
          16,
          18,
          16,
          20,
          15,
          14,
          15,
          20,
          19,
          24,
          24,
          18,
          15,
          24,
          24,
          18,
          23,
          19,
          18,
          15,
          14,
          14,
          18,
          13,
          24,
          21,
          17,
          17,
          15,
          21,
          17,
          17,
          16,
          23,
          22,
          21,
          22,
          24,
          17,
          14,
          24,
          18,
          13,
          22,
          24,
          17,
          14,
          23,
          13,
          13,
          19,
          18,
          22,
          20,
          18,
          16,
          14,
          24,
          15,
          17,
          18,
          13,
          24,
          17,
          15,
          22,
          21,
          19,
          17,
          23,
          15,
          16,
          22,
          14,
          18,
          18,
          23,
          20,
          14,
          24,
          23,
          13,
          21,
          15,
          19,
          23,
          14,
          24,
          19,
          16,
          20,
          21,
          24,
          21,
          18,
          15,
          13,
          15,
          15,
          22,
          22,
          24,
          14,
          24,
          13,
          19,
          14,
          17,
          15,
          23,
          24,
          24,
          14,
          21,
          23,
          16,
          22,
          21,
          17,
          20,
          24,
          14,
          23,
          15,
          15,
          19,
          20,
          22,
          13,
          18,
          18,
          14,
          17,
          16,
          17,
          22,
          18,
          18,
          14,
          14,
          16,
          21,
          14,
          21,
          19,
          21,
          20,
          20,
          17,
          15,
          21,
          18,
          15,
          22,
          22,
          14,
          18,
          23,
          21,
          13,
          19,
          22,
          24,
          23,
          22,
          15,
          14,
          23,
          16,
          18,
          23,
          24,
          14,
          15,
          22,
          24,
          18,
          16,
          18,
          21,
          15,
          21,
          13,
          14,
          23,
          23,
          24,
          24,
          15,
          23,
          15,
          15,
          17,
          14,
          20,
          13,
          13,
          15,
          19,
          24,
          13,
          15,
          17,
          22,
          18,
          13,
          14,
          22,
          13,
          17,
          22,
          23,
          14,
          17,
          22,
          23,
          24,
          14,
          17,
          19,
          17,
          22,
          21,
          23,
          18,
          20,
          21,
          23,
          22,
          15,
          19,
          13
         ],
         "xaxis": "x",
         "yaxis": "y"
        }
       ],
       "layout": {
        "bargap": 0.05,
        "barmode": "relative",
        "barnorm": "percent",
        "legend": {
         "title": {
          "text": "Situação do cliente"
         },
         "tracegroupgap": 0
        },
        "template": {
         "data": {
          "bar": [
           {
            "error_x": {
             "color": "#2a3f5f"
            },
            "error_y": {
             "color": "#2a3f5f"
            },
            "marker": {
             "line": {
              "color": "#E5ECF6",
              "width": 0.5
             },
             "pattern": {
              "fillmode": "overlay",
              "size": 10,
              "solidity": 0.2
             }
            },
            "type": "bar"
           }
          ],
          "barpolar": [
           {
            "marker": {
             "line": {
              "color": "#E5ECF6",
              "width": 0.5
             },
             "pattern": {
              "fillmode": "overlay",
              "size": 10,
              "solidity": 0.2
             }
            },
            "type": "barpolar"
           }
          ],
          "carpet": [
           {
            "aaxis": {
             "endlinecolor": "#2a3f5f",
             "gridcolor": "white",
             "linecolor": "white",
             "minorgridcolor": "white",
             "startlinecolor": "#2a3f5f"
            },
            "baxis": {
             "endlinecolor": "#2a3f5f",
             "gridcolor": "white",
             "linecolor": "white",
             "minorgridcolor": "white",
             "startlinecolor": "#2a3f5f"
            },
            "type": "carpet"
           }
          ],
          "choropleth": [
           {
            "colorbar": {
             "outlinewidth": 0,
             "ticks": ""
            },
            "type": "choropleth"
           }
          ],
          "contour": [
           {
            "colorbar": {
             "outlinewidth": 0,
             "ticks": ""
            },
            "colorscale": [
             [
              0,
              "#0d0887"
             ],
             [
              0.1111111111111111,
              "#46039f"
             ],
             [
              0.2222222222222222,
              "#7201a8"
             ],
             [
              0.3333333333333333,
              "#9c179e"
             ],
             [
              0.4444444444444444,
              "#bd3786"
             ],
             [
              0.5555555555555556,
              "#d8576b"
             ],
             [
              0.6666666666666666,
              "#ed7953"
             ],
             [
              0.7777777777777778,
              "#fb9f3a"
             ],
             [
              0.8888888888888888,
              "#fdca26"
             ],
             [
              1,
              "#f0f921"
             ]
            ],
            "type": "contour"
           }
          ],
          "contourcarpet": [
           {
            "colorbar": {
             "outlinewidth": 0,
             "ticks": ""
            },
            "type": "contourcarpet"
           }
          ],
          "heatmap": [
           {
            "colorbar": {
             "outlinewidth": 0,
             "ticks": ""
            },
            "colorscale": [
             [
              0,
              "#0d0887"
             ],
             [
              0.1111111111111111,
              "#46039f"
             ],
             [
              0.2222222222222222,
              "#7201a8"
             ],
             [
              0.3333333333333333,
              "#9c179e"
             ],
             [
              0.4444444444444444,
              "#bd3786"
             ],
             [
              0.5555555555555556,
              "#d8576b"
             ],
             [
              0.6666666666666666,
              "#ed7953"
             ],
             [
              0.7777777777777778,
              "#fb9f3a"
             ],
             [
              0.8888888888888888,
              "#fdca26"
             ],
             [
              1,
              "#f0f921"
             ]
            ],
            "type": "heatmap"
           }
          ],
          "heatmapgl": [
           {
            "colorbar": {
             "outlinewidth": 0,
             "ticks": ""
            },
            "colorscale": [
             [
              0,
              "#0d0887"
             ],
             [
              0.1111111111111111,
              "#46039f"
             ],
             [
              0.2222222222222222,
              "#7201a8"
             ],
             [
              0.3333333333333333,
              "#9c179e"
             ],
             [
              0.4444444444444444,
              "#bd3786"
             ],
             [
              0.5555555555555556,
              "#d8576b"
             ],
             [
              0.6666666666666666,
              "#ed7953"
             ],
             [
              0.7777777777777778,
              "#fb9f3a"
             ],
             [
              0.8888888888888888,
              "#fdca26"
             ],
             [
              1,
              "#f0f921"
             ]
            ],
            "type": "heatmapgl"
           }
          ],
          "histogram": [
           {
            "marker": {
             "pattern": {
              "fillmode": "overlay",
              "size": 10,
              "solidity": 0.2
             }
            },
            "type": "histogram"
           }
          ],
          "histogram2d": [
           {
            "colorbar": {
             "outlinewidth": 0,
             "ticks": ""
            },
            "colorscale": [
             [
              0,
              "#0d0887"
             ],
             [
              0.1111111111111111,
              "#46039f"
             ],
             [
              0.2222222222222222,
              "#7201a8"
             ],
             [
              0.3333333333333333,
              "#9c179e"
             ],
             [
              0.4444444444444444,
              "#bd3786"
             ],
             [
              0.5555555555555556,
              "#d8576b"
             ],
             [
              0.6666666666666666,
              "#ed7953"
             ],
             [
              0.7777777777777778,
              "#fb9f3a"
             ],
             [
              0.8888888888888888,
              "#fdca26"
             ],
             [
              1,
              "#f0f921"
             ]
            ],
            "type": "histogram2d"
           }
          ],
          "histogram2dcontour": [
           {
            "colorbar": {
             "outlinewidth": 0,
             "ticks": ""
            },
            "colorscale": [
             [
              0,
              "#0d0887"
             ],
             [
              0.1111111111111111,
              "#46039f"
             ],
             [
              0.2222222222222222,
              "#7201a8"
             ],
             [
              0.3333333333333333,
              "#9c179e"
             ],
             [
              0.4444444444444444,
              "#bd3786"
             ],
             [
              0.5555555555555556,
              "#d8576b"
             ],
             [
              0.6666666666666666,
              "#ed7953"
             ],
             [
              0.7777777777777778,
              "#fb9f3a"
             ],
             [
              0.8888888888888888,
              "#fdca26"
             ],
             [
              1,
              "#f0f921"
             ]
            ],
            "type": "histogram2dcontour"
           }
          ],
          "mesh3d": [
           {
            "colorbar": {
             "outlinewidth": 0,
             "ticks": ""
            },
            "type": "mesh3d"
           }
          ],
          "parcoords": [
           {
            "line": {
             "colorbar": {
              "outlinewidth": 0,
              "ticks": ""
             }
            },
            "type": "parcoords"
           }
          ],
          "pie": [
           {
            "automargin": true,
            "type": "pie"
           }
          ],
          "scatter": [
           {
            "marker": {
             "colorbar": {
              "outlinewidth": 0,
              "ticks": ""
             }
            },
            "type": "scatter"
           }
          ],
          "scatter3d": [
           {
            "line": {
             "colorbar": {
              "outlinewidth": 0,
              "ticks": ""
             }
            },
            "marker": {
             "colorbar": {
              "outlinewidth": 0,
              "ticks": ""
             }
            },
            "type": "scatter3d"
           }
          ],
          "scattercarpet": [
           {
            "marker": {
             "colorbar": {
              "outlinewidth": 0,
              "ticks": ""
             }
            },
            "type": "scattercarpet"
           }
          ],
          "scattergeo": [
           {
            "marker": {
             "colorbar": {
              "outlinewidth": 0,
              "ticks": ""
             }
            },
            "type": "scattergeo"
           }
          ],
          "scattergl": [
           {
            "marker": {
             "colorbar": {
              "outlinewidth": 0,
              "ticks": ""
             }
            },
            "type": "scattergl"
           }
          ],
          "scattermapbox": [
           {
            "marker": {
             "colorbar": {
              "outlinewidth": 0,
              "ticks": ""
             }
            },
            "type": "scattermapbox"
           }
          ],
          "scatterpolar": [
           {
            "marker": {
             "colorbar": {
              "outlinewidth": 0,
              "ticks": ""
             }
            },
            "type": "scatterpolar"
           }
          ],
          "scatterpolargl": [
           {
            "marker": {
             "colorbar": {
              "outlinewidth": 0,
              "ticks": ""
             }
            },
            "type": "scatterpolargl"
           }
          ],
          "scatterternary": [
           {
            "marker": {
             "colorbar": {
              "outlinewidth": 0,
              "ticks": ""
             }
            },
            "type": "scatterternary"
           }
          ],
          "surface": [
           {
            "colorbar": {
             "outlinewidth": 0,
             "ticks": ""
            },
            "colorscale": [
             [
              0,
              "#0d0887"
             ],
             [
              0.1111111111111111,
              "#46039f"
             ],
             [
              0.2222222222222222,
              "#7201a8"
             ],
             [
              0.3333333333333333,
              "#9c179e"
             ],
             [
              0.4444444444444444,
              "#bd3786"
             ],
             [
              0.5555555555555556,
              "#d8576b"
             ],
             [
              0.6666666666666666,
              "#ed7953"
             ],
             [
              0.7777777777777778,
              "#fb9f3a"
             ],
             [
              0.8888888888888888,
              "#fdca26"
             ],
             [
              1,
              "#f0f921"
             ]
            ],
            "type": "surface"
           }
          ],
          "table": [
           {
            "cells": {
             "fill": {
              "color": "#EBF0F8"
             },
             "line": {
              "color": "white"
             }
            },
            "header": {
             "fill": {
              "color": "#C8D4E3"
             },
             "line": {
              "color": "white"
             }
            },
            "type": "table"
           }
          ]
         },
         "layout": {
          "annotationdefaults": {
           "arrowcolor": "#2a3f5f",
           "arrowhead": 0,
           "arrowwidth": 1
          },
          "autotypenumbers": "strict",
          "coloraxis": {
           "colorbar": {
            "outlinewidth": 0,
            "ticks": ""
           }
          },
          "colorscale": {
           "diverging": [
            [
             0,
             "#8e0152"
            ],
            [
             0.1,
             "#c51b7d"
            ],
            [
             0.2,
             "#de77ae"
            ],
            [
             0.3,
             "#f1b6da"
            ],
            [
             0.4,
             "#fde0ef"
            ],
            [
             0.5,
             "#f7f7f7"
            ],
            [
             0.6,
             "#e6f5d0"
            ],
            [
             0.7,
             "#b8e186"
            ],
            [
             0.8,
             "#7fbc41"
            ],
            [
             0.9,
             "#4d9221"
            ],
            [
             1,
             "#276419"
            ]
           ],
           "sequential": [
            [
             0,
             "#0d0887"
            ],
            [
             0.1111111111111111,
             "#46039f"
            ],
            [
             0.2222222222222222,
             "#7201a8"
            ],
            [
             0.3333333333333333,
             "#9c179e"
            ],
            [
             0.4444444444444444,
             "#bd3786"
            ],
            [
             0.5555555555555556,
             "#d8576b"
            ],
            [
             0.6666666666666666,
             "#ed7953"
            ],
            [
             0.7777777777777778,
             "#fb9f3a"
            ],
            [
             0.8888888888888888,
             "#fdca26"
            ],
            [
             1,
             "#f0f921"
            ]
           ],
           "sequentialminus": [
            [
             0,
             "#0d0887"
            ],
            [
             0.1111111111111111,
             "#46039f"
            ],
            [
             0.2222222222222222,
             "#7201a8"
            ],
            [
             0.3333333333333333,
             "#9c179e"
            ],
            [
             0.4444444444444444,
             "#bd3786"
            ],
            [
             0.5555555555555556,
             "#d8576b"
            ],
            [
             0.6666666666666666,
             "#ed7953"
            ],
            [
             0.7777777777777778,
             "#fb9f3a"
            ],
            [
             0.8888888888888888,
             "#fdca26"
            ],
            [
             1,
             "#f0f921"
            ]
           ]
          },
          "colorway": [
           "#636efa",
           "#EF553B",
           "#00cc96",
           "#ab63fa",
           "#FFA15A",
           "#19d3f3",
           "#FF6692",
           "#B6E880",
           "#FF97FF",
           "#FECB52"
          ],
          "font": {
           "color": "#2a3f5f"
          },
          "geo": {
           "bgcolor": "white",
           "lakecolor": "white",
           "landcolor": "#E5ECF6",
           "showlakes": true,
           "showland": true,
           "subunitcolor": "white"
          },
          "hoverlabel": {
           "align": "left"
          },
          "hovermode": "closest",
          "mapbox": {
           "style": "light"
          },
          "paper_bgcolor": "white",
          "plot_bgcolor": "#E5ECF6",
          "polar": {
           "angularaxis": {
            "gridcolor": "white",
            "linecolor": "white",
            "ticks": ""
           },
           "bgcolor": "#E5ECF6",
           "radialaxis": {
            "gridcolor": "white",
            "linecolor": "white",
            "ticks": ""
           }
          },
          "scene": {
           "xaxis": {
            "backgroundcolor": "#E5ECF6",
            "gridcolor": "white",
            "gridwidth": 2,
            "linecolor": "white",
            "showbackground": true,
            "ticks": "",
            "zerolinecolor": "white"
           },
           "yaxis": {
            "backgroundcolor": "#E5ECF6",
            "gridcolor": "white",
            "gridwidth": 2,
            "linecolor": "white",
            "showbackground": true,
            "ticks": "",
            "zerolinecolor": "white"
           },
           "zaxis": {
            "backgroundcolor": "#E5ECF6",
            "gridcolor": "white",
            "gridwidth": 2,
            "linecolor": "white",
            "showbackground": true,
            "ticks": "",
            "zerolinecolor": "white"
           }
          },
          "shapedefaults": {
           "line": {
            "color": "#2a3f5f"
           }
          },
          "ternary": {
           "aaxis": {
            "gridcolor": "white",
            "linecolor": "white",
            "ticks": ""
           },
           "baxis": {
            "gridcolor": "white",
            "linecolor": "white",
            "ticks": ""
           },
           "bgcolor": "#E5ECF6",
           "caxis": {
            "gridcolor": "white",
            "linecolor": "white",
            "ticks": ""
           }
          },
          "title": {
           "x": 0.05
          },
          "xaxis": {
           "automargin": true,
           "gridcolor": "white",
           "linecolor": "white",
           "ticks": "",
           "title": {
            "standoff": 15
           },
           "zerolinecolor": "white",
           "zerolinewidth": 2
          },
          "yaxis": {
           "automargin": true,
           "gridcolor": "white",
           "linecolor": "white",
           "ticks": "",
           "title": {
            "standoff": 15
           },
           "zerolinecolor": "white",
           "zerolinewidth": 2
          }
         }
        },
        "title": {
         "text": "Situação dos clientes em relação à duração do contrato"
        },
        "xaxis": {
         "anchor": "y",
         "domain": [
          0,
          1
         ],
         "title": {
          "text": "Duração do plano"
         }
        },
        "yaxis": {
         "anchor": "x",
         "domain": [
          0,
          1
         ],
         "title": {
          "text": "count (normalized as percent)"
         }
        }
       }
      }
     },
     "metadata": {},
     "output_type": "display_data"
    }
   ],
   "source": [
    "clientes_2y = df.loc[df['Meses_Contrato'].between(13,24,inclusive='both')]\n",
    "clientes_2y = clientes_2y[['Cliente_Inativo','Meses_Contrato','Valor_Mensal','Valor_Anual']]\n",
    "clientes_2y.columns = ['Situação do cliente','Duração do plano', 'Valor mensal do plano','Valor anual do plano']\n",
    "clientes_2y['Situação do cliente'] = clientes_2y['Situação do cliente'].map({0:'Ativo', 1:'Inativo'})\n",
    "\n",
    "# Plotando\n",
    "fig = px.histogram(clientes_2y, x=\"Duração do plano\", color = \"Situação do cliente\", nbins = 8,\n",
    "    title=\"Situação dos clientes em relação à duração do contrato\", barnorm='percent')\n",
    "fig.update_traces( opacity=0.8, marker_line_width=1.5, marker_line_color = 'rgb(0,0,0)')\n",
    "fig.update_layout(bargap=0.05)\n",
    "fig.show()"
   ]
  },
  {
   "cell_type": "markdown",
   "metadata": {},
   "source": [
    "## **4.4 - Relação da taxa de cancelamento com a qualidade do serviço**"
   ]
  },
  {
   "cell_type": "markdown",
   "metadata": {},
   "source": [
    "### **4.4.1 - Serviço de telefone**"
   ]
  },
  {
   "cell_type": "code",
   "execution_count": 27,
   "metadata": {},
   "outputs": [
    {
     "data": {
      "text/plain": [
       "<pandas.core.groupby.generic.DataFrameGroupBy object at 0x00000227318E9A00>"
      ]
     },
     "execution_count": 27,
     "metadata": {},
     "output_type": "execute_result"
    }
   ],
   "source": [
    "df_plot = df[['Cliente_Inativo','Assinatura_Telefone','Assinatura_MultiTelefone']]"
   ]
  },
  {
   "cell_type": "code",
   "execution_count": null,
   "metadata": {},
   "outputs": [],
   "source": [
    "\n",
    "fig = px.histogram(df_plot, x=\"Assinatura_Telefone\", color = \"Cliente_Inativo\",\n",
    "    title=\"Situação dos clientes em relação à duração do contrato\", barnorm='percent')\n",
    "fig.update_traces( opacity=0.8, marker_line_width=1.5, marker_line_color = 'rgb(0,0,0)')\n",
    "fig.update_layout(bargap=0.05)\n",
    "fig.show()"
   ]
  },
  {
   "cell_type": "code",
   "execution_count": null,
   "metadata": {},
   "outputs": [],
   "source": []
  }
 ],
 "metadata": {
  "interpreter": {
   "hash": "269bf4e79fdb6fc856ac2b80824b46a6d4d5769f328944c23985fe6090d7e5ff"
  },
  "kernelspec": {
   "display_name": "Python 3.8.12 ('base')",
   "language": "python",
   "name": "python3"
  },
  "language_info": {
   "codemirror_mode": {
    "name": "ipython",
    "version": 3
   },
   "file_extension": ".py",
   "mimetype": "text/x-python",
   "name": "python",
   "nbconvert_exporter": "python",
   "pygments_lexer": "ipython3",
   "version": "3.8.12"
  },
  "orig_nbformat": 4
 },
 "nbformat": 4,
 "nbformat_minor": 2
}
